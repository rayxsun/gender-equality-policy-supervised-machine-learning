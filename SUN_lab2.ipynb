{
  "nbformat": 4,
  "nbformat_minor": 0,
  "metadata": {
    "colab": {
      "provenance": [],
      "authorship_tag": "ABX9TyPaRWYresbuQ4IfD79p404Z",
      "include_colab_link": true
    },
    "kernelspec": {
      "name": "python3",
      "display_name": "Python 3"
    },
    "language_info": {
      "name": "python"
    }
  },
  "cells": [
    {
      "cell_type": "markdown",
      "metadata": {
        "id": "view-in-github",
        "colab_type": "text"
      },
      "source": [
        "<a href=\"https://colab.research.google.com/github/rayxsun/gender-equality-policy-supervised-machine-learning/blob/main/SUN_lab2.ipynb\" target=\"_parent\"><img src=\"https://colab.research.google.com/assets/colab-badge.svg\" alt=\"Open In Colab\"/></a>"
      ]
    },
    {
      "cell_type": "markdown",
      "source": [],
      "metadata": {
        "id": "4Qny9zl9C9j2"
      }
    },
    {
      "cell_type": "markdown",
      "source": [
        "Apply unsupervised machine learning method to discover patterns or structures in texts.\n",
        "\n",
        "Your submission/paper should explain the following within 2 pages (12 pt, double-spaced):\n",
        "\n",
        "1. In one paragraph, explain your research question or goal, the corpus you use to answer your question, and the method you apply.\n",
        "\n",
        "2. In one to two paragraphs, explain your unit of analysis (what is one document & what are the features of texts you use) and the pre-processing and vectorization steps. Justify your pre-processing steps.\n",
        "\n",
        "3. In two to three paragraphs, explain your \"model specification\" (e.g., number of topics/clusters), and present and interpret the results.\n",
        "\n",
        "4. In one short paragraph, explain whether the unsupervised method is appropriate for your research goal (it might not be). If the method was not theoratically appropriate, are the results informative or helpful for your research goal?\n",
        "\n",
        "The identified clusters or topics can be presented in tables -- which do not count towards the 2pg limit of your paper.\n",
        "\n",
        "You are encouraged to use your own textual data. You can also use the manifesto texts (full or any subset of it) we provided.\n",
        "\n",
        "If your texts are not in English, please translate the topic or cluster words into English.\n",
        "\n"
      ],
      "metadata": {
        "id": "6VgDBJLu5v-a"
      }
    },
    {
      "cell_type": "code",
      "source": [
        "# mount Google drive\n",
        "\n",
        "from google.colab import drive\n",
        "drive.mount('/content/drive')"
      ],
      "metadata": {
        "colab": {
          "base_uri": "https://localhost:8080/"
        },
        "id": "fXNars-t530U",
        "outputId": "d8c6d019-f53b-4770-9ef4-f63e9481caaa"
      },
      "execution_count": null,
      "outputs": [
        {
          "output_type": "stream",
          "name": "stdout",
          "text": [
            "Mounted at /content/drive\n"
          ]
        }
      ]
    },
    {
      "cell_type": "code",
      "source": [
        "data_path = '/content/drive/My Drive/Colab/ICPSR/assignment/'"
      ],
      "metadata": {
        "id": "qdqbiodl54Bo"
      },
      "execution_count": null,
      "outputs": []
    },
    {
      "cell_type": "code",
      "source": [
        "# import modules\n",
        "\n",
        "import pandas as pd\n",
        "import seaborn as sns\n",
        "import matplotlib.pyplot as plt\n",
        "import numpy as np"
      ],
      "metadata": {
        "id": "XPMv9kqw54ES"
      },
      "execution_count": null,
      "outputs": []
    },
    {
      "cell_type": "code",
      "source": [
        "import gensim # for english\n",
        "from gensim import models\n",
        "from gensim.corpora.dictionary import Dictionary\n",
        "\n",
        "# for LDA\n",
        "from gensim.models.ldamodel import LdaModel, CoherenceModel\n"
      ],
      "metadata": {
        "id": "9fZ0VmkC54HK"
      },
      "execution_count": null,
      "outputs": []
    },
    {
      "cell_type": "code",
      "source": [
        "# For preprocessing\n",
        "from gensim.parsing.preprocessing import STOPWORDS, remove_stopwords\n",
        "from gensim.parsing.preprocessing import strip_punctuation\n",
        "from gensim.parsing.preprocessing import stem_text\n",
        "from gensim.parsing.preprocessing import strip_multiple_whitespaces\n",
        "from gensim.parsing.preprocessing import strip_numeric, strip_short\n",
        "from gensim.parsing.preprocessing import preprocess_string, strip_tags\n"
      ],
      "metadata": {
        "id": "zdbGuywr6RwK"
      },
      "execution_count": null,
      "outputs": []
    },
    {
      "cell_type": "code",
      "source": [
        "dt= pd.read_csv(data_path + 'news_article.csv')"
      ],
      "metadata": {
        "id": "IKiDm3mu6bC4"
      },
      "execution_count": null,
      "outputs": []
    },
    {
      "cell_type": "code",
      "source": [
        "dt.head()"
      ],
      "metadata": {
        "colab": {
          "base_uri": "https://localhost:8080/",
          "height": 206
        },
        "id": "CZwIERXJ6lR0",
        "outputId": "0510c84c-42dd-4e1a-ecfe-c5b3834a42fe"
      },
      "execution_count": null,
      "outputs": [
        {
          "output_type": "execute_result",
          "data": {
            "text/plain": [
              "          articleid                                               text  \\\n",
              "0  Daily_2017_07-05  Working fathers in East China's Jiangsu provin...   \n",
              "1  Daily_2021_03-10  CPPCC member Chen Xia appeals for greater chil...   \n",
              "2  Daily_2021_07-07  More details needed on how third-child policy ...   \n",
              "3  Daily_2022_01-12  BEIJING - The moment they are picked up from k...   \n",
              "4  Daily_2022_03-04  As China's demographic development is at a key...   \n",
              "\n",
              "        date  year source  \n",
              "0   5-Jul-17  2017  Daily  \n",
              "1  10-Mar-21  2021  Daily  \n",
              "2   7-Jul-21  2021  Daily  \n",
              "3  12-Jan-22  2022  Daily  \n",
              "4   4-Mar-22  2022  Daily  "
            ],
            "text/html": [
              "\n",
              "  <div id=\"df-3dda6155-1201-425a-ba1f-fc3d1d09238c\" class=\"colab-df-container\">\n",
              "    <div>\n",
              "<style scoped>\n",
              "    .dataframe tbody tr th:only-of-type {\n",
              "        vertical-align: middle;\n",
              "    }\n",
              "\n",
              "    .dataframe tbody tr th {\n",
              "        vertical-align: top;\n",
              "    }\n",
              "\n",
              "    .dataframe thead th {\n",
              "        text-align: right;\n",
              "    }\n",
              "</style>\n",
              "<table border=\"1\" class=\"dataframe\">\n",
              "  <thead>\n",
              "    <tr style=\"text-align: right;\">\n",
              "      <th></th>\n",
              "      <th>articleid</th>\n",
              "      <th>text</th>\n",
              "      <th>date</th>\n",
              "      <th>year</th>\n",
              "      <th>source</th>\n",
              "    </tr>\n",
              "  </thead>\n",
              "  <tbody>\n",
              "    <tr>\n",
              "      <th>0</th>\n",
              "      <td>Daily_2017_07-05</td>\n",
              "      <td>Working fathers in East China's Jiangsu provin...</td>\n",
              "      <td>5-Jul-17</td>\n",
              "      <td>2017</td>\n",
              "      <td>Daily</td>\n",
              "    </tr>\n",
              "    <tr>\n",
              "      <th>1</th>\n",
              "      <td>Daily_2021_03-10</td>\n",
              "      <td>CPPCC member Chen Xia appeals for greater chil...</td>\n",
              "      <td>10-Mar-21</td>\n",
              "      <td>2021</td>\n",
              "      <td>Daily</td>\n",
              "    </tr>\n",
              "    <tr>\n",
              "      <th>2</th>\n",
              "      <td>Daily_2021_07-07</td>\n",
              "      <td>More details needed on how third-child policy ...</td>\n",
              "      <td>7-Jul-21</td>\n",
              "      <td>2021</td>\n",
              "      <td>Daily</td>\n",
              "    </tr>\n",
              "    <tr>\n",
              "      <th>3</th>\n",
              "      <td>Daily_2022_01-12</td>\n",
              "      <td>BEIJING - The moment they are picked up from k...</td>\n",
              "      <td>12-Jan-22</td>\n",
              "      <td>2022</td>\n",
              "      <td>Daily</td>\n",
              "    </tr>\n",
              "    <tr>\n",
              "      <th>4</th>\n",
              "      <td>Daily_2022_03-04</td>\n",
              "      <td>As China's demographic development is at a key...</td>\n",
              "      <td>4-Mar-22</td>\n",
              "      <td>2022</td>\n",
              "      <td>Daily</td>\n",
              "    </tr>\n",
              "  </tbody>\n",
              "</table>\n",
              "</div>\n",
              "    <div class=\"colab-df-buttons\">\n",
              "\n",
              "  <div class=\"colab-df-container\">\n",
              "    <button class=\"colab-df-convert\" onclick=\"convertToInteractive('df-3dda6155-1201-425a-ba1f-fc3d1d09238c')\"\n",
              "            title=\"Convert this dataframe to an interactive table.\"\n",
              "            style=\"display:none;\">\n",
              "\n",
              "  <svg xmlns=\"http://www.w3.org/2000/svg\" height=\"24px\" viewBox=\"0 -960 960 960\">\n",
              "    <path d=\"M120-120v-720h720v720H120Zm60-500h600v-160H180v160Zm220 220h160v-160H400v160Zm0 220h160v-160H400v160ZM180-400h160v-160H180v160Zm440 0h160v-160H620v160ZM180-180h160v-160H180v160Zm440 0h160v-160H620v160Z\"/>\n",
              "  </svg>\n",
              "    </button>\n",
              "\n",
              "  <style>\n",
              "    .colab-df-container {\n",
              "      display:flex;\n",
              "      gap: 12px;\n",
              "    }\n",
              "\n",
              "    .colab-df-convert {\n",
              "      background-color: #E8F0FE;\n",
              "      border: none;\n",
              "      border-radius: 50%;\n",
              "      cursor: pointer;\n",
              "      display: none;\n",
              "      fill: #1967D2;\n",
              "      height: 32px;\n",
              "      padding: 0 0 0 0;\n",
              "      width: 32px;\n",
              "    }\n",
              "\n",
              "    .colab-df-convert:hover {\n",
              "      background-color: #E2EBFA;\n",
              "      box-shadow: 0px 1px 2px rgba(60, 64, 67, 0.3), 0px 1px 3px 1px rgba(60, 64, 67, 0.15);\n",
              "      fill: #174EA6;\n",
              "    }\n",
              "\n",
              "    .colab-df-buttons div {\n",
              "      margin-bottom: 4px;\n",
              "    }\n",
              "\n",
              "    [theme=dark] .colab-df-convert {\n",
              "      background-color: #3B4455;\n",
              "      fill: #D2E3FC;\n",
              "    }\n",
              "\n",
              "    [theme=dark] .colab-df-convert:hover {\n",
              "      background-color: #434B5C;\n",
              "      box-shadow: 0px 1px 3px 1px rgba(0, 0, 0, 0.15);\n",
              "      filter: drop-shadow(0px 1px 2px rgba(0, 0, 0, 0.3));\n",
              "      fill: #FFFFFF;\n",
              "    }\n",
              "  </style>\n",
              "\n",
              "    <script>\n",
              "      const buttonEl =\n",
              "        document.querySelector('#df-3dda6155-1201-425a-ba1f-fc3d1d09238c button.colab-df-convert');\n",
              "      buttonEl.style.display =\n",
              "        google.colab.kernel.accessAllowed ? 'block' : 'none';\n",
              "\n",
              "      async function convertToInteractive(key) {\n",
              "        const element = document.querySelector('#df-3dda6155-1201-425a-ba1f-fc3d1d09238c');\n",
              "        const dataTable =\n",
              "          await google.colab.kernel.invokeFunction('convertToInteractive',\n",
              "                                                    [key], {});\n",
              "        if (!dataTable) return;\n",
              "\n",
              "        const docLinkHtml = 'Like what you see? Visit the ' +\n",
              "          '<a target=\"_blank\" href=https://colab.research.google.com/notebooks/data_table.ipynb>data table notebook</a>'\n",
              "          + ' to learn more about interactive tables.';\n",
              "        element.innerHTML = '';\n",
              "        dataTable['output_type'] = 'display_data';\n",
              "        await google.colab.output.renderOutput(dataTable, element);\n",
              "        const docLink = document.createElement('div');\n",
              "        docLink.innerHTML = docLinkHtml;\n",
              "        element.appendChild(docLink);\n",
              "      }\n",
              "    </script>\n",
              "  </div>\n",
              "\n",
              "\n",
              "<div id=\"df-ff1c5a45-1048-48c3-b559-9e75a5c43d55\">\n",
              "  <button class=\"colab-df-quickchart\" onclick=\"quickchart('df-ff1c5a45-1048-48c3-b559-9e75a5c43d55')\"\n",
              "            title=\"Suggest charts\"\n",
              "            style=\"display:none;\">\n",
              "\n",
              "<svg xmlns=\"http://www.w3.org/2000/svg\" height=\"24px\"viewBox=\"0 0 24 24\"\n",
              "     width=\"24px\">\n",
              "    <g>\n",
              "        <path d=\"M19 3H5c-1.1 0-2 .9-2 2v14c0 1.1.9 2 2 2h14c1.1 0 2-.9 2-2V5c0-1.1-.9-2-2-2zM9 17H7v-7h2v7zm4 0h-2V7h2v10zm4 0h-2v-4h2v4z\"/>\n",
              "    </g>\n",
              "</svg>\n",
              "  </button>\n",
              "\n",
              "<style>\n",
              "  .colab-df-quickchart {\n",
              "      --bg-color: #E8F0FE;\n",
              "      --fill-color: #1967D2;\n",
              "      --hover-bg-color: #E2EBFA;\n",
              "      --hover-fill-color: #174EA6;\n",
              "      --disabled-fill-color: #AAA;\n",
              "      --disabled-bg-color: #DDD;\n",
              "  }\n",
              "\n",
              "  [theme=dark] .colab-df-quickchart {\n",
              "      --bg-color: #3B4455;\n",
              "      --fill-color: #D2E3FC;\n",
              "      --hover-bg-color: #434B5C;\n",
              "      --hover-fill-color: #FFFFFF;\n",
              "      --disabled-bg-color: #3B4455;\n",
              "      --disabled-fill-color: #666;\n",
              "  }\n",
              "\n",
              "  .colab-df-quickchart {\n",
              "    background-color: var(--bg-color);\n",
              "    border: none;\n",
              "    border-radius: 50%;\n",
              "    cursor: pointer;\n",
              "    display: none;\n",
              "    fill: var(--fill-color);\n",
              "    height: 32px;\n",
              "    padding: 0;\n",
              "    width: 32px;\n",
              "  }\n",
              "\n",
              "  .colab-df-quickchart:hover {\n",
              "    background-color: var(--hover-bg-color);\n",
              "    box-shadow: 0 1px 2px rgba(60, 64, 67, 0.3), 0 1px 3px 1px rgba(60, 64, 67, 0.15);\n",
              "    fill: var(--button-hover-fill-color);\n",
              "  }\n",
              "\n",
              "  .colab-df-quickchart-complete:disabled,\n",
              "  .colab-df-quickchart-complete:disabled:hover {\n",
              "    background-color: var(--disabled-bg-color);\n",
              "    fill: var(--disabled-fill-color);\n",
              "    box-shadow: none;\n",
              "  }\n",
              "\n",
              "  .colab-df-spinner {\n",
              "    border: 2px solid var(--fill-color);\n",
              "    border-color: transparent;\n",
              "    border-bottom-color: var(--fill-color);\n",
              "    animation:\n",
              "      spin 1s steps(1) infinite;\n",
              "  }\n",
              "\n",
              "  @keyframes spin {\n",
              "    0% {\n",
              "      border-color: transparent;\n",
              "      border-bottom-color: var(--fill-color);\n",
              "      border-left-color: var(--fill-color);\n",
              "    }\n",
              "    20% {\n",
              "      border-color: transparent;\n",
              "      border-left-color: var(--fill-color);\n",
              "      border-top-color: var(--fill-color);\n",
              "    }\n",
              "    30% {\n",
              "      border-color: transparent;\n",
              "      border-left-color: var(--fill-color);\n",
              "      border-top-color: var(--fill-color);\n",
              "      border-right-color: var(--fill-color);\n",
              "    }\n",
              "    40% {\n",
              "      border-color: transparent;\n",
              "      border-right-color: var(--fill-color);\n",
              "      border-top-color: var(--fill-color);\n",
              "    }\n",
              "    60% {\n",
              "      border-color: transparent;\n",
              "      border-right-color: var(--fill-color);\n",
              "    }\n",
              "    80% {\n",
              "      border-color: transparent;\n",
              "      border-right-color: var(--fill-color);\n",
              "      border-bottom-color: var(--fill-color);\n",
              "    }\n",
              "    90% {\n",
              "      border-color: transparent;\n",
              "      border-bottom-color: var(--fill-color);\n",
              "    }\n",
              "  }\n",
              "</style>\n",
              "\n",
              "  <script>\n",
              "    async function quickchart(key) {\n",
              "      const quickchartButtonEl =\n",
              "        document.querySelector('#' + key + ' button');\n",
              "      quickchartButtonEl.disabled = true;  // To prevent multiple clicks.\n",
              "      quickchartButtonEl.classList.add('colab-df-spinner');\n",
              "      try {\n",
              "        const charts = await google.colab.kernel.invokeFunction(\n",
              "            'suggestCharts', [key], {});\n",
              "      } catch (error) {\n",
              "        console.error('Error during call to suggestCharts:', error);\n",
              "      }\n",
              "      quickchartButtonEl.classList.remove('colab-df-spinner');\n",
              "      quickchartButtonEl.classList.add('colab-df-quickchart-complete');\n",
              "    }\n",
              "    (() => {\n",
              "      let quickchartButtonEl =\n",
              "        document.querySelector('#df-ff1c5a45-1048-48c3-b559-9e75a5c43d55 button');\n",
              "      quickchartButtonEl.style.display =\n",
              "        google.colab.kernel.accessAllowed ? 'block' : 'none';\n",
              "    })();\n",
              "  </script>\n",
              "</div>\n",
              "\n",
              "    </div>\n",
              "  </div>\n"
            ],
            "application/vnd.google.colaboratory.intrinsic+json": {
              "type": "dataframe",
              "variable_name": "dt",
              "summary": "{\n  \"name\": \"dt\",\n  \"rows\": 19,\n  \"fields\": [\n    {\n      \"column\": \"articleid\",\n      \"properties\": {\n        \"dtype\": \"string\",\n        \"num_unique_values\": 19,\n        \"samples\": [\n          \"Daily_2017_07-05\",\n          \"Daily_2023_06-13\",\n          \"Global_2024_07-12\"\n        ],\n        \"semantic_type\": \"\",\n        \"description\": \"\"\n      }\n    },\n    {\n      \"column\": \"text\",\n      \"properties\": {\n        \"dtype\": \"string\",\n        \"num_unique_values\": 19,\n        \"samples\": [\n          \"Working fathers in East China's Jiangsu province can now take up to 30 days paid paternity leave to care for their newborns - double the amount of time in most other Chinese provinces. The Jiangsu government's legal office has drafted a local regulation to solicit public opinions on the change, which stipulates that new fathers can have 15 days paternity leave and an additional 15 days of \\\"joint parental leave\\\". It is designed to \\\"promote gender equality in employment\\\" and \\\"encourage husbands and wives to share the housework\\\", the government said. The move has been welcomed by parents and netizens alike. Zhong Lei, father of a 4-year-old girl from Nanjing, said he is now considering having a second child because of the change. \\\"It was a nightmare when my daughter was born, especially for my wife,\\\" he said. \\\"As a new mother, she needed help and I was not there for her. It will be great to have a month off work to take care of her and the newborn.\\\" According to the Jiangsu Women's Federation, China does not have a nationwide regulation for paternity leave. Each province and municipality regulates their own paternity leave, which varies from 10 to 15 days. Huang Xinwei, a pregnancy and postpartum psychology specialist at Nanjing Maternity and Child Health Hospital, said a longer period of paternity leave benefits both wives and husbands. \\\"Learning how to take care of newborns helps to foster a good father-child relationship. It also helps the fathers to realize how difficult life can be for new mothers,\\\" he said. \\\"Many new mothers have postpartum depression to some degree. It is important for them to be accompanied by family members, especially by the husbands. The sooner fathers take a part in raising their children, the better.\\\" Meng Xiaosi, a Standing Committee member of the CPPCC National Committee and vice-president of the Secretariat of the All-China Women's Federation, said during this year's two sessions in March that many women choose not to have a second child due to lack of child care support and financial pressure. She called for longer paid paternity leave for both husbands and wives. However, concerns have been raised that more time off work may increase costs for enterprises and affect the careers of fathers taking leave. \\\"It's possible that I may be transferred from my current post to a less important one,\\\" said Zhong, the father. \\\"I would not be surprised if private companies place more emphasis on job applicants' marital status after this change. The government should take more responsibility, including giving subsidies to companies.\\\" \",\n          \"Last month, the China Family Planning Association announced the launch of a new round of pilot projects in 20 municipal-level regions to foster a \\\"new-era \\\"marriage and childbearing culture as part of efforts to create a fertility-friendly environment. The first batch of regional pilot projects was introduced in June last year. Wang Pei'an, deputy director of the 13th National Committee of the Chinese People's Political Consultative Conference's population, resources and environment committee and executive vice president of the association, explained the initiative during a question-and-answer session with China Daily. Q: How has China's marriage and childbirth culture changed over the years? A: Young Chinese are increasingly embracing the trend of delaying marriage and having children, and tend to have fewer children overall. Meanwhile, more people are opting to get divorced, never marry, or have no children. Childbearing is no longer seen as a \\\"must\\\". Among college students, a happy marriage and stable career are priorities when they consider having children, and they no longer feel ashamed about divorce. Compared with their parents' generation, their low desire to have children stems from personal choice. There are several reasons for these changes, including more years spent at school that delay marriage and plans to have children, and women's anxiety about balancing child-raising and advancing their careers. Many young people now attach greater importance to personal advancement and realizing self-worth. The cost of raising a child has also risen significantly, prompting complaints from families. The average size of households is shrinking - from 3.44 people per household in 2000 to 2.62 in 2020 - as trends such as DINK (double income no kids) become more prevalent. Q: When and why was the concept of a \\\"new-era\\\" marriage and childbearing culture raised? A: The concept has been proposed as China faces a low fertility rate, a rising aging population, and uneven cross- regional population growth. The number of children women of childbearing age plan to have is falling, and the nation's average fertility rate dropped from 2 in 1992 to 1.15 in 2021. However, in Chinese culture, families still play an irreplaceable and fundamental role in providing care for the elderly and children. They also offer emotional and economic support, as well as advancing production, community management and promoting civilization across society. This concept has been formulated to meet people's aspirations for better lives. The \\\"new-era\\\" marriage and childbearing culture focuses on promoting marriage and having children at proper ages, improving prenatal and postnatal care services, encouraging couples to share child-rearing responsibilities, and curbing the high costs of betrothal gifts and other outdated customs. Q: Many young adults equate marrying at the right age to losing career advancement opportunities. What do you think? A: From 2010 to 2020, the average age for a first marriage rose by 3.63 years for men and 3.95 years for women. Getting married and having children can divert women's time and energy and potentially affect their performance at work. The Chinese authorities have introduced new rules on parental leave, along with other supportive measures aimed at reducing the impact of marriage and child-raising on young people's careers and personal development. To help them strike a balance between having a family and their careers, it is important to foster societal recognition of the value of marrying and having children at proper ages. It is also important to build a system to spread child-raising costs across different sectors to prevent enterprises incurring economic losses due to hiring female employees, and to address young people's concerns. Q: Why is it important to promote gender equality and sharing the burden of raising children between couples? A: Gender inequality in families could exacerbate work-family conflicts among female workers. Facing pressure from work and family, many women who see bright career prospects are unwilling to have children. Promoting gender equality can enhance marital relationships and encourage women to have children. It is important to tap into the positive effects that gender equality can have on increasing fertility, and to make sharing the responsibilities of child care a consensus and custom observed by all of society. Q: What additional measures should be introduced to build a fertility-friendly environment? A: It takes time for supportive measures, such as tax deductions to offset the cost of raising a child, issuing fertility subsidies, and extending paternity and maternity leave, to produce results. More efforts are needed to step up supportive policies on tax and housing, promote equal access to high quality education resources, offer incentives for employers who guarantee employees reproductive rights, and strengthen support for nursery care service providers and manufacturers of related products. It is also important to improve nursery care services, upgrade maternity and paternity leave regulations, encourage the elderly to care for babies, guide young people in valuing the family, and advance the development of families. Q: What experience has been gained from implementing the initiative in the first batch of pilot regions? A: Authorities in these regions have launched awareness campaigns, such as making advocacy videos and posters, and getting volunteers, experts and different government departments to join efforts to strengthen publicity. Some regions have taken note of local groups' views. For example, the authorities in Lijiang, Yunnan province, have included objections from the Naxi ethnic group to high bride prices. Meanwhile, in Ningbo, Zhejiang province, parent-child activities have been organized and a large number of fathers have explained their role in sharing responsibilities. In Harbin, Heilongjiang province, group weddings have been held for newlyweds, who have been given brochures and related packages as part of measures to foster a new fashion of marriage.\",\n          \"A medical staff member cares for a newborn at the neonatal care unit of a hospital in Lianyungang, East China's Jiangsu Province on January 1, 2024. China has established a childbearing and child-rearing supporting system, with a number of policies rolled out in localities across the country, including extending maternity leave to 158 days or longer, raising childbirth allowance and child-rearing subsidies, and providing more professional and affordable babysitter services at childcare institutions, Central China Television reported on Thursday, the 35th World Population Day, citing officials from China's National Health Commission (NHC). A demographer suggested that these policy measures should be further strengthened and added to cope with the fundamental concerns of young people, such as employment stability while more equitable income distribution, should be taken into consideration to boost China's birth rates. Themed under advocating a focus on family education and traditions and cultivation of marriage and child-rearing by the NHC, this year's population day aims to raise public awareness about further addressing China's declining birth rates in recent years and the demographic issues that may affect China's sustainable development. According to the NHC, all provinces have extended maternity leave by 60 days or more, and have set 15 days of paternity leave for families with newborns. In addition, five to 20 days of parental leave are given each year for families with toddlers, with all the provinces having extended their maternity leaves to 158 days or above. Compared with merely extending maternity leave, assuring women's employment after childbirth while offering flexible working hours may have a stronger positive effect, Li Jianmin, a professor of demography with the Institute of Population and Development at Nankai University, told the Global Times on Thursday. In order to alleviate the financial burden of childbearing, child-rearing and education, China established in 2022 the individual income tax special additional deduction for infants nursing for three years, with the deduction standard being 1,000 yuan ($137.53) per month for each child. In 2023, the threshold for special additional income tax deductions for taking care of children under age three was raised from 1,000 yuan to 2,000 yuan each month. Besides, subsidy policies for childbirth and child-rearing have been explored and rolled out in localities across the country. The subsidies offered in Southwest China's Yunnan Province and Northwest China's Ningxia Hui Autonomous Region have covered the entire provincial regions. Yunnan provides a one-time subsidy of 2,000 yuan and 5,000 yuan to families having a second and third child, respectively, along with an annual childcare subsidy of 800 yuan until the child turns three years old. Ningxia offers a one-time subsidy of 2,000 yuan and 4,000 yuan to families having a second and third child, respectively, and a monthly subsidy of no less than 200 yuan to families with a third child until the child reaches three years old. According to Li, rather than introducing the individual income tax special additional deduction which has little impact on low-income families, the root cause of high costs of child-rearing expenses and the problems relating to income distribution must be addressed. Moreover, a unified national policy on subsidies should be introduced since governments in localities at all levels are currently acting according to their own financial capabilities with most subsidies being temporary and not being able to be sustained in the long run, Li said. According to the NHC, a lack of childcare services for infants and toddlers aged up to three years old is one of the major factors holding back childbirth. Last year, the NHC and China's National Development and Reform Commission selected 33 cities as the first batch of demonstration cities for national infant and toddler childcare service, and introduced relevant policies to support and encourage the development of affordable childcare services. One of the 33 demonstration cities, Nanjing in East China's Jiangsu Province has adopted measures such as offering financial subsidies, providing venues, reducing rents and giving tax incentives to encourage social forces to participate in the establishment of an affordable childcare service system. On top of that, Li noted that policies that ensure stable employment and certainty around income will have positive effect on their family planning decisions. China continues to make efforts to improve comprehensive prevention and treatment capabilities for birth defects with the nationwide infant mortality rate and the mortality rate of children under 5 years old due to birth defects both decreasing by over 30 percent compared with five years ago.\"\n        ],\n        \"semantic_type\": \"\",\n        \"description\": \"\"\n      }\n    },\n    {\n      \"column\": \"date\",\n      \"properties\": {\n        \"dtype\": \"object\",\n        \"num_unique_values\": 19,\n        \"samples\": [\n          \"5-Jul-17\",\n          \"13-Jun-23\",\n          \"12-Jul-24\"\n        ],\n        \"semantic_type\": \"\",\n        \"description\": \"\"\n      }\n    },\n    {\n      \"column\": \"year\",\n      \"properties\": {\n        \"dtype\": \"number\",\n        \"std\": 2,\n        \"min\": 2017,\n        \"max\": 2024,\n        \"num_unique_values\": 7,\n        \"samples\": [\n          2017,\n          2021,\n          2018\n        ],\n        \"semantic_type\": \"\",\n        \"description\": \"\"\n      }\n    },\n    {\n      \"column\": \"source\",\n      \"properties\": {\n        \"dtype\": \"category\",\n        \"num_unique_values\": 3,\n        \"samples\": [\n          \"Daily\",\n          \"Global\",\n          \"Xinhua\"\n        ],\n        \"semantic_type\": \"\",\n        \"description\": \"\"\n      }\n    }\n  ]\n}"
            }
          },
          "metadata": {},
          "execution_count": 7
        }
      ]
    },
    {
      "cell_type": "markdown",
      "source": [
        "unit: article"
      ],
      "metadata": {
        "id": "_FsvvsAj6yff"
      }
    },
    {
      "cell_type": "code",
      "source": [
        "len(dt)"
      ],
      "metadata": {
        "colab": {
          "base_uri": "https://localhost:8080/"
        },
        "id": "bVcUmL4U6r1T",
        "outputId": "4526070f-d581-4fec-c3ea-8b121ab9d441"
      },
      "execution_count": null,
      "outputs": [
        {
          "output_type": "execute_result",
          "data": {
            "text/plain": [
              "19"
            ]
          },
          "metadata": {},
          "execution_count": 8
        }
      ]
    },
    {
      "cell_type": "markdown",
      "source": [
        "# pre-processing"
      ],
      "metadata": {
        "id": "1y2TBiEP8DCR"
      }
    },
    {
      "cell_type": "code",
      "source": [
        "dt_text = list(dt['text'])"
      ],
      "metadata": {
        "id": "bBiKXbdk7Vtd"
      },
      "execution_count": null,
      "outputs": []
    },
    {
      "cell_type": "code",
      "source": [
        "# Extend the predefined list of stopwords\n",
        "custom_stop_words = STOPWORDS.union({'said', 'year', 'days', 'says', 'time' ,'people', 'therefore'})"
      ],
      "metadata": {
        "id": "6eM94gtavuai"
      },
      "execution_count": null,
      "outputs": []
    },
    {
      "cell_type": "code",
      "source": [
        "# Define custom preprocessing filters\n",
        "def custom_remove_stopwords(s):\n",
        "    return ' '.join([word for word in s.split() if word not in custom_stop_words])\n"
      ],
      "metadata": {
        "id": "uCkHxJhpvup5"
      },
      "execution_count": null,
      "outputs": []
    },
    {
      "cell_type": "code",
      "source": [
        "def merge_similar_words(s):\n",
        "    word_replacements = {\n",
        "        'child': 'child',\n",
        "        'children': 'child',\n",
        "        'father': 'father',\n",
        "        'fathers': 'father',\n",
        "        'woman': 'women',\n",
        "        'women': 'women',\n",
        "        'mother': 'mother',\n",
        "        'mothers': 'mother',\n",
        "        'man': 'men',\n",
        "        'men': 'men'\n",
        "        }\n",
        "    tokens = s.split()\n",
        "    merged_tokens = [word_replacements.get(word, word) for word in tokens]\n",
        "    return ' '.join(merged_tokens)"
      ],
      "metadata": {
        "id": "X1D6T2cRwQtH"
      },
      "execution_count": null,
      "outputs": []
    },
    {
      "cell_type": "code",
      "source": [
        "# Use filters\n",
        "CUSTOM_FILTERS = [lambda x: x.lower(), strip_tags, strip_punctuation, strip_multiple_whitespaces,\n",
        "                  strip_numeric, merge_similar_words, custom_remove_stopwords, stem_text, strip_short]\n",
        "# Preprocess the documents\n",
        "clean_docs = [preprocess_string(doc, CUSTOM_FILTERS) for doc in dt['text']]"
      ],
      "metadata": {
        "id": "p70uHK5o8VV6"
      },
      "execution_count": null,
      "outputs": []
    },
    {
      "cell_type": "code",
      "source": [
        "print(clean_docs[:5])"
      ],
      "metadata": {
        "colab": {
          "base_uri": "https://localhost:8080/"
        },
        "id": "IdL_VLE38Vsj",
        "outputId": "e5a6610e-766e-4c2a-fc3d-8ebe4799da26"
      },
      "execution_count": null,
      "outputs": [
        {
          "output_type": "stream",
          "name": "stdout",
          "text": [
            "[['work', 'father', 'east', 'china', 'jiangsu', 'provinc', 'paid', 'patern', 'leav', 'care', 'newborn', 'doubl', 'chines', 'provinc', 'jiangsu', 'govern', 'legal', 'offic', 'draft', 'local', 'regul', 'solicit', 'public', 'opinion', 'chang', 'stipul', 'new', 'father', 'patern', 'leav', 'addit', 'joint', 'parent', 'leav', 'design', 'promot', 'gender', 'equal', 'employ', 'encourag', 'husband', 'wive', 'share', 'housework', 'govern', 'welcom', 'parent', 'netizen', 'alik', 'zhong', 'lei', 'father', 'old', 'girl', 'nanj', 'consid', 'have', 'second', 'child', 'chang', 'nightmar', 'daughter', 'born', 'especi', 'wife', 'new', 'mother', 'need', 'help', 'great', 'month', 'work', 'care', 'newborn', 'accord', 'jiangsu', 'women', 'feder', 'china', 'nationwid', 'regul', 'patern', 'leav', 'provinc', 'municip', 'regul', 'patern', 'leav', 'vari', 'huang', 'xinwei', 'pregnanc', 'postpartum', 'psycholog', 'specialist', 'nanj', 'matern', 'child', 'health', 'hospit', 'longer', 'period', 'patern', 'leav', 'benefit', 'wive', 'husband', 'learn', 'care', 'newborn', 'help', 'foster', 'good', 'father', 'child', 'relationship', 'help', 'father', 'realiz', 'difficult', 'life', 'new', 'mother', 'new', 'mother', 'postpartum', 'depress', 'degre', 'import', 'accompani', 'famili', 'member', 'especi', 'husband', 'sooner', 'father', 'rais', 'child', 'better', 'meng', 'xiaosi', 'stand', 'committe', 'member', 'cppcc', 'nation', 'committe', 'vice', 'presid', 'secretariat', 'china', 'women', 'feder', 'session', 'march', 'women', 'choos', 'second', 'child', 'lack', 'child', 'care', 'support', 'financi', 'pressur', 'call', 'longer', 'paid', 'patern', 'leav', 'husband', 'wive', 'concern', 'rais', 'work', 'increas', 'cost', 'enterpris', 'affect', 'career', 'father', 'take', 'leav', 'possibl', 'transfer', 'current', 'post', 'import', 'zhong', 'father', 'surpris', 'privat', 'compani', 'place', 'emphasi', 'job', 'applic', 'marit', 'statu', 'chang', 'govern', 'respons', 'includ', 'give', 'subsidi', 'compani'], ['cppcc', 'member', 'chen', 'xia', 'appeal', 'greater', 'childcar', 'support', 'deeper', 'thought', 'educ', 'yingxu', 'report', 'govern', 'extend', 'parent', 'leav', 'share', 'cost', 'compani', 'employ', 'help', 'stimul', 'improv', 'countri', 'birthrat', 'greater', 'support', 'polici', 'advis', 'chen', 'xia', 'member', 'nation', 'committe', 'chines', 'polit', 'consult', 'confer', 'spoke', 'birthrat', 'issu', 'expect', 'discuss', 'session', 'annual', 'meet', 'china', 'legislatur', 'polit', 'advisori', 'bodi', 'gener', 'nation', 'want', 'proper', 'replac', 'member', 'total', 'fertil', 'rate', 'concern', 'low', 'birthrat', 'lead', 'popul', 'propos', 'session', 'chen', 'write', 'let', 'extend', 'leav', 'coupl', 'babi', 'mainli', 'ask', 'mother', 'matern', 'leav', 'suggest', 'law', 'allow', 'father', 'patern', 'leav', 'chen', 'child', 'grow', 'healthi', 'person', 'parent', 'babi', 'parent', 'leav', 'need', 'current', 'matern', 'leav', 'taken', 'method', 'increas', 'cost', 'compani', 'employ', 'chen', 'suggest', 'cost', 'share', 'govern', 'parti', 'matter', 'famili', 'issu', 'societi', 'coupl', 'rais', 'child', 'eventu', 'contribut', 'societi', 'contribut', 'childbear', 'add', 'chen', 'suggest', 'spend', 'nation', 'revenu', 'cover', 'cost', 'better', 'medic', 'care', 'child', 'extend', 'compulsori', 'educ', 'year', 'year', 'accord', 'chen', 'prepar', 'propos', 'session', 'listen', 'voic', 'field', 'colleagu', 'friend', 'student', 'learn', 'concern', 'wish', 'research', 'includ', 'read', 'publish', 'book', 'paper', 'talk', 'expert', 'write', 'propos', 'explain', 'issu', 'import', 'offer', 'suggest', 'like', 'channel', 'commun', 'voic', 'field', 'voic', 'heard', 'session', 'societi', 'govern', 'pai', 'attent', 'issu', 'highlight', 'propos', 'previou', 'year', 'chen', 'propos', 'enhanc', 'critic', 'think', 'educ', 'gave', 'suggest', 'deal', 'china', 'societi', 'research', 'institut', 'philosophi', 'chines', 'academi', 'social', 'scienc', 'chen', 'suggest', 'nation', 'prize', 'scholar', 'human', 'social', 'scienc', 'specialist', 'field', 'recogn', 'youngster', 'inspir', 'pursu', 'studi', 'promot', 'philosophi', 'social', 'scienc', 'includ', 'countri', 'plan', 'expect', 'ratifi', 'session', 'develop', 'social', 'scienc', 'plai', 'signific', 'role', 'countri', 'progress', 'chen', 'develop', 'technolog', 'natur', 'scienc', 'nourish', 'bodi', 'need', 'nourish', 'mind', 'spiritu', 'philosophi', 'train', 'think', 'ration', 'societi', 'need', 'work', 'philosoph', 'social', 'scientist', 'cover', 'literatur', 'histori', 'art', 'provid', 'inspir', 'resourc', 'reflect', 'live', 'reflect', 'wai', 'come', 'wai', 'lead', 'futur', 'extrem', 'import', 'chen', 'promot', 'social', 'scienc', 'philosophi', 'educ', 'improv', 'kid', 'kind', 'educ', 'spend', 'philosophi', 'logic', 'literatur', 'histori', 'art', 'special', 'tradit', 'chines', 'philosophi', 'chen', 'import', 'inherit', 'wisdom', 'ancestor', 'wai', 'illustr', 'understand', 'interest', 'import', 'todai', 'chen', 'tradit', 'museum', 'critic', 'think', 'part', 'tradit', 'brought', 'modern', 'world', 'tradit', 'chang', 'tradit', 'vital', 'respond', 'face', 'todai', 'chen', 'chen', 'tradit', 'philosoph', 'think', 'contribut', 'modern', 'societi', 'wai', 'relationship', 'human', 'chen', 'studi', 'focus', 'taoism', 'taoism', 'emphas', 'harmoni', 'relationship', 'environ', 'urban', 'industri', 'commerci', 'push', 'consum', 'taoism', 'tell', 'live', 'simpl', 'life'], ['detail', 'need', 'child', 'polici', 'protect', 'right', 'employ', 'china', 'announc', 'coupl', 'allow', 'child', 'work', 'mother', 'young', 'women', 'wait', 'detail', 'polici', 'implement', 'right', 'protect', 'want', 'polici', 'posit', 'impact', 'correct', 'gender', 'discrimin', 'workplac', 'decid', 'child', 'expert', 'concern', 'reason', 'reflect', 'profession', 'predica', 'face', 'women', 'highlight', 'urgent', 'need', 'step', 'implement', 'fertil', 'friendli', 'polici', 'promot', 'flexibl', 'work', 'hour', 'improv', 'legisl', 'tackl', 'sex', 'base', 'discrimin', 'employ', 'global', 'phenomenon', 'jia', 'public', 'relat', 'manag', 'shanghai', 'ask', 'publish', 'graduat', 'colleg', 'uncommon', 'ask', 'job', 'interview', 'boyfriend', 'plan', 'marri', 'child', 'year', 'cours', 'enjoi', 'answer', 'inquiri', 'qualif', 'felt', 'like', 'compani', 'treat', 'competit', 'job', 'candid', 'like', 'treat', 'male', 'counterpart', 'work', 'advertis', 'market', 'industri', 'nearli', 'year', 'began', 'understand', 'compani', 'reserv', 'hire', 'young', 'women', 'encount', 'colleagu', 'abruptli', 'leav', 'posit', 'pregnant', 'return', 'prioriti', 'live', 'obvious', 'turn', 'take', 'care', 'kid', 'wonder', 'solut', 'dilemma', 'work', 'have', 'child', 'irreconcil', 'answer', 'expert', 'professor', 'china', 'univers', 'labor', 'relat', 'neg', 'impact', 'fertil', 'femal', 'workforc', 'particip', 'global', 'phenomenon', 'rear', 'child', 'bound', 'chip', 'awai', 'devot', 'work', 'work', 'mother', 'initi', 'plan', 'rais', 'child', 'ultim', 'mother', 'child', 'polici', 'certainli', 'add', 'misgiv', 'employ', 'especi', 'come', 'give', 'promot', 'renew', 'labor', 'contract', 'femal', 'employe', 'femal', 'labor', 'particip', 'rate', 'china', 'global', 'averag', 'percent', 'chines', 'women', 'work', 'compar', 'percent', 'japan', 'percent', 'unit', 'state', 'percent', 'germani', 'data', 'world', 'bank', 'show', 'biolog', 'burden', 'strike', 'balanc', 'home', 'work', 'tough', 'reason', 'famili', 'decid', 'child', 'univers', 'second', 'child', 'polici', 'took', 'effect', 'nation', 'health', 'commiss', 'june', 'cite', 'figur', 'survei', 'commiss', 'percent', 'women', 'earn', 'cut', 'childbirth', 'percent', 'salari', 'cut', 'half', 'earlier', 'interview', 'china', 'new', 'servic', 'chang', 'kai', 'head', 'renmin', 'univers', 'china', 'labor', 'relat', 'research', 'center', 'difficult', 'enterpris', 'rid', 'gender', 'discrimin', 'current', 'social', 'environ', 'tradit', 'view', 'women', 'respons', 'household', 'chore', 'hamper', 'employ', 'main', 'problem', 'exist', 'rule', 'regul', 'aim', 'protect', 'right', 'femal', 'worker', 'strict', 'implement', 'weak', 'chang', 'women', 'bear', 'biolog', 'burden', 'take', 'matern', 'leav', 'breast', 'feed', 'drive', 'enterpris', 'human', 'resourc', 'cost', 'govern', 'suggest', 'provid', 'relev', 'subsidi', 'busi', 'step', 'social', 'secur', 'matern', 'insur', 'program', 'coverag', 'matern', 'insur', 'rise', 'recent', 'year', 'nation', 'healthcar', 'secur', 'administr', 'recent', 'million', 'enrol', 'matern', 'insur', 'program', 'percent', 'matern', 'insur', 'paid', 'employ', 'local', 'govern', 'reimburs', 'women', 'leav', 'work', 'birth', 'base', 'experi', 'countri', 'dispel', 'employ', 'misgiv', 'feasibl', 'solut', 'adopt', 'germani', 'fund', 'nation', 'social', 'secur', 'medic', 'insur', 'program', 'balanc', 'insur', 'premium', 'instead', 'ask', 'employ', 'shoulder', 'burden', 'addit', 'matern', 'leav', 'favor', 'polici', 'patern', 'leav', 'parent', 'leav', 'embrac', 'enforc', 'strongli', 'rollout', 'patern', 'leav', 'meant', 'lessen', 'discrimin', 'women', 'clear', 'pai', 'salari', 'male', 'employe', 'result', 'employ', 'employe', 'lukewarm', 'detail', 'regul', 'need', 'implement', 'parent', 'leav', 'countri', 'encourag', 'capabl', 'region', 'launch', 'trial', 'program', 'parent', 'leav', 'usual', 'last', 'year', 'effect', 'solv', 'issu', 'rear', 'child', 'sent', 'kindergarten', 'year', 'old', 'innov', 'approach', 'kei', 'question', 'remain', 'includ', 'payment', 'arrang', 'leav', 'prevent', 'men', 'shift', 'respons', 'rais', 'child', 'women', 'coordin', 'parent', 'eventu', 'return', 'job', 'market', 'work', 'address', 'issu', 'promis', 'approach', 'promot', 'flexibl', 'work', 'schedul', 'husband', 'wife', 'stagger', 'work', 'hour', 'resolv', 'conflict', 'work', 'home', 'jia', 'deputi', 'head', 'societi', 'research', 'center', 'pangoal', 'institut', 'beij', 'base', 'public', 'polici', 'think', 'tank', 'told', 'china', 'busi', 'journal', 'patern', 'leav', 'supplement', 'approach', 'core', 'solut', 'promot', 'integr', 'work', 'home', 'work', 'home', 'shift', 'involv', 'legal', 'issu', 'draft', 'contract', 'homebound', 'worker', 'protect', 'right', 'parti', 'context', 'guidelin', 'releas', 'ministri', 'human', 'resourc', 'social', 'secur', 'govern', 'depart', 'februari', 'ban', 'form', 'discrimin', 'women', 'work', 'includ', 'set', 'higher', 'bar', 'reject', 'femal', 'candid', 'ask', 'reveal', 'marit', 'statu', 'childbear', 'plan', 'china', 'univers', 'labor', 'relat', 'forc', 'detail', 'law', 'gender', 'discrimin', 'work', 'establish', 'exist', 'regul', 'gener', 'gender', 'discrimin', 'implicit', 'need', 'stronger', 'effort', 'skill', 'detect'], ['beij', 'moment', 'pick', 'kindergarten', 'dai', 'tan', 'xinyan', 'schoolmat', 'scamper', 'playground', 'newli', 'instal', 'swing', 'climb', 'frame', 'slide', 'pierc', 'winter', 'cold', 'earli', 'nightfal', 'beij', 'chang', 'daili', 'routin', 'surpris', 'small', 'chang', 'bring', 'child', 'joi', 'tan', 'mother', 'yufeng', 'refer', 'new', 'facil', 'residenti', 'commun', 'appear', 'old', 'neighborhood', 'equip', 'child', 'playground', 'reflect', 'step', 'china', 'take', 'creat', 'favor', 'condit', 'child', 'rear', 'world', 'popul', 'countri', 'brace', 'prospect', 'low', 'fertil', 'rate', 'countri', 'particularli', 'advanc', 'economi', 'experienc', 'latest', 'censu', 'show', 'countri', 'total', 'fertil', 'rate', 'low', 'level', 'china', 'began', 'allow', 'coupl', 'second', 'child', 'expand', 'child', 'famili', 'follow', 'slew', 'support', 'measur', 'countri', 'popul', 'famili', 'plan', 'law', 'amend', 'foster', 'birth', 'friendli', 'societi', 'polici', 'design', 'lawmak', 'aim', 'address', 'public', 'concern', 'heavi', 'burden', 'bear', 'rais', 'educ', 'child', 'zhang', 'guilong', 'senior', 'offici', 'stand', 'committe', 'nation', 'congress', 'nation', 'legislatur', 'local', 'level', 'support', 'wai', 'includ', 'extend', 'patern', 'leav', 'extra', 'parent', 'leav', 'enhanc', 'public', 'servic', 'term', 'tax', 'cut', 'hous', 'employ', 'educ', 'area', 'have', 'grown', 'child', 'famili', 'old', 'mother', 'envi', 'sibl', 'plai', 'offer', 'support', 'initi', 'hesit', 'second', 'child', 'given', 'parent', 'parent', 'law', 'late', 'husband', 'busi', 'career', 'irrespons', 'parent', 'offer', 'child', 'attent', 'care', 'need', 'happi', 'healthi', 'childhood', 'turn', 'happi', 'child', 'doubl', 'workload', 'joi', 'good', 'memori', 'creat', 'support', 'polici', 'implement', 'mother', 'aim', 'child', 'expect', 'feel', 'wai', 'beij', 'women', 'enjoi', 'extra', 'matern', 'leav', 'parent', 'parent', 'leav', 'child', 'turn', 'northeast', 'china', 'liaon', 'provinc', 'paid', 'parent', 'leav', 'mother', 'father', 'new', 'dad', 'enjoi', 'patern', 'leav', 'region', 'follow', 'suit', 'good', 'new', 'famili', 'like', 'parent', 'job', 'luo', 'hua', 'old', 'mother', 'yingkou', 'liaon', 'welcom', 'child', 'countri', 'develop', 'child', 'care', 'servic', 'improv', 'afford', 'avail', 'preschool', 'educ', 'govern', 'fund', 'public', 'child', 'care', 'servic', 'support', 'privat', 'sector', 'develop', 'servic', 'increas', 'plan', 'period', 'preschool', 'educ', 'author', 'increas', 'gross', 'enrol', 'ratio', 'kindergarten', 'percent', 'extens', 'network', 'health', 'worker', 'primari', 'level', 'particularli', 'rural', 'area', 'spread', 'prenat', 'postnat', 'knowledg', 'young', 'coupl', 'offer', 'guidanc', 'parent', 'term', 'futur', 'incent', 'coupl', 'have', 'child', 'expert', 'guangdong', 'academi', 'popul', 'develop', 'suggest', 'move', 'ensur', 'fair', 'access', 'educ', 'increas', 'suppli', 'qualiti', 'educ', 'resourc', 'offer', 'tax', 'cut', 'subsidi', 'famili', 'child', 'core', 'optim', 'famili', 'plan', 'polici', 'unleash', 'child', 'rear', 'potenti', 'individu', 'household', 'level', 'song', 'jian', 'deputi', 'head', 'popul', 'develop', 'studi', 'center', 'renmin', 'univers', 'china', 'requir', 'concert', 'effort', 'societi', 'better', 'social', 'servic', 'allevi', 'burden', 'famili', 'have', 'rais', 'child', 'yufeng', 'creation', 'birth', 'friendli', 'societi', 'requir', 'chang', 'like', 'new', 'swing', 'slide', 'daughter', 'xinyan', 'attend', 'elementari', 'school', 'septemb', 'expect', 'polici', 'extend', 'daughter', 'entir', 'journei', 'adulthood', 'ultim', 'child', 'creator', 'futur', 'job', 'grown', 'creat', 'environ', 'enabl'], ['china', 'demograph', 'develop', 'kei', 'junctur', 'polit', 'advis', 'call', 'concert', 'effort', 'build', 'famili', 'friendli', 'societi', 'includ', 'influenc', 'famili', 'childbear', 'valu', 'younger', 'gener', 'overal', 'popul', 'chines', 'mainland', 'increas', 'million', 'lowest', 'decad', 'accord', 'data', 'nation', 'bureau', 'statist', 'dan', 'member', 'nation', 'committe', 'chines', 'polit', 'consult', 'confer', 'china', 'popul', 'enter', 'zero', 'growth', 'rang', 'differ', 'birth', 'death', 'fall', 'million', 'mark', 'major', 'shift', 'main', 'contradict', 'face', 'china', 'popul', 'develop', 'mean', 'china', 'complet', 'histor', 'mission', 'curb', 'excess', 'popul', 'growth', 'confront', 'structur', 'contradict', 'brought', 'low', 'fertil', 'region', 'dispar', 'popul', 'develop', 'exclus', 'interview', 'ahead', 'session', 'countri', 'biggest', 'annual', 'polit', 'event', 'director', 'china', 'popul', 'develop', 'research', 'center', 'declin', 'newborn', 'natur', 'result', 'socioeconom', 'develop', 'vital', 'action', 'prevent', 'dramat', 'popul', 'fluctuat', 'reduc', 'impact', 'econom', 'growth', 'kei', 'china', 'kei', 'regard', 'allow', 'coupl', 'child', 'roll', 'number', 'support', 'polici', 'encourag', 'birth', 'evalu', 'impact', 'polici', 'adjust', 'focu', 'number', 'child', 'born', 'famili', 'effort', 'devot', 'reduc', 'burden', 'childbear', 'rais', 'educ', 'child', 'addit', 'measur', 'aim', 'help', 'famili', 'far', 'local', 'govern', 'respond', 'activ', 'revis', 'provinci', 'popul', 'famili', 'plan', 'regul', 'drawn', 'new', 'regul', 'extend', 'matern', 'patern', 'parent', 'leav', 'addit', 'support', 'set', 'nurseri', 'servic', 'introduc', 'new', 'regul', 'note', 'creat', 'famili', 'friendli', 'environ', 'societi', 'rome', 'built', 'dai', 'level', 'design', 'matern', 'secur', 'implement', 'specif', 'polici', 'measur', 'lot', 'work', 'challeng', 'reshap', 'famili', 'childbear', 'valu', 'young', 'popul', 'topic', 'plan', 'focu', 'propos', 'session', 'rise', 'number', 'remain', 'singl', 'seen', 'threat', 'societi', 'fewer', 'birth', 'start', 'influenc', 'young', 'attitud', 'marriag', 'childbear', 'concern', 'gender', 'discrimin', 'workplac', 'follow', 'launch', 'extend', 'patern', 'leav', 'signific', 'gender', 'equiti', 'promot', 'high', 'prioriti', 'devis', 'support', 'polici', 'suggest', 'china', 'strengthen', 'matern', 'insur', 'program', 'set', 'new', 'matern', 'secur', 'fund', 'cover', 'femal', 'worker', 'possibl', 'contact', 'writer', 'wangxiaoyu', 'chinadaili', 'com']]\n"
          ]
        }
      ]
    },
    {
      "cell_type": "markdown",
      "source": [
        "# vectorization"
      ],
      "metadata": {
        "id": "v-J6XgQ28xgq"
      }
    },
    {
      "cell_type": "code",
      "source": [
        "\n",
        "# build id: token dictionary of vocab\n",
        "dictionary = Dictionary(clean_docs)\n",
        "\n",
        "# build bag-of-words using doc2bow\n",
        "bow = [dictionary.doc2bow(a) for a in clean_docs]"
      ],
      "metadata": {
        "id": "89JOp_hU8rs1"
      },
      "execution_count": null,
      "outputs": []
    },
    {
      "cell_type": "markdown",
      "source": [
        "# LDA"
      ],
      "metadata": {
        "id": "QeC6vH-W9EtK"
      }
    },
    {
      "cell_type": "code",
      "source": [
        "# Build the LDA model\n",
        "num_topics = 4 # I only have 19 articles, so I tried the number of articles 3, 4, 5, 6 and 7\n",
        "random_seed = 42\n",
        "\n",
        "lda_model = LdaModel(bow, num_topics=num_topics,\n",
        "                     random_state = random_seed,\n",
        "                     id2word=dictionary, passes=10)"
      ],
      "metadata": {
        "id": "7FPrNNRR8VzA"
      },
      "execution_count": null,
      "outputs": []
    },
    {
      "cell_type": "code",
      "source": [
        "# print the top words per topic\n",
        "# interpret the top words to infer the topic label\n",
        "\n",
        "lda_model.print_topics(num_words=10)"
      ],
      "metadata": {
        "colab": {
          "base_uri": "https://localhost:8080/"
        },
        "id": "hpxoBVx59Dti",
        "outputId": "7d9f12d4-dbeb-426f-aaaa-2cad079077b9"
      },
      "execution_count": null,
      "outputs": [
        {
          "output_type": "execute_result",
          "data": {
            "text/plain": [
              "[(0,\n",
              "  '0.020*\"leav\" + 0.015*\"child\" + 0.012*\"women\" + 0.012*\"work\" + 0.009*\"china\" + 0.009*\"chen\" + 0.008*\"matern\" + 0.008*\"social\" + 0.007*\"employ\" + 0.007*\"polici\"'),\n",
              " (1,\n",
              "  '0.037*\"child\" + 0.019*\"famili\" + 0.013*\"parent\" + 0.013*\"leav\" + 0.010*\"support\" + 0.010*\"polici\" + 0.008*\"china\" + 0.008*\"women\" + 0.007*\"servic\" + 0.007*\"popul\"'),\n",
              " (2,\n",
              "  '0.023*\"china\" + 0.020*\"child\" + 0.016*\"popul\" + 0.011*\"leav\" + 0.010*\"women\" + 0.010*\"famili\" + 0.009*\"polici\" + 0.008*\"year\" + 0.008*\"matern\" + 0.007*\"develop\"'),\n",
              " (3,\n",
              "  '0.025*\"child\" + 0.021*\"parent\" + 0.020*\"leav\" + 0.016*\"father\" + 0.015*\"women\" + 0.010*\"men\" + 0.009*\"swedish\" + 0.008*\"allow\" + 0.006*\"china\" + 0.006*\"chines\"')]"
            ]
          },
          "metadata": {},
          "execution_count": 17
        }
      ]
    },
    {
      "cell_type": "code",
      "source": [
        "# get the topic prevalence for one document\n",
        "lda_model.get_document_topics(bow[0])"
      ],
      "metadata": {
        "colab": {
          "base_uri": "https://localhost:8080/"
        },
        "id": "_J45vQW29Dwo",
        "outputId": "43891947-361b-4173-b050-01a4d3b93aeb"
      },
      "execution_count": null,
      "outputs": [
        {
          "output_type": "execute_result",
          "data": {
            "text/plain": [
              "[(0, 0.99616283)]"
            ]
          },
          "metadata": {},
          "execution_count": 18
        }
      ]
    },
    {
      "cell_type": "code",
      "source": [
        "# save topic model to drive\n",
        "# save the entire model\n",
        "lda_model.save(data_path + 'LDA_t4')"
      ],
      "metadata": {
        "id": "j0T6H8U29D2T"
      },
      "execution_count": null,
      "outputs": []
    },
    {
      "cell_type": "code",
      "source": [
        "# Load the model\n",
        "lda_model = models.LdaModel.load(data_path + 'LDA_t4')"
      ],
      "metadata": {
        "id": "rhmSeyco9lGQ"
      },
      "execution_count": null,
      "outputs": []
    },
    {
      "cell_type": "code",
      "source": [
        "lda_model.print_topics(num_words=10)"
      ],
      "metadata": {
        "colab": {
          "base_uri": "https://localhost:8080/"
        },
        "id": "ZYUQ7qxo9nRJ",
        "outputId": "4f944633-1869-4caf-b5f1-136c94c28da0"
      },
      "execution_count": null,
      "outputs": [
        {
          "output_type": "execute_result",
          "data": {
            "text/plain": [
              "[(0,\n",
              "  '0.020*\"leav\" + 0.015*\"child\" + 0.012*\"women\" + 0.012*\"work\" + 0.009*\"china\" + 0.009*\"chen\" + 0.008*\"matern\" + 0.008*\"social\" + 0.007*\"employ\" + 0.007*\"polici\"'),\n",
              " (1,\n",
              "  '0.037*\"child\" + 0.019*\"famili\" + 0.013*\"parent\" + 0.013*\"leav\" + 0.010*\"support\" + 0.010*\"polici\" + 0.008*\"china\" + 0.008*\"women\" + 0.007*\"servic\" + 0.007*\"popul\"'),\n",
              " (2,\n",
              "  '0.023*\"china\" + 0.020*\"child\" + 0.016*\"popul\" + 0.011*\"leav\" + 0.010*\"women\" + 0.010*\"famili\" + 0.009*\"polici\" + 0.008*\"year\" + 0.008*\"matern\" + 0.007*\"develop\"'),\n",
              " (3,\n",
              "  '0.025*\"child\" + 0.021*\"parent\" + 0.020*\"leav\" + 0.016*\"father\" + 0.015*\"women\" + 0.010*\"men\" + 0.009*\"swedish\" + 0.008*\"allow\" + 0.006*\"china\" + 0.006*\"chines\"')]"
            ]
          },
          "metadata": {},
          "execution_count": 21
        }
      ]
    },
    {
      "cell_type": "code",
      "source": [
        "# save a document-topic distribution as dataframe\n",
        "# Get the document-topic distribution\n",
        "doc_topics = []\n",
        "for i, doc in enumerate(bow):\n",
        "    doc_topics.append(lda_model.get_document_topics(doc, minimum_probability=0)) # set parameters: minimum_probability=0\n",
        "\n",
        "# Convert the document-topic distribution to a DataFrame\n",
        "topic_dist_df = pd.DataFrame([[topic_prob[1] for topic_prob in doc] for doc in doc_topics])"
      ],
      "metadata": {
        "id": "oKfPTJAm9nuQ"
      },
      "execution_count": null,
      "outputs": []
    },
    {
      "cell_type": "code",
      "source": [
        "topic_dist_df # ## topic prevelance in the topic."
      ],
      "metadata": {
        "colab": {
          "base_uri": "https://localhost:8080/",
          "height": 645
        },
        "id": "7Q3UDq4x9n4U",
        "outputId": "d92d05d6-1547-4684-948d-1407771ba105"
      },
      "execution_count": null,
      "outputs": [
        {
          "output_type": "execute_result",
          "data": {
            "text/plain": [
              "           0         1         2         3\n",
              "0   0.996163  0.001288  0.001283  0.001266\n",
              "1   0.997805  0.000738  0.000733  0.000724\n",
              "2   0.998560  0.000483  0.000483  0.000474\n",
              "3   0.000670  0.997992  0.000673  0.000665\n",
              "4   0.001028  0.001031  0.996952  0.000990\n",
              "5   0.000500  0.998504  0.000505  0.000491\n",
              "6   0.000696  0.000703  0.997915  0.000686\n",
              "7   0.997506  0.000841  0.000835  0.000817\n",
              "8   0.000885  0.000891  0.000890  0.997335\n",
              "9   0.001386  0.001384  0.001376  0.995854\n",
              "10  0.000729  0.997846  0.000723  0.000702\n",
              "11  0.000641  0.000648  0.998082  0.000629\n",
              "12  0.000583  0.000588  0.998253  0.000576\n",
              "13  0.002759  0.002801  0.991773  0.002668\n",
              "14  0.002796  0.002740  0.991727  0.002737\n",
              "15  0.590931  0.402873  0.003172  0.003024\n",
              "16  0.000663  0.998016  0.000665  0.000656\n",
              "17  0.000956  0.000955  0.997133  0.000956\n",
              "18  0.003015  0.990930  0.003110  0.002944"
            ],
            "text/html": [
              "\n",
              "  <div id=\"df-fbed5c51-5bab-456a-86d2-4b4121d76be3\" class=\"colab-df-container\">\n",
              "    <div>\n",
              "<style scoped>\n",
              "    .dataframe tbody tr th:only-of-type {\n",
              "        vertical-align: middle;\n",
              "    }\n",
              "\n",
              "    .dataframe tbody tr th {\n",
              "        vertical-align: top;\n",
              "    }\n",
              "\n",
              "    .dataframe thead th {\n",
              "        text-align: right;\n",
              "    }\n",
              "</style>\n",
              "<table border=\"1\" class=\"dataframe\">\n",
              "  <thead>\n",
              "    <tr style=\"text-align: right;\">\n",
              "      <th></th>\n",
              "      <th>0</th>\n",
              "      <th>1</th>\n",
              "      <th>2</th>\n",
              "      <th>3</th>\n",
              "    </tr>\n",
              "  </thead>\n",
              "  <tbody>\n",
              "    <tr>\n",
              "      <th>0</th>\n",
              "      <td>0.996163</td>\n",
              "      <td>0.001288</td>\n",
              "      <td>0.001283</td>\n",
              "      <td>0.001266</td>\n",
              "    </tr>\n",
              "    <tr>\n",
              "      <th>1</th>\n",
              "      <td>0.997805</td>\n",
              "      <td>0.000738</td>\n",
              "      <td>0.000733</td>\n",
              "      <td>0.000724</td>\n",
              "    </tr>\n",
              "    <tr>\n",
              "      <th>2</th>\n",
              "      <td>0.998560</td>\n",
              "      <td>0.000483</td>\n",
              "      <td>0.000483</td>\n",
              "      <td>0.000474</td>\n",
              "    </tr>\n",
              "    <tr>\n",
              "      <th>3</th>\n",
              "      <td>0.000670</td>\n",
              "      <td>0.997992</td>\n",
              "      <td>0.000673</td>\n",
              "      <td>0.000665</td>\n",
              "    </tr>\n",
              "    <tr>\n",
              "      <th>4</th>\n",
              "      <td>0.001028</td>\n",
              "      <td>0.001031</td>\n",
              "      <td>0.996952</td>\n",
              "      <td>0.000990</td>\n",
              "    </tr>\n",
              "    <tr>\n",
              "      <th>5</th>\n",
              "      <td>0.000500</td>\n",
              "      <td>0.998504</td>\n",
              "      <td>0.000505</td>\n",
              "      <td>0.000491</td>\n",
              "    </tr>\n",
              "    <tr>\n",
              "      <th>6</th>\n",
              "      <td>0.000696</td>\n",
              "      <td>0.000703</td>\n",
              "      <td>0.997915</td>\n",
              "      <td>0.000686</td>\n",
              "    </tr>\n",
              "    <tr>\n",
              "      <th>7</th>\n",
              "      <td>0.997506</td>\n",
              "      <td>0.000841</td>\n",
              "      <td>0.000835</td>\n",
              "      <td>0.000817</td>\n",
              "    </tr>\n",
              "    <tr>\n",
              "      <th>8</th>\n",
              "      <td>0.000885</td>\n",
              "      <td>0.000891</td>\n",
              "      <td>0.000890</td>\n",
              "      <td>0.997335</td>\n",
              "    </tr>\n",
              "    <tr>\n",
              "      <th>9</th>\n",
              "      <td>0.001386</td>\n",
              "      <td>0.001384</td>\n",
              "      <td>0.001376</td>\n",
              "      <td>0.995854</td>\n",
              "    </tr>\n",
              "    <tr>\n",
              "      <th>10</th>\n",
              "      <td>0.000729</td>\n",
              "      <td>0.997846</td>\n",
              "      <td>0.000723</td>\n",
              "      <td>0.000702</td>\n",
              "    </tr>\n",
              "    <tr>\n",
              "      <th>11</th>\n",
              "      <td>0.000641</td>\n",
              "      <td>0.000648</td>\n",
              "      <td>0.998082</td>\n",
              "      <td>0.000629</td>\n",
              "    </tr>\n",
              "    <tr>\n",
              "      <th>12</th>\n",
              "      <td>0.000583</td>\n",
              "      <td>0.000588</td>\n",
              "      <td>0.998253</td>\n",
              "      <td>0.000576</td>\n",
              "    </tr>\n",
              "    <tr>\n",
              "      <th>13</th>\n",
              "      <td>0.002759</td>\n",
              "      <td>0.002801</td>\n",
              "      <td>0.991773</td>\n",
              "      <td>0.002668</td>\n",
              "    </tr>\n",
              "    <tr>\n",
              "      <th>14</th>\n",
              "      <td>0.002796</td>\n",
              "      <td>0.002740</td>\n",
              "      <td>0.991727</td>\n",
              "      <td>0.002737</td>\n",
              "    </tr>\n",
              "    <tr>\n",
              "      <th>15</th>\n",
              "      <td>0.590931</td>\n",
              "      <td>0.402873</td>\n",
              "      <td>0.003172</td>\n",
              "      <td>0.003024</td>\n",
              "    </tr>\n",
              "    <tr>\n",
              "      <th>16</th>\n",
              "      <td>0.000663</td>\n",
              "      <td>0.998016</td>\n",
              "      <td>0.000665</td>\n",
              "      <td>0.000656</td>\n",
              "    </tr>\n",
              "    <tr>\n",
              "      <th>17</th>\n",
              "      <td>0.000956</td>\n",
              "      <td>0.000955</td>\n",
              "      <td>0.997133</td>\n",
              "      <td>0.000956</td>\n",
              "    </tr>\n",
              "    <tr>\n",
              "      <th>18</th>\n",
              "      <td>0.003015</td>\n",
              "      <td>0.990930</td>\n",
              "      <td>0.003110</td>\n",
              "      <td>0.002944</td>\n",
              "    </tr>\n",
              "  </tbody>\n",
              "</table>\n",
              "</div>\n",
              "    <div class=\"colab-df-buttons\">\n",
              "\n",
              "  <div class=\"colab-df-container\">\n",
              "    <button class=\"colab-df-convert\" onclick=\"convertToInteractive('df-fbed5c51-5bab-456a-86d2-4b4121d76be3')\"\n",
              "            title=\"Convert this dataframe to an interactive table.\"\n",
              "            style=\"display:none;\">\n",
              "\n",
              "  <svg xmlns=\"http://www.w3.org/2000/svg\" height=\"24px\" viewBox=\"0 -960 960 960\">\n",
              "    <path d=\"M120-120v-720h720v720H120Zm60-500h600v-160H180v160Zm220 220h160v-160H400v160Zm0 220h160v-160H400v160ZM180-400h160v-160H180v160Zm440 0h160v-160H620v160ZM180-180h160v-160H180v160Zm440 0h160v-160H620v160Z\"/>\n",
              "  </svg>\n",
              "    </button>\n",
              "\n",
              "  <style>\n",
              "    .colab-df-container {\n",
              "      display:flex;\n",
              "      gap: 12px;\n",
              "    }\n",
              "\n",
              "    .colab-df-convert {\n",
              "      background-color: #E8F0FE;\n",
              "      border: none;\n",
              "      border-radius: 50%;\n",
              "      cursor: pointer;\n",
              "      display: none;\n",
              "      fill: #1967D2;\n",
              "      height: 32px;\n",
              "      padding: 0 0 0 0;\n",
              "      width: 32px;\n",
              "    }\n",
              "\n",
              "    .colab-df-convert:hover {\n",
              "      background-color: #E2EBFA;\n",
              "      box-shadow: 0px 1px 2px rgba(60, 64, 67, 0.3), 0px 1px 3px 1px rgba(60, 64, 67, 0.15);\n",
              "      fill: #174EA6;\n",
              "    }\n",
              "\n",
              "    .colab-df-buttons div {\n",
              "      margin-bottom: 4px;\n",
              "    }\n",
              "\n",
              "    [theme=dark] .colab-df-convert {\n",
              "      background-color: #3B4455;\n",
              "      fill: #D2E3FC;\n",
              "    }\n",
              "\n",
              "    [theme=dark] .colab-df-convert:hover {\n",
              "      background-color: #434B5C;\n",
              "      box-shadow: 0px 1px 3px 1px rgba(0, 0, 0, 0.15);\n",
              "      filter: drop-shadow(0px 1px 2px rgba(0, 0, 0, 0.3));\n",
              "      fill: #FFFFFF;\n",
              "    }\n",
              "  </style>\n",
              "\n",
              "    <script>\n",
              "      const buttonEl =\n",
              "        document.querySelector('#df-fbed5c51-5bab-456a-86d2-4b4121d76be3 button.colab-df-convert');\n",
              "      buttonEl.style.display =\n",
              "        google.colab.kernel.accessAllowed ? 'block' : 'none';\n",
              "\n",
              "      async function convertToInteractive(key) {\n",
              "        const element = document.querySelector('#df-fbed5c51-5bab-456a-86d2-4b4121d76be3');\n",
              "        const dataTable =\n",
              "          await google.colab.kernel.invokeFunction('convertToInteractive',\n",
              "                                                    [key], {});\n",
              "        if (!dataTable) return;\n",
              "\n",
              "        const docLinkHtml = 'Like what you see? Visit the ' +\n",
              "          '<a target=\"_blank\" href=https://colab.research.google.com/notebooks/data_table.ipynb>data table notebook</a>'\n",
              "          + ' to learn more about interactive tables.';\n",
              "        element.innerHTML = '';\n",
              "        dataTable['output_type'] = 'display_data';\n",
              "        await google.colab.output.renderOutput(dataTable, element);\n",
              "        const docLink = document.createElement('div');\n",
              "        docLink.innerHTML = docLinkHtml;\n",
              "        element.appendChild(docLink);\n",
              "      }\n",
              "    </script>\n",
              "  </div>\n",
              "\n",
              "\n",
              "<div id=\"df-eb178122-0726-4e1a-81b8-ab399f707b93\">\n",
              "  <button class=\"colab-df-quickchart\" onclick=\"quickchart('df-eb178122-0726-4e1a-81b8-ab399f707b93')\"\n",
              "            title=\"Suggest charts\"\n",
              "            style=\"display:none;\">\n",
              "\n",
              "<svg xmlns=\"http://www.w3.org/2000/svg\" height=\"24px\"viewBox=\"0 0 24 24\"\n",
              "     width=\"24px\">\n",
              "    <g>\n",
              "        <path d=\"M19 3H5c-1.1 0-2 .9-2 2v14c0 1.1.9 2 2 2h14c1.1 0 2-.9 2-2V5c0-1.1-.9-2-2-2zM9 17H7v-7h2v7zm4 0h-2V7h2v10zm4 0h-2v-4h2v4z\"/>\n",
              "    </g>\n",
              "</svg>\n",
              "  </button>\n",
              "\n",
              "<style>\n",
              "  .colab-df-quickchart {\n",
              "      --bg-color: #E8F0FE;\n",
              "      --fill-color: #1967D2;\n",
              "      --hover-bg-color: #E2EBFA;\n",
              "      --hover-fill-color: #174EA6;\n",
              "      --disabled-fill-color: #AAA;\n",
              "      --disabled-bg-color: #DDD;\n",
              "  }\n",
              "\n",
              "  [theme=dark] .colab-df-quickchart {\n",
              "      --bg-color: #3B4455;\n",
              "      --fill-color: #D2E3FC;\n",
              "      --hover-bg-color: #434B5C;\n",
              "      --hover-fill-color: #FFFFFF;\n",
              "      --disabled-bg-color: #3B4455;\n",
              "      --disabled-fill-color: #666;\n",
              "  }\n",
              "\n",
              "  .colab-df-quickchart {\n",
              "    background-color: var(--bg-color);\n",
              "    border: none;\n",
              "    border-radius: 50%;\n",
              "    cursor: pointer;\n",
              "    display: none;\n",
              "    fill: var(--fill-color);\n",
              "    height: 32px;\n",
              "    padding: 0;\n",
              "    width: 32px;\n",
              "  }\n",
              "\n",
              "  .colab-df-quickchart:hover {\n",
              "    background-color: var(--hover-bg-color);\n",
              "    box-shadow: 0 1px 2px rgba(60, 64, 67, 0.3), 0 1px 3px 1px rgba(60, 64, 67, 0.15);\n",
              "    fill: var(--button-hover-fill-color);\n",
              "  }\n",
              "\n",
              "  .colab-df-quickchart-complete:disabled,\n",
              "  .colab-df-quickchart-complete:disabled:hover {\n",
              "    background-color: var(--disabled-bg-color);\n",
              "    fill: var(--disabled-fill-color);\n",
              "    box-shadow: none;\n",
              "  }\n",
              "\n",
              "  .colab-df-spinner {\n",
              "    border: 2px solid var(--fill-color);\n",
              "    border-color: transparent;\n",
              "    border-bottom-color: var(--fill-color);\n",
              "    animation:\n",
              "      spin 1s steps(1) infinite;\n",
              "  }\n",
              "\n",
              "  @keyframes spin {\n",
              "    0% {\n",
              "      border-color: transparent;\n",
              "      border-bottom-color: var(--fill-color);\n",
              "      border-left-color: var(--fill-color);\n",
              "    }\n",
              "    20% {\n",
              "      border-color: transparent;\n",
              "      border-left-color: var(--fill-color);\n",
              "      border-top-color: var(--fill-color);\n",
              "    }\n",
              "    30% {\n",
              "      border-color: transparent;\n",
              "      border-left-color: var(--fill-color);\n",
              "      border-top-color: var(--fill-color);\n",
              "      border-right-color: var(--fill-color);\n",
              "    }\n",
              "    40% {\n",
              "      border-color: transparent;\n",
              "      border-right-color: var(--fill-color);\n",
              "      border-top-color: var(--fill-color);\n",
              "    }\n",
              "    60% {\n",
              "      border-color: transparent;\n",
              "      border-right-color: var(--fill-color);\n",
              "    }\n",
              "    80% {\n",
              "      border-color: transparent;\n",
              "      border-right-color: var(--fill-color);\n",
              "      border-bottom-color: var(--fill-color);\n",
              "    }\n",
              "    90% {\n",
              "      border-color: transparent;\n",
              "      border-bottom-color: var(--fill-color);\n",
              "    }\n",
              "  }\n",
              "</style>\n",
              "\n",
              "  <script>\n",
              "    async function quickchart(key) {\n",
              "      const quickchartButtonEl =\n",
              "        document.querySelector('#' + key + ' button');\n",
              "      quickchartButtonEl.disabled = true;  // To prevent multiple clicks.\n",
              "      quickchartButtonEl.classList.add('colab-df-spinner');\n",
              "      try {\n",
              "        const charts = await google.colab.kernel.invokeFunction(\n",
              "            'suggestCharts', [key], {});\n",
              "      } catch (error) {\n",
              "        console.error('Error during call to suggestCharts:', error);\n",
              "      }\n",
              "      quickchartButtonEl.classList.remove('colab-df-spinner');\n",
              "      quickchartButtonEl.classList.add('colab-df-quickchart-complete');\n",
              "    }\n",
              "    (() => {\n",
              "      let quickchartButtonEl =\n",
              "        document.querySelector('#df-eb178122-0726-4e1a-81b8-ab399f707b93 button');\n",
              "      quickchartButtonEl.style.display =\n",
              "        google.colab.kernel.accessAllowed ? 'block' : 'none';\n",
              "    })();\n",
              "  </script>\n",
              "</div>\n",
              "\n",
              "  <div id=\"id_0f663547-7fcc-42f4-8fea-2def4dbd43b4\">\n",
              "    <style>\n",
              "      .colab-df-generate {\n",
              "        background-color: #E8F0FE;\n",
              "        border: none;\n",
              "        border-radius: 50%;\n",
              "        cursor: pointer;\n",
              "        display: none;\n",
              "        fill: #1967D2;\n",
              "        height: 32px;\n",
              "        padding: 0 0 0 0;\n",
              "        width: 32px;\n",
              "      }\n",
              "\n",
              "      .colab-df-generate:hover {\n",
              "        background-color: #E2EBFA;\n",
              "        box-shadow: 0px 1px 2px rgba(60, 64, 67, 0.3), 0px 1px 3px 1px rgba(60, 64, 67, 0.15);\n",
              "        fill: #174EA6;\n",
              "      }\n",
              "\n",
              "      [theme=dark] .colab-df-generate {\n",
              "        background-color: #3B4455;\n",
              "        fill: #D2E3FC;\n",
              "      }\n",
              "\n",
              "      [theme=dark] .colab-df-generate:hover {\n",
              "        background-color: #434B5C;\n",
              "        box-shadow: 0px 1px 3px 1px rgba(0, 0, 0, 0.15);\n",
              "        filter: drop-shadow(0px 1px 2px rgba(0, 0, 0, 0.3));\n",
              "        fill: #FFFFFF;\n",
              "      }\n",
              "    </style>\n",
              "    <button class=\"colab-df-generate\" onclick=\"generateWithVariable('topic_dist_df')\"\n",
              "            title=\"Generate code using this dataframe.\"\n",
              "            style=\"display:none;\">\n",
              "\n",
              "  <svg xmlns=\"http://www.w3.org/2000/svg\" height=\"24px\"viewBox=\"0 0 24 24\"\n",
              "       width=\"24px\">\n",
              "    <path d=\"M7,19H8.4L18.45,9,17,7.55,7,17.6ZM5,21V16.75L18.45,3.32a2,2,0,0,1,2.83,0l1.4,1.43a1.91,1.91,0,0,1,.58,1.4,1.91,1.91,0,0,1-.58,1.4L9.25,21ZM18.45,9,17,7.55Zm-12,3A5.31,5.31,0,0,0,4.9,8.1,5.31,5.31,0,0,0,1,6.5,5.31,5.31,0,0,0,4.9,4.9,5.31,5.31,0,0,0,6.5,1,5.31,5.31,0,0,0,8.1,4.9,5.31,5.31,0,0,0,12,6.5,5.46,5.46,0,0,0,6.5,12Z\"/>\n",
              "  </svg>\n",
              "    </button>\n",
              "    <script>\n",
              "      (() => {\n",
              "      const buttonEl =\n",
              "        document.querySelector('#id_0f663547-7fcc-42f4-8fea-2def4dbd43b4 button.colab-df-generate');\n",
              "      buttonEl.style.display =\n",
              "        google.colab.kernel.accessAllowed ? 'block' : 'none';\n",
              "\n",
              "      buttonEl.onclick = () => {\n",
              "        google.colab.notebook.generateWithVariable('topic_dist_df');\n",
              "      }\n",
              "      })();\n",
              "    </script>\n",
              "  </div>\n",
              "\n",
              "    </div>\n",
              "  </div>\n"
            ],
            "application/vnd.google.colaboratory.intrinsic+json": {
              "type": "dataframe",
              "variable_name": "topic_dist_df",
              "summary": "{\n  \"name\": \"topic_dist_df\",\n  \"rows\": 19,\n  \"fields\": [\n    {\n      \"column\": 0,\n      \"properties\": {\n        \"dtype\": \"float32\",\n        \"num_unique_values\": 19,\n        \"samples\": [\n          0.9961627125740051,\n          0.0005004443228244781,\n          0.0006407233886420727\n        ],\n        \"semantic_type\": \"\",\n        \"description\": \"\"\n      }\n    },\n    {\n      \"column\": 1,\n      \"properties\": {\n        \"dtype\": \"float32\",\n        \"num_unique_values\": 19,\n        \"samples\": [\n          0.0012880690628662705,\n          0.9985040426254272,\n          0.0006478138966485858\n        ],\n        \"semantic_type\": \"\",\n        \"description\": \"\"\n      }\n    },\n    {\n      \"column\": 2,\n      \"properties\": {\n        \"dtype\": \"float32\",\n        \"num_unique_values\": 19,\n        \"samples\": [\n          0.0012827388709411025,\n          0.0005047809099778533,\n          0.998082160949707\n        ],\n        \"semantic_type\": \"\",\n        \"description\": \"\"\n      }\n    },\n    {\n      \"column\": 3,\n      \"properties\": {\n        \"dtype\": \"float32\",\n        \"num_unique_values\": 19,\n        \"samples\": [\n          0.0012664797250181437,\n          0.0004906868562102318,\n          0.0006292599136941135\n        ],\n        \"semantic_type\": \"\",\n        \"description\": \"\"\n      }\n    }\n  ]\n}"
            }
          },
          "metadata": {},
          "execution_count": 23
        }
      ]
    },
    {
      "cell_type": "code",
      "source": [
        "topic_dist_df.to_csv(data_path + \"topic_dist_df.csv\", index=False)"
      ],
      "metadata": {
        "id": "JZtMQfAr945J"
      },
      "execution_count": null,
      "outputs": []
    },
    {
      "cell_type": "code",
      "source": [
        "# load the saved csv file\n",
        "pd.read_csv(data_path + \"topic_dist_df.csv\")"
      ],
      "metadata": {
        "colab": {
          "base_uri": "https://localhost:8080/",
          "height": 645
        },
        "id": "DpK7K2YQ91aO",
        "outputId": "e5b25b3a-bc75-488a-ae50-35a3a7e114f6"
      },
      "execution_count": null,
      "outputs": [
        {
          "output_type": "execute_result",
          "data": {
            "text/plain": [
              "           0         1         2         3\n",
              "0   0.996163  0.001288  0.001283  0.001266\n",
              "1   0.997805  0.000738  0.000733  0.000724\n",
              "2   0.998560  0.000483  0.000483  0.000474\n",
              "3   0.000670  0.997992  0.000673  0.000665\n",
              "4   0.001028  0.001031  0.996952  0.000990\n",
              "5   0.000500  0.998504  0.000505  0.000491\n",
              "6   0.000696  0.000703  0.997915  0.000686\n",
              "7   0.997506  0.000841  0.000835  0.000817\n",
              "8   0.000885  0.000891  0.000890  0.997335\n",
              "9   0.001386  0.001384  0.001376  0.995854\n",
              "10  0.000729  0.997846  0.000723  0.000702\n",
              "11  0.000641  0.000648  0.998082  0.000629\n",
              "12  0.000583  0.000588  0.998253  0.000576\n",
              "13  0.002759  0.002801  0.991773  0.002668\n",
              "14  0.002796  0.002740  0.991727  0.002737\n",
              "15  0.590931  0.402873  0.003172  0.003024\n",
              "16  0.000663  0.998016  0.000665  0.000656\n",
              "17  0.000956  0.000955  0.997133  0.000956\n",
              "18  0.003015  0.990930  0.003110  0.002944"
            ],
            "text/html": [
              "\n",
              "  <div id=\"df-f41af82a-b0d3-4da0-acad-e043bcfae130\" class=\"colab-df-container\">\n",
              "    <div>\n",
              "<style scoped>\n",
              "    .dataframe tbody tr th:only-of-type {\n",
              "        vertical-align: middle;\n",
              "    }\n",
              "\n",
              "    .dataframe tbody tr th {\n",
              "        vertical-align: top;\n",
              "    }\n",
              "\n",
              "    .dataframe thead th {\n",
              "        text-align: right;\n",
              "    }\n",
              "</style>\n",
              "<table border=\"1\" class=\"dataframe\">\n",
              "  <thead>\n",
              "    <tr style=\"text-align: right;\">\n",
              "      <th></th>\n",
              "      <th>0</th>\n",
              "      <th>1</th>\n",
              "      <th>2</th>\n",
              "      <th>3</th>\n",
              "    </tr>\n",
              "  </thead>\n",
              "  <tbody>\n",
              "    <tr>\n",
              "      <th>0</th>\n",
              "      <td>0.996163</td>\n",
              "      <td>0.001288</td>\n",
              "      <td>0.001283</td>\n",
              "      <td>0.001266</td>\n",
              "    </tr>\n",
              "    <tr>\n",
              "      <th>1</th>\n",
              "      <td>0.997805</td>\n",
              "      <td>0.000738</td>\n",
              "      <td>0.000733</td>\n",
              "      <td>0.000724</td>\n",
              "    </tr>\n",
              "    <tr>\n",
              "      <th>2</th>\n",
              "      <td>0.998560</td>\n",
              "      <td>0.000483</td>\n",
              "      <td>0.000483</td>\n",
              "      <td>0.000474</td>\n",
              "    </tr>\n",
              "    <tr>\n",
              "      <th>3</th>\n",
              "      <td>0.000670</td>\n",
              "      <td>0.997992</td>\n",
              "      <td>0.000673</td>\n",
              "      <td>0.000665</td>\n",
              "    </tr>\n",
              "    <tr>\n",
              "      <th>4</th>\n",
              "      <td>0.001028</td>\n",
              "      <td>0.001031</td>\n",
              "      <td>0.996952</td>\n",
              "      <td>0.000990</td>\n",
              "    </tr>\n",
              "    <tr>\n",
              "      <th>5</th>\n",
              "      <td>0.000500</td>\n",
              "      <td>0.998504</td>\n",
              "      <td>0.000505</td>\n",
              "      <td>0.000491</td>\n",
              "    </tr>\n",
              "    <tr>\n",
              "      <th>6</th>\n",
              "      <td>0.000696</td>\n",
              "      <td>0.000703</td>\n",
              "      <td>0.997915</td>\n",
              "      <td>0.000686</td>\n",
              "    </tr>\n",
              "    <tr>\n",
              "      <th>7</th>\n",
              "      <td>0.997506</td>\n",
              "      <td>0.000841</td>\n",
              "      <td>0.000835</td>\n",
              "      <td>0.000817</td>\n",
              "    </tr>\n",
              "    <tr>\n",
              "      <th>8</th>\n",
              "      <td>0.000885</td>\n",
              "      <td>0.000891</td>\n",
              "      <td>0.000890</td>\n",
              "      <td>0.997335</td>\n",
              "    </tr>\n",
              "    <tr>\n",
              "      <th>9</th>\n",
              "      <td>0.001386</td>\n",
              "      <td>0.001384</td>\n",
              "      <td>0.001376</td>\n",
              "      <td>0.995854</td>\n",
              "    </tr>\n",
              "    <tr>\n",
              "      <th>10</th>\n",
              "      <td>0.000729</td>\n",
              "      <td>0.997846</td>\n",
              "      <td>0.000723</td>\n",
              "      <td>0.000702</td>\n",
              "    </tr>\n",
              "    <tr>\n",
              "      <th>11</th>\n",
              "      <td>0.000641</td>\n",
              "      <td>0.000648</td>\n",
              "      <td>0.998082</td>\n",
              "      <td>0.000629</td>\n",
              "    </tr>\n",
              "    <tr>\n",
              "      <th>12</th>\n",
              "      <td>0.000583</td>\n",
              "      <td>0.000588</td>\n",
              "      <td>0.998253</td>\n",
              "      <td>0.000576</td>\n",
              "    </tr>\n",
              "    <tr>\n",
              "      <th>13</th>\n",
              "      <td>0.002759</td>\n",
              "      <td>0.002801</td>\n",
              "      <td>0.991773</td>\n",
              "      <td>0.002668</td>\n",
              "    </tr>\n",
              "    <tr>\n",
              "      <th>14</th>\n",
              "      <td>0.002796</td>\n",
              "      <td>0.002740</td>\n",
              "      <td>0.991727</td>\n",
              "      <td>0.002737</td>\n",
              "    </tr>\n",
              "    <tr>\n",
              "      <th>15</th>\n",
              "      <td>0.590931</td>\n",
              "      <td>0.402873</td>\n",
              "      <td>0.003172</td>\n",
              "      <td>0.003024</td>\n",
              "    </tr>\n",
              "    <tr>\n",
              "      <th>16</th>\n",
              "      <td>0.000663</td>\n",
              "      <td>0.998016</td>\n",
              "      <td>0.000665</td>\n",
              "      <td>0.000656</td>\n",
              "    </tr>\n",
              "    <tr>\n",
              "      <th>17</th>\n",
              "      <td>0.000956</td>\n",
              "      <td>0.000955</td>\n",
              "      <td>0.997133</td>\n",
              "      <td>0.000956</td>\n",
              "    </tr>\n",
              "    <tr>\n",
              "      <th>18</th>\n",
              "      <td>0.003015</td>\n",
              "      <td>0.990930</td>\n",
              "      <td>0.003110</td>\n",
              "      <td>0.002944</td>\n",
              "    </tr>\n",
              "  </tbody>\n",
              "</table>\n",
              "</div>\n",
              "    <div class=\"colab-df-buttons\">\n",
              "\n",
              "  <div class=\"colab-df-container\">\n",
              "    <button class=\"colab-df-convert\" onclick=\"convertToInteractive('df-f41af82a-b0d3-4da0-acad-e043bcfae130')\"\n",
              "            title=\"Convert this dataframe to an interactive table.\"\n",
              "            style=\"display:none;\">\n",
              "\n",
              "  <svg xmlns=\"http://www.w3.org/2000/svg\" height=\"24px\" viewBox=\"0 -960 960 960\">\n",
              "    <path d=\"M120-120v-720h720v720H120Zm60-500h600v-160H180v160Zm220 220h160v-160H400v160Zm0 220h160v-160H400v160ZM180-400h160v-160H180v160Zm440 0h160v-160H620v160ZM180-180h160v-160H180v160Zm440 0h160v-160H620v160Z\"/>\n",
              "  </svg>\n",
              "    </button>\n",
              "\n",
              "  <style>\n",
              "    .colab-df-container {\n",
              "      display:flex;\n",
              "      gap: 12px;\n",
              "    }\n",
              "\n",
              "    .colab-df-convert {\n",
              "      background-color: #E8F0FE;\n",
              "      border: none;\n",
              "      border-radius: 50%;\n",
              "      cursor: pointer;\n",
              "      display: none;\n",
              "      fill: #1967D2;\n",
              "      height: 32px;\n",
              "      padding: 0 0 0 0;\n",
              "      width: 32px;\n",
              "    }\n",
              "\n",
              "    .colab-df-convert:hover {\n",
              "      background-color: #E2EBFA;\n",
              "      box-shadow: 0px 1px 2px rgba(60, 64, 67, 0.3), 0px 1px 3px 1px rgba(60, 64, 67, 0.15);\n",
              "      fill: #174EA6;\n",
              "    }\n",
              "\n",
              "    .colab-df-buttons div {\n",
              "      margin-bottom: 4px;\n",
              "    }\n",
              "\n",
              "    [theme=dark] .colab-df-convert {\n",
              "      background-color: #3B4455;\n",
              "      fill: #D2E3FC;\n",
              "    }\n",
              "\n",
              "    [theme=dark] .colab-df-convert:hover {\n",
              "      background-color: #434B5C;\n",
              "      box-shadow: 0px 1px 3px 1px rgba(0, 0, 0, 0.15);\n",
              "      filter: drop-shadow(0px 1px 2px rgba(0, 0, 0, 0.3));\n",
              "      fill: #FFFFFF;\n",
              "    }\n",
              "  </style>\n",
              "\n",
              "    <script>\n",
              "      const buttonEl =\n",
              "        document.querySelector('#df-f41af82a-b0d3-4da0-acad-e043bcfae130 button.colab-df-convert');\n",
              "      buttonEl.style.display =\n",
              "        google.colab.kernel.accessAllowed ? 'block' : 'none';\n",
              "\n",
              "      async function convertToInteractive(key) {\n",
              "        const element = document.querySelector('#df-f41af82a-b0d3-4da0-acad-e043bcfae130');\n",
              "        const dataTable =\n",
              "          await google.colab.kernel.invokeFunction('convertToInteractive',\n",
              "                                                    [key], {});\n",
              "        if (!dataTable) return;\n",
              "\n",
              "        const docLinkHtml = 'Like what you see? Visit the ' +\n",
              "          '<a target=\"_blank\" href=https://colab.research.google.com/notebooks/data_table.ipynb>data table notebook</a>'\n",
              "          + ' to learn more about interactive tables.';\n",
              "        element.innerHTML = '';\n",
              "        dataTable['output_type'] = 'display_data';\n",
              "        await google.colab.output.renderOutput(dataTable, element);\n",
              "        const docLink = document.createElement('div');\n",
              "        docLink.innerHTML = docLinkHtml;\n",
              "        element.appendChild(docLink);\n",
              "      }\n",
              "    </script>\n",
              "  </div>\n",
              "\n",
              "\n",
              "<div id=\"df-d8fd9b53-c007-4ea5-9418-5292c57d0cff\">\n",
              "  <button class=\"colab-df-quickchart\" onclick=\"quickchart('df-d8fd9b53-c007-4ea5-9418-5292c57d0cff')\"\n",
              "            title=\"Suggest charts\"\n",
              "            style=\"display:none;\">\n",
              "\n",
              "<svg xmlns=\"http://www.w3.org/2000/svg\" height=\"24px\"viewBox=\"0 0 24 24\"\n",
              "     width=\"24px\">\n",
              "    <g>\n",
              "        <path d=\"M19 3H5c-1.1 0-2 .9-2 2v14c0 1.1.9 2 2 2h14c1.1 0 2-.9 2-2V5c0-1.1-.9-2-2-2zM9 17H7v-7h2v7zm4 0h-2V7h2v10zm4 0h-2v-4h2v4z\"/>\n",
              "    </g>\n",
              "</svg>\n",
              "  </button>\n",
              "\n",
              "<style>\n",
              "  .colab-df-quickchart {\n",
              "      --bg-color: #E8F0FE;\n",
              "      --fill-color: #1967D2;\n",
              "      --hover-bg-color: #E2EBFA;\n",
              "      --hover-fill-color: #174EA6;\n",
              "      --disabled-fill-color: #AAA;\n",
              "      --disabled-bg-color: #DDD;\n",
              "  }\n",
              "\n",
              "  [theme=dark] .colab-df-quickchart {\n",
              "      --bg-color: #3B4455;\n",
              "      --fill-color: #D2E3FC;\n",
              "      --hover-bg-color: #434B5C;\n",
              "      --hover-fill-color: #FFFFFF;\n",
              "      --disabled-bg-color: #3B4455;\n",
              "      --disabled-fill-color: #666;\n",
              "  }\n",
              "\n",
              "  .colab-df-quickchart {\n",
              "    background-color: var(--bg-color);\n",
              "    border: none;\n",
              "    border-radius: 50%;\n",
              "    cursor: pointer;\n",
              "    display: none;\n",
              "    fill: var(--fill-color);\n",
              "    height: 32px;\n",
              "    padding: 0;\n",
              "    width: 32px;\n",
              "  }\n",
              "\n",
              "  .colab-df-quickchart:hover {\n",
              "    background-color: var(--hover-bg-color);\n",
              "    box-shadow: 0 1px 2px rgba(60, 64, 67, 0.3), 0 1px 3px 1px rgba(60, 64, 67, 0.15);\n",
              "    fill: var(--button-hover-fill-color);\n",
              "  }\n",
              "\n",
              "  .colab-df-quickchart-complete:disabled,\n",
              "  .colab-df-quickchart-complete:disabled:hover {\n",
              "    background-color: var(--disabled-bg-color);\n",
              "    fill: var(--disabled-fill-color);\n",
              "    box-shadow: none;\n",
              "  }\n",
              "\n",
              "  .colab-df-spinner {\n",
              "    border: 2px solid var(--fill-color);\n",
              "    border-color: transparent;\n",
              "    border-bottom-color: var(--fill-color);\n",
              "    animation:\n",
              "      spin 1s steps(1) infinite;\n",
              "  }\n",
              "\n",
              "  @keyframes spin {\n",
              "    0% {\n",
              "      border-color: transparent;\n",
              "      border-bottom-color: var(--fill-color);\n",
              "      border-left-color: var(--fill-color);\n",
              "    }\n",
              "    20% {\n",
              "      border-color: transparent;\n",
              "      border-left-color: var(--fill-color);\n",
              "      border-top-color: var(--fill-color);\n",
              "    }\n",
              "    30% {\n",
              "      border-color: transparent;\n",
              "      border-left-color: var(--fill-color);\n",
              "      border-top-color: var(--fill-color);\n",
              "      border-right-color: var(--fill-color);\n",
              "    }\n",
              "    40% {\n",
              "      border-color: transparent;\n",
              "      border-right-color: var(--fill-color);\n",
              "      border-top-color: var(--fill-color);\n",
              "    }\n",
              "    60% {\n",
              "      border-color: transparent;\n",
              "      border-right-color: var(--fill-color);\n",
              "    }\n",
              "    80% {\n",
              "      border-color: transparent;\n",
              "      border-right-color: var(--fill-color);\n",
              "      border-bottom-color: var(--fill-color);\n",
              "    }\n",
              "    90% {\n",
              "      border-color: transparent;\n",
              "      border-bottom-color: var(--fill-color);\n",
              "    }\n",
              "  }\n",
              "</style>\n",
              "\n",
              "  <script>\n",
              "    async function quickchart(key) {\n",
              "      const quickchartButtonEl =\n",
              "        document.querySelector('#' + key + ' button');\n",
              "      quickchartButtonEl.disabled = true;  // To prevent multiple clicks.\n",
              "      quickchartButtonEl.classList.add('colab-df-spinner');\n",
              "      try {\n",
              "        const charts = await google.colab.kernel.invokeFunction(\n",
              "            'suggestCharts', [key], {});\n",
              "      } catch (error) {\n",
              "        console.error('Error during call to suggestCharts:', error);\n",
              "      }\n",
              "      quickchartButtonEl.classList.remove('colab-df-spinner');\n",
              "      quickchartButtonEl.classList.add('colab-df-quickchart-complete');\n",
              "    }\n",
              "    (() => {\n",
              "      let quickchartButtonEl =\n",
              "        document.querySelector('#df-d8fd9b53-c007-4ea5-9418-5292c57d0cff button');\n",
              "      quickchartButtonEl.style.display =\n",
              "        google.colab.kernel.accessAllowed ? 'block' : 'none';\n",
              "    })();\n",
              "  </script>\n",
              "</div>\n",
              "\n",
              "    </div>\n",
              "  </div>\n"
            ],
            "application/vnd.google.colaboratory.intrinsic+json": {
              "type": "dataframe",
              "summary": "{\n  \"name\": \"pd\",\n  \"rows\": 19,\n  \"fields\": [\n    {\n      \"column\": \"0\",\n      \"properties\": {\n        \"dtype\": \"number\",\n        \"std\": 0.4227214492150531,\n        \"min\": 0.0005004443,\n        \"max\": 0.9985605,\n        \"num_unique_values\": 19,\n        \"samples\": [\n          0.9961627,\n          0.0005004443,\n          0.0006407234\n        ],\n        \"semantic_type\": \"\",\n        \"description\": \"\"\n      }\n    },\n    {\n      \"column\": \"1\",\n      \"properties\": {\n        \"dtype\": \"number\",\n        \"std\": 0.4468132699236601,\n        \"min\": 0.00048277405,\n        \"max\": 0.99850404,\n        \"num_unique_values\": 19,\n        \"samples\": [\n          0.0012880691,\n          0.99850404,\n          0.0006478139\n        ],\n        \"semantic_type\": \"\",\n        \"description\": \"\"\n      }\n    },\n    {\n      \"column\": \"2\",\n      \"properties\": {\n        \"dtype\": \"number\",\n        \"std\": 0.4930073103078603,\n        \"min\": 0.00048306052,\n        \"max\": 0.9982531,\n        \"num_unique_values\": 19,\n        \"samples\": [\n          0.0012827389,\n          0.0005047809,\n          0.99808216\n        ],\n        \"semantic_type\": \"\",\n        \"description\": \"\"\n      }\n    },\n    {\n      \"column\": \"3\",\n      \"properties\": {\n        \"dtype\": \"number\",\n        \"std\": 0.31383970818131934,\n        \"min\": 0.00047371327,\n        \"max\": 0.9973346,\n        \"num_unique_values\": 19,\n        \"samples\": [\n          0.0012664797,\n          0.00049068686,\n          0.0006292599\n        ],\n        \"semantic_type\": \"\",\n        \"description\": \"\"\n      }\n    }\n  ]\n}"
            }
          },
          "metadata": {},
          "execution_count": 25
        }
      ]
    },
    {
      "cell_type": "code",
      "source": [
        "# identify the dominate topic for each document\n",
        "\n",
        "doc_topics = []\n",
        "for doc_bow in bow:\n",
        "    topic_probs = lda_model.get_document_topics(doc_bow)\n",
        "    #\n",
        "    dominant_topic = max(topic_probs, key=lambda x: x[1])  # Get the topic with the highest probability\n",
        "    doc_topics.append(dominant_topic)"
      ],
      "metadata": {
        "id": "b346wis-92iL"
      },
      "execution_count": null,
      "outputs": []
    },
    {
      "cell_type": "code",
      "source": [
        "# a closer look inside of max(items, key= lamda x: x[1])\n",
        "# use one document for example\n",
        "prob = lda_model.get_document_topics(bow[0])\n",
        "# prob is the list of (topic, probability) tuple\n",
        "print(prob)\n",
        "# print one x[1] value\n",
        "print(prob[0][1]) # for tuple, the first tuple (0), second value(1)\n",
        "\n",
        "#put it together\n",
        "max(prob, key=lambda x: x[1]) # for each item in the list, return highest probabilities"
      ],
      "metadata": {
        "colab": {
          "base_uri": "https://localhost:8080/"
        },
        "id": "oyhXlVsZ-S_Q",
        "outputId": "6f5116c3-bdcb-4786-b30c-1229bcc6d2e4"
      },
      "execution_count": null,
      "outputs": [
        {
          "output_type": "stream",
          "name": "stdout",
          "text": [
            "[(0, 0.9961611)]\n",
            "0.9961611\n"
          ]
        },
        {
          "output_type": "execute_result",
          "data": {
            "text/plain": [
              "(0, 0.9961611)"
            ]
          },
          "metadata": {},
          "execution_count": 27
        }
      ]
    },
    {
      "cell_type": "code",
      "source": [
        "# Convert to DataFrame\n",
        "doc_dominant_topic = pd.DataFrame(doc_topics, columns=['DominantTopic', 'Probability'])"
      ],
      "metadata": {
        "id": "ArIYgHoN-TDP"
      },
      "execution_count": null,
      "outputs": []
    },
    {
      "cell_type": "code",
      "source": [
        "doc_dominant_topic.head()"
      ],
      "metadata": {
        "colab": {
          "base_uri": "https://localhost:8080/",
          "height": 206
        },
        "id": "547uEe2J92ok",
        "outputId": "4444e4a8-b428-4248-e800-45b5c3c994a3"
      },
      "execution_count": null,
      "outputs": [
        {
          "output_type": "execute_result",
          "data": {
            "text/plain": [
              "   DominantTopic  Probability\n",
              "0              0     0.996162\n",
              "1              0     0.997805\n",
              "2              0     0.998560\n",
              "3              1     0.997992\n",
              "4              2     0.996952"
            ],
            "text/html": [
              "\n",
              "  <div id=\"df-8bf3637f-478d-4eb7-8d84-d070ff901075\" class=\"colab-df-container\">\n",
              "    <div>\n",
              "<style scoped>\n",
              "    .dataframe tbody tr th:only-of-type {\n",
              "        vertical-align: middle;\n",
              "    }\n",
              "\n",
              "    .dataframe tbody tr th {\n",
              "        vertical-align: top;\n",
              "    }\n",
              "\n",
              "    .dataframe thead th {\n",
              "        text-align: right;\n",
              "    }\n",
              "</style>\n",
              "<table border=\"1\" class=\"dataframe\">\n",
              "  <thead>\n",
              "    <tr style=\"text-align: right;\">\n",
              "      <th></th>\n",
              "      <th>DominantTopic</th>\n",
              "      <th>Probability</th>\n",
              "    </tr>\n",
              "  </thead>\n",
              "  <tbody>\n",
              "    <tr>\n",
              "      <th>0</th>\n",
              "      <td>0</td>\n",
              "      <td>0.996162</td>\n",
              "    </tr>\n",
              "    <tr>\n",
              "      <th>1</th>\n",
              "      <td>0</td>\n",
              "      <td>0.997805</td>\n",
              "    </tr>\n",
              "    <tr>\n",
              "      <th>2</th>\n",
              "      <td>0</td>\n",
              "      <td>0.998560</td>\n",
              "    </tr>\n",
              "    <tr>\n",
              "      <th>3</th>\n",
              "      <td>1</td>\n",
              "      <td>0.997992</td>\n",
              "    </tr>\n",
              "    <tr>\n",
              "      <th>4</th>\n",
              "      <td>2</td>\n",
              "      <td>0.996952</td>\n",
              "    </tr>\n",
              "  </tbody>\n",
              "</table>\n",
              "</div>\n",
              "    <div class=\"colab-df-buttons\">\n",
              "\n",
              "  <div class=\"colab-df-container\">\n",
              "    <button class=\"colab-df-convert\" onclick=\"convertToInteractive('df-8bf3637f-478d-4eb7-8d84-d070ff901075')\"\n",
              "            title=\"Convert this dataframe to an interactive table.\"\n",
              "            style=\"display:none;\">\n",
              "\n",
              "  <svg xmlns=\"http://www.w3.org/2000/svg\" height=\"24px\" viewBox=\"0 -960 960 960\">\n",
              "    <path d=\"M120-120v-720h720v720H120Zm60-500h600v-160H180v160Zm220 220h160v-160H400v160Zm0 220h160v-160H400v160ZM180-400h160v-160H180v160Zm440 0h160v-160H620v160ZM180-180h160v-160H180v160Zm440 0h160v-160H620v160Z\"/>\n",
              "  </svg>\n",
              "    </button>\n",
              "\n",
              "  <style>\n",
              "    .colab-df-container {\n",
              "      display:flex;\n",
              "      gap: 12px;\n",
              "    }\n",
              "\n",
              "    .colab-df-convert {\n",
              "      background-color: #E8F0FE;\n",
              "      border: none;\n",
              "      border-radius: 50%;\n",
              "      cursor: pointer;\n",
              "      display: none;\n",
              "      fill: #1967D2;\n",
              "      height: 32px;\n",
              "      padding: 0 0 0 0;\n",
              "      width: 32px;\n",
              "    }\n",
              "\n",
              "    .colab-df-convert:hover {\n",
              "      background-color: #E2EBFA;\n",
              "      box-shadow: 0px 1px 2px rgba(60, 64, 67, 0.3), 0px 1px 3px 1px rgba(60, 64, 67, 0.15);\n",
              "      fill: #174EA6;\n",
              "    }\n",
              "\n",
              "    .colab-df-buttons div {\n",
              "      margin-bottom: 4px;\n",
              "    }\n",
              "\n",
              "    [theme=dark] .colab-df-convert {\n",
              "      background-color: #3B4455;\n",
              "      fill: #D2E3FC;\n",
              "    }\n",
              "\n",
              "    [theme=dark] .colab-df-convert:hover {\n",
              "      background-color: #434B5C;\n",
              "      box-shadow: 0px 1px 3px 1px rgba(0, 0, 0, 0.15);\n",
              "      filter: drop-shadow(0px 1px 2px rgba(0, 0, 0, 0.3));\n",
              "      fill: #FFFFFF;\n",
              "    }\n",
              "  </style>\n",
              "\n",
              "    <script>\n",
              "      const buttonEl =\n",
              "        document.querySelector('#df-8bf3637f-478d-4eb7-8d84-d070ff901075 button.colab-df-convert');\n",
              "      buttonEl.style.display =\n",
              "        google.colab.kernel.accessAllowed ? 'block' : 'none';\n",
              "\n",
              "      async function convertToInteractive(key) {\n",
              "        const element = document.querySelector('#df-8bf3637f-478d-4eb7-8d84-d070ff901075');\n",
              "        const dataTable =\n",
              "          await google.colab.kernel.invokeFunction('convertToInteractive',\n",
              "                                                    [key], {});\n",
              "        if (!dataTable) return;\n",
              "\n",
              "        const docLinkHtml = 'Like what you see? Visit the ' +\n",
              "          '<a target=\"_blank\" href=https://colab.research.google.com/notebooks/data_table.ipynb>data table notebook</a>'\n",
              "          + ' to learn more about interactive tables.';\n",
              "        element.innerHTML = '';\n",
              "        dataTable['output_type'] = 'display_data';\n",
              "        await google.colab.output.renderOutput(dataTable, element);\n",
              "        const docLink = document.createElement('div');\n",
              "        docLink.innerHTML = docLinkHtml;\n",
              "        element.appendChild(docLink);\n",
              "      }\n",
              "    </script>\n",
              "  </div>\n",
              "\n",
              "\n",
              "<div id=\"df-3768bf79-e7e7-47c4-bdaa-8126dece2f99\">\n",
              "  <button class=\"colab-df-quickchart\" onclick=\"quickchart('df-3768bf79-e7e7-47c4-bdaa-8126dece2f99')\"\n",
              "            title=\"Suggest charts\"\n",
              "            style=\"display:none;\">\n",
              "\n",
              "<svg xmlns=\"http://www.w3.org/2000/svg\" height=\"24px\"viewBox=\"0 0 24 24\"\n",
              "     width=\"24px\">\n",
              "    <g>\n",
              "        <path d=\"M19 3H5c-1.1 0-2 .9-2 2v14c0 1.1.9 2 2 2h14c1.1 0 2-.9 2-2V5c0-1.1-.9-2-2-2zM9 17H7v-7h2v7zm4 0h-2V7h2v10zm4 0h-2v-4h2v4z\"/>\n",
              "    </g>\n",
              "</svg>\n",
              "  </button>\n",
              "\n",
              "<style>\n",
              "  .colab-df-quickchart {\n",
              "      --bg-color: #E8F0FE;\n",
              "      --fill-color: #1967D2;\n",
              "      --hover-bg-color: #E2EBFA;\n",
              "      --hover-fill-color: #174EA6;\n",
              "      --disabled-fill-color: #AAA;\n",
              "      --disabled-bg-color: #DDD;\n",
              "  }\n",
              "\n",
              "  [theme=dark] .colab-df-quickchart {\n",
              "      --bg-color: #3B4455;\n",
              "      --fill-color: #D2E3FC;\n",
              "      --hover-bg-color: #434B5C;\n",
              "      --hover-fill-color: #FFFFFF;\n",
              "      --disabled-bg-color: #3B4455;\n",
              "      --disabled-fill-color: #666;\n",
              "  }\n",
              "\n",
              "  .colab-df-quickchart {\n",
              "    background-color: var(--bg-color);\n",
              "    border: none;\n",
              "    border-radius: 50%;\n",
              "    cursor: pointer;\n",
              "    display: none;\n",
              "    fill: var(--fill-color);\n",
              "    height: 32px;\n",
              "    padding: 0;\n",
              "    width: 32px;\n",
              "  }\n",
              "\n",
              "  .colab-df-quickchart:hover {\n",
              "    background-color: var(--hover-bg-color);\n",
              "    box-shadow: 0 1px 2px rgba(60, 64, 67, 0.3), 0 1px 3px 1px rgba(60, 64, 67, 0.15);\n",
              "    fill: var(--button-hover-fill-color);\n",
              "  }\n",
              "\n",
              "  .colab-df-quickchart-complete:disabled,\n",
              "  .colab-df-quickchart-complete:disabled:hover {\n",
              "    background-color: var(--disabled-bg-color);\n",
              "    fill: var(--disabled-fill-color);\n",
              "    box-shadow: none;\n",
              "  }\n",
              "\n",
              "  .colab-df-spinner {\n",
              "    border: 2px solid var(--fill-color);\n",
              "    border-color: transparent;\n",
              "    border-bottom-color: var(--fill-color);\n",
              "    animation:\n",
              "      spin 1s steps(1) infinite;\n",
              "  }\n",
              "\n",
              "  @keyframes spin {\n",
              "    0% {\n",
              "      border-color: transparent;\n",
              "      border-bottom-color: var(--fill-color);\n",
              "      border-left-color: var(--fill-color);\n",
              "    }\n",
              "    20% {\n",
              "      border-color: transparent;\n",
              "      border-left-color: var(--fill-color);\n",
              "      border-top-color: var(--fill-color);\n",
              "    }\n",
              "    30% {\n",
              "      border-color: transparent;\n",
              "      border-left-color: var(--fill-color);\n",
              "      border-top-color: var(--fill-color);\n",
              "      border-right-color: var(--fill-color);\n",
              "    }\n",
              "    40% {\n",
              "      border-color: transparent;\n",
              "      border-right-color: var(--fill-color);\n",
              "      border-top-color: var(--fill-color);\n",
              "    }\n",
              "    60% {\n",
              "      border-color: transparent;\n",
              "      border-right-color: var(--fill-color);\n",
              "    }\n",
              "    80% {\n",
              "      border-color: transparent;\n",
              "      border-right-color: var(--fill-color);\n",
              "      border-bottom-color: var(--fill-color);\n",
              "    }\n",
              "    90% {\n",
              "      border-color: transparent;\n",
              "      border-bottom-color: var(--fill-color);\n",
              "    }\n",
              "  }\n",
              "</style>\n",
              "\n",
              "  <script>\n",
              "    async function quickchart(key) {\n",
              "      const quickchartButtonEl =\n",
              "        document.querySelector('#' + key + ' button');\n",
              "      quickchartButtonEl.disabled = true;  // To prevent multiple clicks.\n",
              "      quickchartButtonEl.classList.add('colab-df-spinner');\n",
              "      try {\n",
              "        const charts = await google.colab.kernel.invokeFunction(\n",
              "            'suggestCharts', [key], {});\n",
              "      } catch (error) {\n",
              "        console.error('Error during call to suggestCharts:', error);\n",
              "      }\n",
              "      quickchartButtonEl.classList.remove('colab-df-spinner');\n",
              "      quickchartButtonEl.classList.add('colab-df-quickchart-complete');\n",
              "    }\n",
              "    (() => {\n",
              "      let quickchartButtonEl =\n",
              "        document.querySelector('#df-3768bf79-e7e7-47c4-bdaa-8126dece2f99 button');\n",
              "      quickchartButtonEl.style.display =\n",
              "        google.colab.kernel.accessAllowed ? 'block' : 'none';\n",
              "    })();\n",
              "  </script>\n",
              "</div>\n",
              "\n",
              "    </div>\n",
              "  </div>\n"
            ],
            "application/vnd.google.colaboratory.intrinsic+json": {
              "type": "dataframe",
              "variable_name": "doc_dominant_topic",
              "summary": "{\n  \"name\": \"doc_dominant_topic\",\n  \"rows\": 19,\n  \"fields\": [\n    {\n      \"column\": \"DominantTopic\",\n      \"properties\": {\n        \"dtype\": \"number\",\n        \"std\": 1,\n        \"min\": 0,\n        \"max\": 3,\n        \"num_unique_values\": 4,\n        \"samples\": [\n          1,\n          3,\n          0\n        ],\n        \"semantic_type\": \"\",\n        \"description\": \"\"\n      }\n    },\n    {\n      \"column\": \"Probability\",\n      \"properties\": {\n        \"dtype\": \"float32\",\n        \"num_unique_values\": 19,\n        \"samples\": [\n          0.996161699295044,\n          0.9985034465789795,\n          0.9980823397636414\n        ],\n        \"semantic_type\": \"\",\n        \"description\": \"\"\n      }\n    }\n  ]\n}"
            }
          },
          "metadata": {},
          "execution_count": 29
        }
      ]
    },
    {
      "cell_type": "code",
      "source": [
        "doc_dominant_topic = dt.join(doc_dominant_topic) # merge dataframes"
      ],
      "metadata": {
        "id": "peOhHKWd-ghO"
      },
      "execution_count": null,
      "outputs": []
    },
    {
      "cell_type": "code",
      "source": [
        "doc_dominant_topic.head()"
      ],
      "metadata": {
        "colab": {
          "base_uri": "https://localhost:8080/",
          "height": 206
        },
        "id": "hDa_Xu_N-gob",
        "outputId": "60264b17-562c-40bd-c6e8-a03f79556179"
      },
      "execution_count": null,
      "outputs": [
        {
          "output_type": "execute_result",
          "data": {
            "text/plain": [
              "          articleid                                               text  \\\n",
              "0  Daily_2017_07-05  Working fathers in East China's Jiangsu provin...   \n",
              "1  Daily_2021_03-10  CPPCC member Chen Xia appeals for greater chil...   \n",
              "2  Daily_2021_07-07  More details needed on how third-child policy ...   \n",
              "3  Daily_2022_01-12  BEIJING - The moment they are picked up from k...   \n",
              "4  Daily_2022_03-04  As China's demographic development is at a key...   \n",
              "\n",
              "        date  year source  DominantTopic  Probability  \n",
              "0   5-Jul-17  2017  Daily              0     0.996162  \n",
              "1  10-Mar-21  2021  Daily              0     0.997805  \n",
              "2   7-Jul-21  2021  Daily              0     0.998560  \n",
              "3  12-Jan-22  2022  Daily              1     0.997992  \n",
              "4   4-Mar-22  2022  Daily              2     0.996952  "
            ],
            "text/html": [
              "\n",
              "  <div id=\"df-ca8356ae-1060-45e3-89b2-4d15bddad32c\" class=\"colab-df-container\">\n",
              "    <div>\n",
              "<style scoped>\n",
              "    .dataframe tbody tr th:only-of-type {\n",
              "        vertical-align: middle;\n",
              "    }\n",
              "\n",
              "    .dataframe tbody tr th {\n",
              "        vertical-align: top;\n",
              "    }\n",
              "\n",
              "    .dataframe thead th {\n",
              "        text-align: right;\n",
              "    }\n",
              "</style>\n",
              "<table border=\"1\" class=\"dataframe\">\n",
              "  <thead>\n",
              "    <tr style=\"text-align: right;\">\n",
              "      <th></th>\n",
              "      <th>articleid</th>\n",
              "      <th>text</th>\n",
              "      <th>date</th>\n",
              "      <th>year</th>\n",
              "      <th>source</th>\n",
              "      <th>DominantTopic</th>\n",
              "      <th>Probability</th>\n",
              "    </tr>\n",
              "  </thead>\n",
              "  <tbody>\n",
              "    <tr>\n",
              "      <th>0</th>\n",
              "      <td>Daily_2017_07-05</td>\n",
              "      <td>Working fathers in East China's Jiangsu provin...</td>\n",
              "      <td>5-Jul-17</td>\n",
              "      <td>2017</td>\n",
              "      <td>Daily</td>\n",
              "      <td>0</td>\n",
              "      <td>0.996162</td>\n",
              "    </tr>\n",
              "    <tr>\n",
              "      <th>1</th>\n",
              "      <td>Daily_2021_03-10</td>\n",
              "      <td>CPPCC member Chen Xia appeals for greater chil...</td>\n",
              "      <td>10-Mar-21</td>\n",
              "      <td>2021</td>\n",
              "      <td>Daily</td>\n",
              "      <td>0</td>\n",
              "      <td>0.997805</td>\n",
              "    </tr>\n",
              "    <tr>\n",
              "      <th>2</th>\n",
              "      <td>Daily_2021_07-07</td>\n",
              "      <td>More details needed on how third-child policy ...</td>\n",
              "      <td>7-Jul-21</td>\n",
              "      <td>2021</td>\n",
              "      <td>Daily</td>\n",
              "      <td>0</td>\n",
              "      <td>0.998560</td>\n",
              "    </tr>\n",
              "    <tr>\n",
              "      <th>3</th>\n",
              "      <td>Daily_2022_01-12</td>\n",
              "      <td>BEIJING - The moment they are picked up from k...</td>\n",
              "      <td>12-Jan-22</td>\n",
              "      <td>2022</td>\n",
              "      <td>Daily</td>\n",
              "      <td>1</td>\n",
              "      <td>0.997992</td>\n",
              "    </tr>\n",
              "    <tr>\n",
              "      <th>4</th>\n",
              "      <td>Daily_2022_03-04</td>\n",
              "      <td>As China's demographic development is at a key...</td>\n",
              "      <td>4-Mar-22</td>\n",
              "      <td>2022</td>\n",
              "      <td>Daily</td>\n",
              "      <td>2</td>\n",
              "      <td>0.996952</td>\n",
              "    </tr>\n",
              "  </tbody>\n",
              "</table>\n",
              "</div>\n",
              "    <div class=\"colab-df-buttons\">\n",
              "\n",
              "  <div class=\"colab-df-container\">\n",
              "    <button class=\"colab-df-convert\" onclick=\"convertToInteractive('df-ca8356ae-1060-45e3-89b2-4d15bddad32c')\"\n",
              "            title=\"Convert this dataframe to an interactive table.\"\n",
              "            style=\"display:none;\">\n",
              "\n",
              "  <svg xmlns=\"http://www.w3.org/2000/svg\" height=\"24px\" viewBox=\"0 -960 960 960\">\n",
              "    <path d=\"M120-120v-720h720v720H120Zm60-500h600v-160H180v160Zm220 220h160v-160H400v160Zm0 220h160v-160H400v160ZM180-400h160v-160H180v160Zm440 0h160v-160H620v160ZM180-180h160v-160H180v160Zm440 0h160v-160H620v160Z\"/>\n",
              "  </svg>\n",
              "    </button>\n",
              "\n",
              "  <style>\n",
              "    .colab-df-container {\n",
              "      display:flex;\n",
              "      gap: 12px;\n",
              "    }\n",
              "\n",
              "    .colab-df-convert {\n",
              "      background-color: #E8F0FE;\n",
              "      border: none;\n",
              "      border-radius: 50%;\n",
              "      cursor: pointer;\n",
              "      display: none;\n",
              "      fill: #1967D2;\n",
              "      height: 32px;\n",
              "      padding: 0 0 0 0;\n",
              "      width: 32px;\n",
              "    }\n",
              "\n",
              "    .colab-df-convert:hover {\n",
              "      background-color: #E2EBFA;\n",
              "      box-shadow: 0px 1px 2px rgba(60, 64, 67, 0.3), 0px 1px 3px 1px rgba(60, 64, 67, 0.15);\n",
              "      fill: #174EA6;\n",
              "    }\n",
              "\n",
              "    .colab-df-buttons div {\n",
              "      margin-bottom: 4px;\n",
              "    }\n",
              "\n",
              "    [theme=dark] .colab-df-convert {\n",
              "      background-color: #3B4455;\n",
              "      fill: #D2E3FC;\n",
              "    }\n",
              "\n",
              "    [theme=dark] .colab-df-convert:hover {\n",
              "      background-color: #434B5C;\n",
              "      box-shadow: 0px 1px 3px 1px rgba(0, 0, 0, 0.15);\n",
              "      filter: drop-shadow(0px 1px 2px rgba(0, 0, 0, 0.3));\n",
              "      fill: #FFFFFF;\n",
              "    }\n",
              "  </style>\n",
              "\n",
              "    <script>\n",
              "      const buttonEl =\n",
              "        document.querySelector('#df-ca8356ae-1060-45e3-89b2-4d15bddad32c button.colab-df-convert');\n",
              "      buttonEl.style.display =\n",
              "        google.colab.kernel.accessAllowed ? 'block' : 'none';\n",
              "\n",
              "      async function convertToInteractive(key) {\n",
              "        const element = document.querySelector('#df-ca8356ae-1060-45e3-89b2-4d15bddad32c');\n",
              "        const dataTable =\n",
              "          await google.colab.kernel.invokeFunction('convertToInteractive',\n",
              "                                                    [key], {});\n",
              "        if (!dataTable) return;\n",
              "\n",
              "        const docLinkHtml = 'Like what you see? Visit the ' +\n",
              "          '<a target=\"_blank\" href=https://colab.research.google.com/notebooks/data_table.ipynb>data table notebook</a>'\n",
              "          + ' to learn more about interactive tables.';\n",
              "        element.innerHTML = '';\n",
              "        dataTable['output_type'] = 'display_data';\n",
              "        await google.colab.output.renderOutput(dataTable, element);\n",
              "        const docLink = document.createElement('div');\n",
              "        docLink.innerHTML = docLinkHtml;\n",
              "        element.appendChild(docLink);\n",
              "      }\n",
              "    </script>\n",
              "  </div>\n",
              "\n",
              "\n",
              "<div id=\"df-7190cae0-3b95-47e7-8589-b4e2d973854a\">\n",
              "  <button class=\"colab-df-quickchart\" onclick=\"quickchart('df-7190cae0-3b95-47e7-8589-b4e2d973854a')\"\n",
              "            title=\"Suggest charts\"\n",
              "            style=\"display:none;\">\n",
              "\n",
              "<svg xmlns=\"http://www.w3.org/2000/svg\" height=\"24px\"viewBox=\"0 0 24 24\"\n",
              "     width=\"24px\">\n",
              "    <g>\n",
              "        <path d=\"M19 3H5c-1.1 0-2 .9-2 2v14c0 1.1.9 2 2 2h14c1.1 0 2-.9 2-2V5c0-1.1-.9-2-2-2zM9 17H7v-7h2v7zm4 0h-2V7h2v10zm4 0h-2v-4h2v4z\"/>\n",
              "    </g>\n",
              "</svg>\n",
              "  </button>\n",
              "\n",
              "<style>\n",
              "  .colab-df-quickchart {\n",
              "      --bg-color: #E8F0FE;\n",
              "      --fill-color: #1967D2;\n",
              "      --hover-bg-color: #E2EBFA;\n",
              "      --hover-fill-color: #174EA6;\n",
              "      --disabled-fill-color: #AAA;\n",
              "      --disabled-bg-color: #DDD;\n",
              "  }\n",
              "\n",
              "  [theme=dark] .colab-df-quickchart {\n",
              "      --bg-color: #3B4455;\n",
              "      --fill-color: #D2E3FC;\n",
              "      --hover-bg-color: #434B5C;\n",
              "      --hover-fill-color: #FFFFFF;\n",
              "      --disabled-bg-color: #3B4455;\n",
              "      --disabled-fill-color: #666;\n",
              "  }\n",
              "\n",
              "  .colab-df-quickchart {\n",
              "    background-color: var(--bg-color);\n",
              "    border: none;\n",
              "    border-radius: 50%;\n",
              "    cursor: pointer;\n",
              "    display: none;\n",
              "    fill: var(--fill-color);\n",
              "    height: 32px;\n",
              "    padding: 0;\n",
              "    width: 32px;\n",
              "  }\n",
              "\n",
              "  .colab-df-quickchart:hover {\n",
              "    background-color: var(--hover-bg-color);\n",
              "    box-shadow: 0 1px 2px rgba(60, 64, 67, 0.3), 0 1px 3px 1px rgba(60, 64, 67, 0.15);\n",
              "    fill: var(--button-hover-fill-color);\n",
              "  }\n",
              "\n",
              "  .colab-df-quickchart-complete:disabled,\n",
              "  .colab-df-quickchart-complete:disabled:hover {\n",
              "    background-color: var(--disabled-bg-color);\n",
              "    fill: var(--disabled-fill-color);\n",
              "    box-shadow: none;\n",
              "  }\n",
              "\n",
              "  .colab-df-spinner {\n",
              "    border: 2px solid var(--fill-color);\n",
              "    border-color: transparent;\n",
              "    border-bottom-color: var(--fill-color);\n",
              "    animation:\n",
              "      spin 1s steps(1) infinite;\n",
              "  }\n",
              "\n",
              "  @keyframes spin {\n",
              "    0% {\n",
              "      border-color: transparent;\n",
              "      border-bottom-color: var(--fill-color);\n",
              "      border-left-color: var(--fill-color);\n",
              "    }\n",
              "    20% {\n",
              "      border-color: transparent;\n",
              "      border-left-color: var(--fill-color);\n",
              "      border-top-color: var(--fill-color);\n",
              "    }\n",
              "    30% {\n",
              "      border-color: transparent;\n",
              "      border-left-color: var(--fill-color);\n",
              "      border-top-color: var(--fill-color);\n",
              "      border-right-color: var(--fill-color);\n",
              "    }\n",
              "    40% {\n",
              "      border-color: transparent;\n",
              "      border-right-color: var(--fill-color);\n",
              "      border-top-color: var(--fill-color);\n",
              "    }\n",
              "    60% {\n",
              "      border-color: transparent;\n",
              "      border-right-color: var(--fill-color);\n",
              "    }\n",
              "    80% {\n",
              "      border-color: transparent;\n",
              "      border-right-color: var(--fill-color);\n",
              "      border-bottom-color: var(--fill-color);\n",
              "    }\n",
              "    90% {\n",
              "      border-color: transparent;\n",
              "      border-bottom-color: var(--fill-color);\n",
              "    }\n",
              "  }\n",
              "</style>\n",
              "\n",
              "  <script>\n",
              "    async function quickchart(key) {\n",
              "      const quickchartButtonEl =\n",
              "        document.querySelector('#' + key + ' button');\n",
              "      quickchartButtonEl.disabled = true;  // To prevent multiple clicks.\n",
              "      quickchartButtonEl.classList.add('colab-df-spinner');\n",
              "      try {\n",
              "        const charts = await google.colab.kernel.invokeFunction(\n",
              "            'suggestCharts', [key], {});\n",
              "      } catch (error) {\n",
              "        console.error('Error during call to suggestCharts:', error);\n",
              "      }\n",
              "      quickchartButtonEl.classList.remove('colab-df-spinner');\n",
              "      quickchartButtonEl.classList.add('colab-df-quickchart-complete');\n",
              "    }\n",
              "    (() => {\n",
              "      let quickchartButtonEl =\n",
              "        document.querySelector('#df-7190cae0-3b95-47e7-8589-b4e2d973854a button');\n",
              "      quickchartButtonEl.style.display =\n",
              "        google.colab.kernel.accessAllowed ? 'block' : 'none';\n",
              "    })();\n",
              "  </script>\n",
              "</div>\n",
              "\n",
              "    </div>\n",
              "  </div>\n"
            ],
            "application/vnd.google.colaboratory.intrinsic+json": {
              "type": "dataframe",
              "variable_name": "doc_dominant_topic",
              "summary": "{\n  \"name\": \"doc_dominant_topic\",\n  \"rows\": 19,\n  \"fields\": [\n    {\n      \"column\": \"articleid\",\n      \"properties\": {\n        \"dtype\": \"string\",\n        \"num_unique_values\": 19,\n        \"samples\": [\n          \"Daily_2017_07-05\",\n          \"Daily_2023_06-13\",\n          \"Global_2024_07-12\"\n        ],\n        \"semantic_type\": \"\",\n        \"description\": \"\"\n      }\n    },\n    {\n      \"column\": \"text\",\n      \"properties\": {\n        \"dtype\": \"string\",\n        \"num_unique_values\": 19,\n        \"samples\": [\n          \"Working fathers in East China's Jiangsu province can now take up to 30 days paid paternity leave to care for their newborns - double the amount of time in most other Chinese provinces. The Jiangsu government's legal office has drafted a local regulation to solicit public opinions on the change, which stipulates that new fathers can have 15 days paternity leave and an additional 15 days of \\\"joint parental leave\\\". It is designed to \\\"promote gender equality in employment\\\" and \\\"encourage husbands and wives to share the housework\\\", the government said. The move has been welcomed by parents and netizens alike. Zhong Lei, father of a 4-year-old girl from Nanjing, said he is now considering having a second child because of the change. \\\"It was a nightmare when my daughter was born, especially for my wife,\\\" he said. \\\"As a new mother, she needed help and I was not there for her. It will be great to have a month off work to take care of her and the newborn.\\\" According to the Jiangsu Women's Federation, China does not have a nationwide regulation for paternity leave. Each province and municipality regulates their own paternity leave, which varies from 10 to 15 days. Huang Xinwei, a pregnancy and postpartum psychology specialist at Nanjing Maternity and Child Health Hospital, said a longer period of paternity leave benefits both wives and husbands. \\\"Learning how to take care of newborns helps to foster a good father-child relationship. It also helps the fathers to realize how difficult life can be for new mothers,\\\" he said. \\\"Many new mothers have postpartum depression to some degree. It is important for them to be accompanied by family members, especially by the husbands. The sooner fathers take a part in raising their children, the better.\\\" Meng Xiaosi, a Standing Committee member of the CPPCC National Committee and vice-president of the Secretariat of the All-China Women's Federation, said during this year's two sessions in March that many women choose not to have a second child due to lack of child care support and financial pressure. She called for longer paid paternity leave for both husbands and wives. However, concerns have been raised that more time off work may increase costs for enterprises and affect the careers of fathers taking leave. \\\"It's possible that I may be transferred from my current post to a less important one,\\\" said Zhong, the father. \\\"I would not be surprised if private companies place more emphasis on job applicants' marital status after this change. The government should take more responsibility, including giving subsidies to companies.\\\" \",\n          \"Last month, the China Family Planning Association announced the launch of a new round of pilot projects in 20 municipal-level regions to foster a \\\"new-era \\\"marriage and childbearing culture as part of efforts to create a fertility-friendly environment. The first batch of regional pilot projects was introduced in June last year. Wang Pei'an, deputy director of the 13th National Committee of the Chinese People's Political Consultative Conference's population, resources and environment committee and executive vice president of the association, explained the initiative during a question-and-answer session with China Daily. Q: How has China's marriage and childbirth culture changed over the years? A: Young Chinese are increasingly embracing the trend of delaying marriage and having children, and tend to have fewer children overall. Meanwhile, more people are opting to get divorced, never marry, or have no children. Childbearing is no longer seen as a \\\"must\\\". Among college students, a happy marriage and stable career are priorities when they consider having children, and they no longer feel ashamed about divorce. Compared with their parents' generation, their low desire to have children stems from personal choice. There are several reasons for these changes, including more years spent at school that delay marriage and plans to have children, and women's anxiety about balancing child-raising and advancing their careers. Many young people now attach greater importance to personal advancement and realizing self-worth. The cost of raising a child has also risen significantly, prompting complaints from families. The average size of households is shrinking - from 3.44 people per household in 2000 to 2.62 in 2020 - as trends such as DINK (double income no kids) become more prevalent. Q: When and why was the concept of a \\\"new-era\\\" marriage and childbearing culture raised? A: The concept has been proposed as China faces a low fertility rate, a rising aging population, and uneven cross- regional population growth. The number of children women of childbearing age plan to have is falling, and the nation's average fertility rate dropped from 2 in 1992 to 1.15 in 2021. However, in Chinese culture, families still play an irreplaceable and fundamental role in providing care for the elderly and children. They also offer emotional and economic support, as well as advancing production, community management and promoting civilization across society. This concept has been formulated to meet people's aspirations for better lives. The \\\"new-era\\\" marriage and childbearing culture focuses on promoting marriage and having children at proper ages, improving prenatal and postnatal care services, encouraging couples to share child-rearing responsibilities, and curbing the high costs of betrothal gifts and other outdated customs. Q: Many young adults equate marrying at the right age to losing career advancement opportunities. What do you think? A: From 2010 to 2020, the average age for a first marriage rose by 3.63 years for men and 3.95 years for women. Getting married and having children can divert women's time and energy and potentially affect their performance at work. The Chinese authorities have introduced new rules on parental leave, along with other supportive measures aimed at reducing the impact of marriage and child-raising on young people's careers and personal development. To help them strike a balance between having a family and their careers, it is important to foster societal recognition of the value of marrying and having children at proper ages. It is also important to build a system to spread child-raising costs across different sectors to prevent enterprises incurring economic losses due to hiring female employees, and to address young people's concerns. Q: Why is it important to promote gender equality and sharing the burden of raising children between couples? A: Gender inequality in families could exacerbate work-family conflicts among female workers. Facing pressure from work and family, many women who see bright career prospects are unwilling to have children. Promoting gender equality can enhance marital relationships and encourage women to have children. It is important to tap into the positive effects that gender equality can have on increasing fertility, and to make sharing the responsibilities of child care a consensus and custom observed by all of society. Q: What additional measures should be introduced to build a fertility-friendly environment? A: It takes time for supportive measures, such as tax deductions to offset the cost of raising a child, issuing fertility subsidies, and extending paternity and maternity leave, to produce results. More efforts are needed to step up supportive policies on tax and housing, promote equal access to high quality education resources, offer incentives for employers who guarantee employees reproductive rights, and strengthen support for nursery care service providers and manufacturers of related products. It is also important to improve nursery care services, upgrade maternity and paternity leave regulations, encourage the elderly to care for babies, guide young people in valuing the family, and advance the development of families. Q: What experience has been gained from implementing the initiative in the first batch of pilot regions? A: Authorities in these regions have launched awareness campaigns, such as making advocacy videos and posters, and getting volunteers, experts and different government departments to join efforts to strengthen publicity. Some regions have taken note of local groups' views. For example, the authorities in Lijiang, Yunnan province, have included objections from the Naxi ethnic group to high bride prices. Meanwhile, in Ningbo, Zhejiang province, parent-child activities have been organized and a large number of fathers have explained their role in sharing responsibilities. In Harbin, Heilongjiang province, group weddings have been held for newlyweds, who have been given brochures and related packages as part of measures to foster a new fashion of marriage.\",\n          \"A medical staff member cares for a newborn at the neonatal care unit of a hospital in Lianyungang, East China's Jiangsu Province on January 1, 2024. China has established a childbearing and child-rearing supporting system, with a number of policies rolled out in localities across the country, including extending maternity leave to 158 days or longer, raising childbirth allowance and child-rearing subsidies, and providing more professional and affordable babysitter services at childcare institutions, Central China Television reported on Thursday, the 35th World Population Day, citing officials from China's National Health Commission (NHC). A demographer suggested that these policy measures should be further strengthened and added to cope with the fundamental concerns of young people, such as employment stability while more equitable income distribution, should be taken into consideration to boost China's birth rates. Themed under advocating a focus on family education and traditions and cultivation of marriage and child-rearing by the NHC, this year's population day aims to raise public awareness about further addressing China's declining birth rates in recent years and the demographic issues that may affect China's sustainable development. According to the NHC, all provinces have extended maternity leave by 60 days or more, and have set 15 days of paternity leave for families with newborns. In addition, five to 20 days of parental leave are given each year for families with toddlers, with all the provinces having extended their maternity leaves to 158 days or above. Compared with merely extending maternity leave, assuring women's employment after childbirth while offering flexible working hours may have a stronger positive effect, Li Jianmin, a professor of demography with the Institute of Population and Development at Nankai University, told the Global Times on Thursday. In order to alleviate the financial burden of childbearing, child-rearing and education, China established in 2022 the individual income tax special additional deduction for infants nursing for three years, with the deduction standard being 1,000 yuan ($137.53) per month for each child. In 2023, the threshold for special additional income tax deductions for taking care of children under age three was raised from 1,000 yuan to 2,000 yuan each month. Besides, subsidy policies for childbirth and child-rearing have been explored and rolled out in localities across the country. The subsidies offered in Southwest China's Yunnan Province and Northwest China's Ningxia Hui Autonomous Region have covered the entire provincial regions. Yunnan provides a one-time subsidy of 2,000 yuan and 5,000 yuan to families having a second and third child, respectively, along with an annual childcare subsidy of 800 yuan until the child turns three years old. Ningxia offers a one-time subsidy of 2,000 yuan and 4,000 yuan to families having a second and third child, respectively, and a monthly subsidy of no less than 200 yuan to families with a third child until the child reaches three years old. According to Li, rather than introducing the individual income tax special additional deduction which has little impact on low-income families, the root cause of high costs of child-rearing expenses and the problems relating to income distribution must be addressed. Moreover, a unified national policy on subsidies should be introduced since governments in localities at all levels are currently acting according to their own financial capabilities with most subsidies being temporary and not being able to be sustained in the long run, Li said. According to the NHC, a lack of childcare services for infants and toddlers aged up to three years old is one of the major factors holding back childbirth. Last year, the NHC and China's National Development and Reform Commission selected 33 cities as the first batch of demonstration cities for national infant and toddler childcare service, and introduced relevant policies to support and encourage the development of affordable childcare services. One of the 33 demonstration cities, Nanjing in East China's Jiangsu Province has adopted measures such as offering financial subsidies, providing venues, reducing rents and giving tax incentives to encourage social forces to participate in the establishment of an affordable childcare service system. On top of that, Li noted that policies that ensure stable employment and certainty around income will have positive effect on their family planning decisions. China continues to make efforts to improve comprehensive prevention and treatment capabilities for birth defects with the nationwide infant mortality rate and the mortality rate of children under 5 years old due to birth defects both decreasing by over 30 percent compared with five years ago.\"\n        ],\n        \"semantic_type\": \"\",\n        \"description\": \"\"\n      }\n    },\n    {\n      \"column\": \"date\",\n      \"properties\": {\n        \"dtype\": \"object\",\n        \"num_unique_values\": 19,\n        \"samples\": [\n          \"5-Jul-17\",\n          \"13-Jun-23\",\n          \"12-Jul-24\"\n        ],\n        \"semantic_type\": \"\",\n        \"description\": \"\"\n      }\n    },\n    {\n      \"column\": \"year\",\n      \"properties\": {\n        \"dtype\": \"number\",\n        \"std\": 2,\n        \"min\": 2017,\n        \"max\": 2024,\n        \"num_unique_values\": 7,\n        \"samples\": [\n          2017,\n          2021,\n          2018\n        ],\n        \"semantic_type\": \"\",\n        \"description\": \"\"\n      }\n    },\n    {\n      \"column\": \"source\",\n      \"properties\": {\n        \"dtype\": \"category\",\n        \"num_unique_values\": 3,\n        \"samples\": [\n          \"Daily\",\n          \"Global\",\n          \"Xinhua\"\n        ],\n        \"semantic_type\": \"\",\n        \"description\": \"\"\n      }\n    },\n    {\n      \"column\": \"DominantTopic\",\n      \"properties\": {\n        \"dtype\": \"number\",\n        \"std\": 1,\n        \"min\": 0,\n        \"max\": 3,\n        \"num_unique_values\": 4,\n        \"samples\": [\n          1,\n          3,\n          0\n        ],\n        \"semantic_type\": \"\",\n        \"description\": \"\"\n      }\n    },\n    {\n      \"column\": \"Probability\",\n      \"properties\": {\n        \"dtype\": \"float32\",\n        \"num_unique_values\": 19,\n        \"samples\": [\n          0.996161699295044,\n          0.9985034465789795,\n          0.9980823397636414\n        ],\n        \"semantic_type\": \"\",\n        \"description\": \"\"\n      }\n    }\n  ]\n}"
            }
          },
          "metadata": {},
          "execution_count": 31
        }
      ]
    },
    {
      "cell_type": "code",
      "source": [
        "# given we identified dominant topic for each document\n",
        "# we can easily find the most representative document for each topic\n",
        "topic_documents = {}\n",
        "num_documents = 10\n",
        "for i in range(num_topics):\n",
        "  docs = doc_dominant_topic[doc_dominant_topic['DominantTopic'] == i]\n",
        "  # sort the data frame in descending order\n",
        "  docs.sort_values(by='Probability', ascending=False, inplace=True)\n",
        "  topic_documents[f\"topic_{i}\"] = docs.text[: num_documents].tolist()"
      ],
      "metadata": {
        "colab": {
          "base_uri": "https://localhost:8080/"
        },
        "id": "Irlc83xi-zhr",
        "outputId": "5291c5fb-7af8-4f80-ef06-0576b7a292c0"
      },
      "execution_count": null,
      "outputs": [
        {
          "output_type": "stream",
          "name": "stderr",
          "text": [
            "<ipython-input-32-47c54096de7c>:8: SettingWithCopyWarning: \n",
            "A value is trying to be set on a copy of a slice from a DataFrame\n",
            "\n",
            "See the caveats in the documentation: https://pandas.pydata.org/pandas-docs/stable/user_guide/indexing.html#returning-a-view-versus-a-copy\n",
            "  docs.sort_values(by='Probability', ascending=False, inplace=True)\n"
          ]
        }
      ]
    },
    {
      "cell_type": "code",
      "source": [
        "topic_documents.keys()"
      ],
      "metadata": {
        "colab": {
          "base_uri": "https://localhost:8080/"
        },
        "id": "VxxgsO_y-zmZ",
        "outputId": "d5b5df9e-df24-4a1d-a8c0-e8e766a68caf"
      },
      "execution_count": null,
      "outputs": [
        {
          "output_type": "execute_result",
          "data": {
            "text/plain": [
              "dict_keys(['topic_0', 'topic_1', 'topic_2', 'topic_3'])"
            ]
          },
          "metadata": {},
          "execution_count": 33
        }
      ]
    },
    {
      "cell_type": "code",
      "source": [
        "# label dominant topics\n",
        "topic_labels = {\n",
        "    0: 'Parental Leave and Employment',\n",
        "    1: 'Family Support and Parental Policies',\n",
        "    2: 'Demographics and Policy Development',\n",
        "    3: 'Role of Fathers and Gender Dynamics'\n",
        "}"
      ],
      "metadata": {
        "id": "zDaowePU-6j0"
      },
      "execution_count": null,
      "outputs": []
    },
    {
      "cell_type": "code",
      "source": [
        "# Add the topic labels to the DataFrame\n",
        "doc_dominant_topic['TopicLabel'] = doc_dominant_topic['DominantTopic'].map(topic_labels)\n",
        "\n",
        "# Aggregate topic counts by media outlet and topic labels\n",
        "topic_distribution_labeled = doc_dominant_topic.groupby(['source', 'TopicLabel']).size().unstack(fill_value=0)\n",
        "\n",
        "# Normalize the counts to get the distribution\n",
        "topic_distribution_labeled = topic_distribution_labeled.div(topic_distribution_labeled.sum(axis=1), axis=0)\n",
        "\n",
        "# Plot the topic distribution with labels for each media outlet\n",
        "topic_distribution_labeled.plot(kind='bar', stacked=True, figsize=(14, 10))\n",
        "plt.title('Distribution of Dominant Themes by Media Outlet')\n",
        "plt.xlabel('Media Outlet')\n",
        "plt.ylabel('Proportion of Articles')\n",
        "plt.legend(title='Theme', bbox_to_anchor=(1.05, 1), loc='best')\n",
        "plt.show()\n"
      ],
      "metadata": {
        "colab": {
          "base_uri": "https://localhost:8080/",
          "height": 716
        },
        "id": "32GduIevHLXQ",
        "outputId": "8515d69b-1ab6-4214-81d3-0daef7c7e1b0"
      },
      "execution_count": null,
      "outputs": [
        {
          "output_type": "display_data",
          "data": {
            "text/plain": [
              "<Figure size 1400x1000 with 1 Axes>"
            ],
            "image/png": "[encoded data removed]"
          },
          "metadata": {}
        }
      ]
    },
    {
      "cell_type": "markdown",
      "source": [
        "# Evaluate number of topics through coherence matrix"
      ],
      "metadata": {
        "id": "d5JFtKOu_VK8"
      }
    },
    {
      "cell_type": "code",
      "source": [
        "# Calculate coherence score for 1 model\n",
        "# coherencemodel in gensm\n",
        "# take preprocess documents\n",
        "coherence_model_lda = CoherenceModel(model=lda_model, texts=clean_docs,\n",
        "                                     dictionary=dictionary, coherence='c_v')\n",
        "coherence_lda = coherence_model_lda.get_coherence()\n",
        "coherence_lda"
      ],
      "metadata": {
        "colab": {
          "base_uri": "https://localhost:8080/"
        },
        "id": "VXHFW5FI-zrJ",
        "outputId": "3fe5c640-4963-4816-f09d-1227230d9da3"
      },
      "execution_count": null,
      "outputs": [
        {
          "output_type": "execute_result",
          "data": {
            "text/plain": [
              "0.37249354624127945"
            ]
          },
          "metadata": {},
          "execution_count": 36
        }
      ]
    },
    {
      "cell_type": "code",
      "source": [
        "# make a function to compute coherence scores\n",
        "# for a range of topic numbers\n",
        "def compute_coherence_values(dictionary, bow, cleaned_texts, min, max, step):\n",
        "    coherence_values = []\n",
        "    model_list = []\n",
        "    for num_topics in range(min, max, step):\n",
        "        model = LdaModel(bow, num_topics=num_topics,\n",
        "                         id2word=dictionary, passes=10)\n",
        "        model_list.append(model)\n",
        "        coherence_model = CoherenceModel(model=model, texts=cleaned_texts,\n",
        "                                         dictionary=dictionary, coherence='c_v')\n",
        "        coherence_values.append(coherence_model.get_coherence())\n",
        "    return model_list, coherence_values"
      ],
      "metadata": {
        "id": "nlAvgSMo-zwZ"
      },
      "execution_count": null,
      "outputs": []
    },
    {
      "cell_type": "code",
      "source": [
        "# calculate the coherence scores\n",
        "# for models with N from 1 to 10\n",
        "\n",
        "model_list, coherence_values = compute_coherence_values(dictionary, bow,\n",
        "                                                        clean_docs, min = 1,\n",
        "                                                        max = 10, step = 1)"
      ],
      "metadata": {
        "id": "j-PyqiPc-grw"
      },
      "execution_count": null,
      "outputs": []
    },
    {
      "cell_type": "code",
      "source": [
        "# Plot coherence scores\n",
        "x = range(1, 10, 1)\n",
        "plt.plot(x, coherence_values)\n",
        "plt.xlabel(\"Number of Topics\")\n",
        "plt.ylabel(\"Coherence Score\")\n",
        "plt.title(\"Optimal Number of Topics\")\n",
        "plt.show() # 5 is the optimal number of topics"
      ],
      "metadata": {
        "colab": {
          "base_uri": "https://localhost:8080/",
          "height": 472
        },
        "id": "spEXdUNE_ljB",
        "outputId": "f747d900-d37e-4f7e-9b4b-909b7a8daa17"
      },
      "execution_count": null,
      "outputs": [
        {
          "output_type": "display_data",
          "data": {
            "text/plain": [
              "<Figure size 640x480 with 1 Axes>"
            ],
            "image/png": "[encoded data removed]"
          },
          "metadata": {}
        }
      ]
    },
    {
      "cell_type": "code",
      "source": [],
      "metadata": {
        "id": "-IEcdXmn_luB"
      },
      "execution_count": null,
      "outputs": []
    },
    {
      "cell_type": "markdown",
      "source": [
        "# vizualization"
      ],
      "metadata": {
        "id": "KgIuKmtVIHdg"
      }
    },
    {
      "cell_type": "markdown",
      "source": [
        "## 1. Word Clouds for Each Topic"
      ],
      "metadata": {
        "id": "M2xDDjzcIZfD"
      }
    },
    {
      "cell_type": "code",
      "source": [
        "from wordcloud import WordCloud\n",
        "\n",
        "# Function to plot word cloud for each topic\n",
        "def plot_word_clouds(lda_model, num_topics, num_words=10):\n",
        "    for t in range(num_topics):\n",
        "        plt.figure(figsize=(5, 5))\n",
        "        plt.imshow(WordCloud(background_color='white').fit_words(dict(lda_model.show_topic(t, num_words))))\n",
        "        plt.axis(\"off\")\n",
        "        plt.title(f\"Topic #{t}\")\n",
        "        plt.show()\n",
        "\n",
        "# Plot word clouds\n",
        "plot_word_clouds(lda_model, num_topics)"
      ],
      "metadata": {
        "colab": {
          "base_uri": "https://localhost:8080/",
          "height": 961
        },
        "id": "pGBJwZRBIJlX",
        "outputId": "022e6c9f-f72b-4a36-d2c1-aa0c961e90c6"
      },
      "execution_count": null,
      "outputs": [
        {
          "output_type": "display_data",
          "data": {
            "text/plain": [
              "<Figure size 500x500 with 1 Axes>"
            ],
            "image/png": "[encoded data removed]"
          },
          "metadata": {}
        },
        {
          "output_type": "display_data",
          "data": {
            "text/plain": [
              "<Figure size 500x500 with 1 Axes>"
            ],
            "image/png": "[encoded data removed]"
          },
          "metadata": {}
        },
        {
          "output_type": "display_data",
          "data": {
            "text/plain": [
              "<Figure size 500x500 with 1 Axes>"
            ],
            "image/png": "[encoded data removed]"
          },
          "metadata": {}
        },
        {
          "output_type": "display_data",
          "data": {
            "text/plain": [
              "<Figure size 500x500 with 1 Axes>"
            ],
            "image/png": "[encoded data removed]"
          },
          "metadata": {}
        }
      ]
    },
    {
      "cell_type": "markdown",
      "source": [
        "##2. Using pyLDAvis for Interactive Visualization"
      ],
      "metadata": {
        "id": "Lv4vmgu6IdPQ"
      }
    },
    {
      "cell_type": "code",
      "source": [
        "!pip install pyLDAvis\n"
      ],
      "metadata": {
        "colab": {
          "base_uri": "https://localhost:8080/"
        },
        "id": "1QgxKl3QItOo",
        "outputId": "9a098770-0339-4881-c349-0f7c7b8aacd3"
      },
      "execution_count": null,
      "outputs": [
        {
          "output_type": "stream",
          "name": "stdout",
          "text": [
            "Collecting pyLDAvis\n",
            "  Downloading pyLDAvis-3.4.1-py3-none-any.whl.metadata (4.2 kB)\n",
            "Requirement already satisfied: numpy>=1.24.2 in /usr/local/lib/python3.10/dist-packages (from pyLDAvis) (1.26.4)\n",
            "Requirement already satisfied: scipy in /usr/local/lib/python3.10/dist-packages (from pyLDAvis) (1.13.1)\n",
            "Requirement already satisfied: pandas>=2.0.0 in /usr/local/lib/python3.10/dist-packages (from pyLDAvis) (2.1.4)\n",
            "Requirement already satisfied: joblib>=1.2.0 in /usr/local/lib/python3.10/dist-packages (from pyLDAvis) (1.4.2)\n",
            "Requirement already satisfied: jinja2 in /usr/local/lib/python3.10/dist-packages (from pyLDAvis) (3.1.4)\n",
            "Requirement already satisfied: numexpr in /usr/local/lib/python3.10/dist-packages (from pyLDAvis) (2.10.1)\n",
            "Collecting funcy (from pyLDAvis)\n",
            "  Downloading funcy-2.0-py2.py3-none-any.whl.metadata (5.9 kB)\n",
            "Requirement already satisfied: scikit-learn>=1.0.0 in /usr/local/lib/python3.10/dist-packages (from pyLDAvis) (1.3.2)\n",
            "Requirement already satisfied: gensim in /usr/local/lib/python3.10/dist-packages (from pyLDAvis) (4.3.3)\n",
            "Requirement already satisfied: setuptools in /usr/local/lib/python3.10/dist-packages (from pyLDAvis) (71.0.4)\n",
            "Requirement already satisfied: python-dateutil>=2.8.2 in /usr/local/lib/python3.10/dist-packages (from pandas>=2.0.0->pyLDAvis) (2.8.2)\n",
            "Requirement already satisfied: pytz>=2020.1 in /usr/local/lib/python3.10/dist-packages (from pandas>=2.0.0->pyLDAvis) (2024.1)\n",
            "Requirement already satisfied: tzdata>=2022.1 in /usr/local/lib/python3.10/dist-packages (from pandas>=2.0.0->pyLDAvis) (2024.1)\n",
            "Requirement already satisfied: threadpoolctl>=2.0.0 in /usr/local/lib/python3.10/dist-packages (from scikit-learn>=1.0.0->pyLDAvis) (3.5.0)\n",
            "Requirement already satisfied: smart-open>=1.8.1 in /usr/local/lib/python3.10/dist-packages (from gensim->pyLDAvis) (7.0.4)\n",
            "Requirement already satisfied: MarkupSafe>=2.0 in /usr/local/lib/python3.10/dist-packages (from jinja2->pyLDAvis) (2.1.5)\n",
            "Requirement already satisfied: six>=1.5 in /usr/local/lib/python3.10/dist-packages (from python-dateutil>=2.8.2->pandas>=2.0.0->pyLDAvis) (1.16.0)\n",
            "Requirement already satisfied: wrapt in /usr/local/lib/python3.10/dist-packages (from smart-open>=1.8.1->gensim->pyLDAvis) (1.16.0)\n",
            "Downloading pyLDAvis-3.4.1-py3-none-any.whl (2.6 MB)\n",
            "\u001b[2K   \u001b[90m━━━━━━━━━━━━━━━━━━━━━━━━━━━━━━━━━━━━━━━━\u001b[0m \u001b[32m2.6/2.6 MB\u001b[0m \u001b[31m29.9 MB/s\u001b[0m eta \u001b[36m0:00:00\u001b[0m\n",
            "\u001b[?25hDownloading funcy-2.0-py2.py3-none-any.whl (30 kB)\n",
            "Installing collected packages: funcy, pyLDAvis\n",
            "Successfully installed funcy-2.0 pyLDAvis-3.4.1\n"
          ]
        }
      ]
    },
    {
      "cell_type": "code",
      "source": [
        "import pyLDAvis.gensim_models as gensimvis\n",
        "import pyLDAvis\n",
        "\n",
        "# Prepare data for visualization\n",
        "pyLDAvis.enable_notebook()\n",
        "vis = gensimvis.prepare(lda_model, bow, dictionary)\n",
        "pyLDAvis.display(vis)"
      ],
      "metadata": {
        "colab": {
          "base_uri": "https://localhost:8080/",
          "height": 861
        },
        "id": "HY_D11IEIgWu",
        "outputId": "866cec8e-923d-4d4a-b6c5-312f1cb15c2d"
      },
      "execution_count": null,
      "outputs": [
        {
          "output_type": "execute_result",
          "data": {
            "text/plain": [
              "<IPython.core.display.HTML object>"
            ],
            "text/html": [
              "\n",
              "<link rel=\"stylesheet\" type=\"text/css\" href=\"https://cdn.jsdelivr.net/gh/bmabey/pyLDAvis@3.4.0/pyLDAvis/js/ldavis.v1.0.0.css\">\n",
              "\n",
              "\n",
              "<div id=\"ldavis_el6101363629009697768646981816\" style=\"background-color:white;\"></div>\n",
              "<script type=\"text/javascript\">\n",
              "\n",
              "var ldavis_el6101363629009697768646981816_data = {\"mdsDat\": {\"x\": [-0.06440754121484078, -0.06485366377234891, 0.02191278184975876, 0.10734842313743095], \"y\": [-0.06886556939228196, 0.02931371185092318, 0.07936020405124633, -0.03980834650988763], \"topics\": [1, 2, 3, 4], \"cluster\": [1, 1, 1, 1], \"Freq\": [34.22668108963251, 31.435686925217748, 25.827008836504262, 8.510623148645486]}, \"tinfo\": {\"Term\": [\"parent\", \"father\", \"child\", \"leav\", \"women\", \"chen\", \"men\", \"popul\", \"swedish\", \"allow\", \"dad\", \"believ\", \"babi\", \"shanghai\", \"chines\", \"newborn\", \"paid\", \"gener\", \"career\", \"sweden\", \"consul\", \"yuan\", \"work\", \"world\", \"number\", \"gender\", \"tradit\", \"home\", \"lindahl\", \"spend\", \"statist\", \"nhc\", \"focu\", \"younger\", \"sculptur\", \"demograph\", \"dragon\", \"decad\", \"bureau\", \"decreas\", \"ningxia\", \"million\", \"sustain\", \"declin\", \"zhou\", \"strong\", \"autonom\", \"downward\", \"yuan\", \"number\", \"action\", \"growth\", \"citizen\", \"guo\", \"mortal\", \"despit\", \"nurs\", \"room\", \"kei\", \"contradict\", \"jiangsu\", \"econom\", \"popul\", \"incom\", \"china\", \"provinc\", \"annual\", \"addit\", \"year\", \"accord\", \"life\", \"old\", \"child\", \"develop\", \"countri\", \"polici\", \"women\", \"encourag\", \"subsidi\", \"famili\", \"matern\", \"region\", \"gener\", \"leav\", \"regul\", \"servic\", \"birth\", \"percent\", \"nation\", \"young\", \"childcar\", \"parent\", \"new\", \"work\", \"advanc\", \"cultur\", \"extra\", \"liaon\", \"desir\", \"grown\", \"swing\", \"yufeng\", \"preschool\", \"playground\", \"joi\", \"pilot\", \"spread\", \"group\", \"residenti\", \"prenat\", \"postnat\", \"optim\", \"xinyan\", \"level\", \"nurseri\", \"commun\", \"hesit\", \"workload\", \"childrear\", \"creation\", \"larger\", \"network\", \"heavi\", \"instal\", \"kindergarten\", \"enjoi\", \"hous\", \"support\", \"low\", \"career\", \"initi\", \"particularli\", \"famili\", \"child\", \"public\", \"friendli\", \"marriag\", \"offer\", \"educ\", \"parent\", \"plan\", \"have\", \"servic\", \"care\", \"rais\", \"fertil\", \"polici\", \"develop\", \"mother\", \"new\", \"leav\", \"coupl\", \"second\", \"countri\", \"popul\", \"women\", \"china\", \"matern\", \"region\", \"chen\", \"scienc\", \"philosophi\", \"compani\", \"wive\", \"premium\", \"field\", \"approach\", \"voic\", \"taoism\", \"highlight\", \"solut\", \"nourish\", \"reveal\", \"literatur\", \"parti\", \"art\", \"histori\", \"postpartum\", \"eventu\", \"decid\", \"shoulder\", \"inspir\", \"phenomenon\", \"contract\", \"critic\", \"write\", \"xia\", \"misgiv\", \"germani\", \"ask\", \"human\", \"insur\", \"session\", \"tradit\", \"contribut\", \"program\", \"detail\", \"suggest\", \"think\", \"social\", \"work\", \"enterpris\", \"cost\", \"propos\", \"femal\", \"discrimin\", \"feder\", \"leav\", \"employ\", \"need\", \"percent\", \"issu\", \"women\", \"govern\", \"patern\", \"nation\", \"employe\", \"matern\", \"share\", \"child\", \"father\", \"childcar\", \"promot\", \"china\", \"polici\", \"parent\", \"chines\", \"gender\", \"mother\", \"societi\", \"famili\", \"year\", \"swedish\", \"sweden\", \"consul\", \"lindahl\", \"photographi\", \"stai\", \"idea\", \"neutral\", \"liber\", \"bond\", \"debat\", \"exhibit\", \"contest\", \"space\", \"featur\", \"b\\u00e4vman\", \"shanghai\", \"dad\", \"believ\", \"articl\", \"humor\", \"ann\", \"goe\", \"plu\", \"defend\", \"transgend\", \"upbring\", \"argument\", \"minor\", \"present\", \"father\", \"men\", \"common\", \"thing\", \"time\", \"hold\", \"biggest\", \"spend\", \"parent\", \"paid\", \"world\", \"allow\", \"leav\", \"child\", \"women\", \"babi\", \"newborn\", \"chines\", \"opportun\", \"gener\", \"home\", \"gender\", \"coupl\", \"second\", \"new\", \"right\", \"china\", \"countri\", \"famili\", \"patern\", \"matern\", \"includ\"], \"Freq\": [54.0, 19.0, 139.0, 82.0, 59.0, 13.0, 12.0, 47.0, 4.0, 16.0, 5.0, 5.0, 12.0, 5.0, 16.0, 9.0, 8.0, 14.0, 11.0, 3.0, 3.0, 16.0, 33.0, 8.0, 14.0, 17.0, 10.0, 6.0, 3.0, 4.0, 5.2949775259473535, 4.461379872213505, 4.460840537778395, 4.459841887512548, 4.458319273616951, 4.457981567981555, 4.456740149407532, 4.454446734831413, 4.447650578450025, 4.43973777826753, 4.433384210663989, 9.550891322097225, 3.61132031198104, 3.6065013384596263, 3.602723058877543, 3.6020245913987137, 3.601982321683975, 3.598621088217892, 13.79997957650252, 12.110428788887171, 2.7634786685454285, 6.998217371982744, 2.7620745002676, 2.7594293654982587, 2.758606801370278, 2.7558249116414895, 2.748196471358143, 2.7463065404227076, 6.170057818768533, 1.9142473234723265, 9.51764788676502, 9.551724962246714, 31.697146779694023, 7.011447566654555, 44.45362769697038, 12.93942153016836, 4.449017675961986, 8.719969996825947, 14.66687129880976, 9.510709324392803, 7.014868927094543, 10.424885260645507, 39.41939237565397, 13.820936313362473, 13.807969682794324, 17.264763445796405, 19.667554864521755, 9.499605273768198, 10.427732476297072, 18.969892092560954, 14.636123358935896, 9.550088423558455, 7.867269144525481, 20.475111661481787, 8.604222407479861, 11.23888785004124, 9.567394142063048, 10.397337160781454, 10.431706281564978, 8.714073032558082, 9.50440367753538, 11.183012260064912, 9.567898666144844, 8.749575976278111, 6.089179811459202, 4.409372122739457, 4.40637134432317, 3.5699414189642473, 3.5702299952752092, 3.5680173000793616, 3.568150169747718, 3.5673982104683635, 3.56644071842077, 3.566270894375902, 3.5656779634808617, 2.7304392977422967, 2.7288095682163624, 2.728874965006257, 2.728333936325418, 2.727896296855269, 2.728126742686325, 2.7272907018199635, 2.725467273230629, 9.352676855591959, 5.956515675871043, 5.251303682803762, 1.8904933087844926, 1.8902277770566367, 1.8907775253094612, 1.8902398183703313, 1.8907337198406748, 1.8901146302296767, 1.8899169865979968, 1.8898104832544549, 4.4085429329653705, 6.091170365178265, 4.41219103579718, 18.60431795449486, 7.771858315450872, 7.781219814022006, 3.567646095443391, 3.570482447645086, 33.19751985626288, 65.82091651904119, 9.465924995673825, 7.774334673894863, 10.199343973680028, 9.212192924803313, 11.97887408546067, 23.330751153785197, 10.231260098454662, 11.151378399645575, 13.297708517890888, 11.158381461603385, 11.986693465443446, 10.319954754259694, 17.027292843385347, 12.841676563899771, 9.459377012330137, 12.022659623796669, 23.165446338512147, 10.551517520964941, 10.316518412461827, 11.572968044292432, 13.193919037325143, 14.595620129732108, 14.815467943865457, 11.401606033013188, 8.336343475367043, 13.059318484715293, 5.020103561121115, 5.017863323711552, 5.821462442939855, 2.612312631377501, 2.6116039221924296, 2.6093166080716568, 2.6107930428986075, 2.6090080509318745, 2.6088347540529258, 2.6082684689760454, 2.6085756615734734, 1.8077027274005264, 1.8084975733216897, 1.8075759955294053, 1.8079329939227518, 1.80731195658392, 1.807374896099995, 1.8078848938047758, 1.8073298662023154, 1.8074939524203752, 1.807392635150596, 1.8063699106563265, 1.8074050865995757, 1.807372849286464, 1.8064847027818507, 1.8061648881676489, 1.8063980543423763, 1.8072783547284546, 1.8072135389666428, 4.21477897808627, 3.4136691252471216, 8.242318183451157, 6.629649494697653, 6.6346375792724395, 3.4192405516782123, 3.4147249398934743, 3.4141862867992607, 8.225966872424031, 4.21590711347738, 11.46647045592378, 17.89626498383798, 7.446913482193786, 9.72311681684982, 5.027528036068841, 5.8328379502733805, 5.8311124864668376, 3.527720304273186, 29.266873610313567, 10.786736645466585, 8.263499974411193, 10.697898797785237, 5.824831498011704, 18.10115511190743, 9.706725251823253, 9.742062122891767, 9.726017151623095, 5.154737497013839, 12.154772910092468, 5.676317778430406, 22.180947078766895, 7.450637318277657, 8.33636039567039, 6.636541798127347, 13.739582419876989, 10.730930956817966, 9.691408263900403, 6.644868917842197, 6.645955775827101, 6.650529039526293, 6.6643559471986515, 7.361542254362593, 6.662584771223252, 4.2382583046782365, 3.070081077937114, 3.0693674839265404, 2.4860178697723487, 1.9010092731972295, 1.9008091790984862, 1.3179521561469305, 1.3177074343194228, 1.3176445957794243, 1.317243171045373, 1.3170853440146788, 1.3163990662209561, 1.3163454454989896, 1.3159010792223989, 1.3154186051371148, 1.3143012257317743, 3.073005824151214, 3.073716045789337, 3.0705185870563882, 0.7328632971074841, 0.7327671844926384, 0.7327090110678633, 0.7326340319870422, 0.7326312216766666, 0.7326348750801549, 0.7326253200248779, 0.7326025003046279, 0.7325570294827507, 0.7325466313343609, 0.7325297694721072, 7.761392890639129, 4.831874095046929, 1.3161880681179556, 1.3181359504454953, 1.3174320239026136, 1.3173293913676964, 1.3162340447957006, 1.906611907962036, 10.131317288444883, 2.4907023199312377, 2.497876929907743, 3.664015894739646, 9.564424177375747, 11.926417654476712, 7.176518739312379, 3.0773152664935823, 2.49052987928659, 3.078796187649111, 1.9041320900866021, 2.4878843655114107, 1.9034369317120923, 2.4946207918941514, 2.50868043746606, 2.495575173297707, 2.494251179873552, 1.9078477700528123, 3.101527102091157, 2.512786413337234, 1.933395739615365, 1.917898788904957, 1.9158749157848611, 1.9145446272654647], \"Total\": [54.0, 19.0, 139.0, 82.0, 59.0, 13.0, 12.0, 47.0, 4.0, 16.0, 5.0, 5.0, 12.0, 5.0, 16.0, 9.0, 8.0, 14.0, 11.0, 3.0, 3.0, 16.0, 33.0, 8.0, 14.0, 17.0, 10.0, 6.0, 3.0, 4.0, 5.88584746312897, 5.034362147812153, 5.034515758276909, 5.034138451537454, 5.0342570397157305, 5.034258605882424, 5.0342413372193, 5.033919404480035, 5.033563884708554, 5.032939833871528, 5.033024878484257, 10.954621652407404, 4.181944765696631, 4.181953936847673, 4.181833784361153, 4.181238058057849, 4.18160110994476, 4.181277774261343, 16.059522824289566, 14.392163074993325, 3.3297614066160475, 8.433973506546458, 3.3295671489856917, 3.329648351562924, 3.3294258392191143, 3.3293840193252393, 3.329016999416227, 3.3288478432409057, 7.546147196696551, 2.477518384048029, 12.566078737323998, 12.678018700371279, 47.18164594948287, 9.24168676374266, 76.11020516280398, 20.193542750169282, 5.8401157799549805, 13.404418645879039, 27.364926382132733, 15.64765922362837, 10.637565538855235, 19.36168538074839, 139.34767362793878, 30.07244531499745, 32.58757585878842, 46.359575694371436, 59.54084884547367, 18.470337579530902, 21.798125183580925, 61.462349942801794, 40.108377217826416, 19.376485178095933, 14.066845887477777, 82.47185578768324, 17.21845313779499, 28.558628227788024, 21.3030210708693, 25.788976199390625, 26.929345521343595, 17.658268331366475, 24.118632262963345, 54.3364889661954, 28.352702917892415, 33.28951592758304, 6.677897360594005, 4.990679039947082, 4.9890577389800805, 4.1464659691252965, 4.147444310787014, 4.146271751205834, 4.146578264316637, 4.146120505660908, 4.145558588402126, 4.145867826447688, 4.145398683589203, 3.3036238717373325, 3.303007601005649, 3.30368937885771, 3.3031648398186553, 3.302710332550663, 3.303261233612742, 3.302393492908991, 3.3023775969229185, 11.750916094230178, 7.524712777187099, 6.640522649351504, 2.4594782723878508, 2.459358641065933, 2.4600934373686143, 2.459398519424067, 2.460168978125172, 2.459464540090601, 2.4593848770091715, 2.4592897798683664, 5.7961777003315715, 8.072642724617488, 5.84241727252697, 30.814794443539512, 11.727830537877523, 11.747826883904985, 4.953197567470745, 4.998570988785712, 61.462349942801794, 139.34767362793878, 15.355870401072231, 12.488817702687811, 17.711218896395163, 15.95983037866591, 22.53226732157541, 54.3364889661954, 18.924906726261188, 21.612378621015488, 28.558628227788024, 22.237835344416627, 25.42330847143238, 20.895646541638364, 46.359575694371436, 30.07244531499745, 18.796269907518322, 28.352702917892415, 82.47185578768324, 23.2145060914132, 24.19858278478841, 32.58757585878842, 47.18164594948287, 59.54084884547367, 76.11020516280398, 40.108377217826416, 19.376485178095933, 13.675363990789808, 5.610375797299296, 5.610808154030432, 7.0097712989133045, 3.1935413476224013, 3.1933857215718757, 3.19123542033123, 3.19323222707483, 3.191363377500511, 3.1912466087196885, 3.192947446421859, 3.1935109868239713, 2.3853223001046873, 2.3864743244489346, 2.3853286305999295, 2.3859684460224933, 2.38532729720544, 2.385445347905885, 2.3865329261136745, 2.386017304192199, 2.386387713092338, 2.3863412116135763, 2.385094674062576, 2.3864685011897215, 2.3864469204193623, 2.3853231383424705, 2.384934083560911, 2.385245690872749, 2.386443248812719, 2.386374078681768, 5.6585486965033, 4.588592476518738, 12.241268191983039, 9.773187239846628, 10.108282186445049, 4.84942908126177, 4.851938486137685, 4.851836432742843, 13.081683717921074, 6.237189745219836, 19.708449439343894, 33.28951592758304, 12.253011640979304, 17.234177065725433, 8.159017202787451, 9.812254457227944, 9.81256802673973, 5.435656262899746, 82.47185578768324, 23.13550656421138, 16.19345784574008, 25.788976199390625, 10.65346458973182, 59.54084884547367, 24.62645928404051, 26.647035157548768, 26.929345521343595, 9.57898693839614, 40.108377217826416, 11.506573488013414, 139.34767362793878, 19.079369327107734, 24.118632262963345, 15.680894730439608, 76.11020516280398, 46.359575694371436, 54.3364889661954, 16.958472315065546, 17.20383238555835, 18.796269907518322, 19.412492826083014, 61.462349942801794, 27.364926382132733, 4.901066321973376, 3.7211166695905424, 3.7214756199159558, 3.1312724644378003, 2.5417580182705155, 2.5417907171997136, 1.9513845480492193, 1.9515367945233462, 1.9515027273985592, 1.9517162166106417, 1.951750210095596, 1.9520317948321546, 1.9520844711316725, 1.9522741718713366, 1.9524410490818465, 1.9529829041373516, 5.378827359360564, 5.407027122995229, 5.416305284434255, 1.361933101763098, 1.3619623555192284, 1.3619936948109268, 1.3620207628793195, 1.3620239151994402, 1.3620360983666226, 1.362042658278043, 1.3620211986483353, 1.3620582313952032, 1.362068576434353, 1.3620662651203141, 19.079369327107734, 12.070506464842083, 2.795679796062354, 2.8032539130387897, 2.8037677588754146, 2.803834198709664, 2.8043496739878435, 4.960411745077365, 54.3364889661954, 8.888629963898639, 8.984839725425132, 16.826907662357268, 82.47185578768324, 139.34767362793878, 59.54084884547367, 12.960453120820276, 9.811752069347643, 16.958472315065546, 5.941238341526352, 14.066845887477777, 6.6210899687513765, 17.20383238555835, 23.2145060914132, 24.19858278478841, 28.352702917892415, 9.144350402412298, 76.11020516280398, 32.58757585878842, 61.462349942801794, 26.647035157548768, 40.108377217826416, 16.69006294631786], \"Category\": [\"Default\", \"Default\", \"Default\", \"Default\", \"Default\", \"Default\", \"Default\", \"Default\", \"Default\", \"Default\", \"Default\", \"Default\", \"Default\", \"Default\", \"Default\", \"Default\", \"Default\", \"Default\", \"Default\", \"Default\", \"Default\", \"Default\", \"Default\", \"Default\", \"Default\", \"Default\", \"Default\", \"Default\", \"Default\", \"Default\", \"Topic1\", \"Topic1\", \"Topic1\", \"Topic1\", \"Topic1\", \"Topic1\", \"Topic1\", \"Topic1\", \"Topic1\", \"Topic1\", \"Topic1\", \"Topic1\", \"Topic1\", \"Topic1\", \"Topic1\", \"Topic1\", \"Topic1\", \"Topic1\", \"Topic1\", \"Topic1\", \"Topic1\", \"Topic1\", \"Topic1\", \"Topic1\", \"Topic1\", \"Topic1\", \"Topic1\", \"Topic1\", \"Topic1\", \"Topic1\", \"Topic1\", \"Topic1\", \"Topic1\", \"Topic1\", \"Topic1\", \"Topic1\", \"Topic1\", \"Topic1\", \"Topic1\", \"Topic1\", \"Topic1\", \"Topic1\", \"Topic1\", \"Topic1\", \"Topic1\", \"Topic1\", \"Topic1\", \"Topic1\", \"Topic1\", \"Topic1\", \"Topic1\", \"Topic1\", \"Topic1\", \"Topic1\", \"Topic1\", \"Topic1\", \"Topic1\", \"Topic1\", \"Topic1\", \"Topic1\", \"Topic1\", \"Topic1\", \"Topic1\", \"Topic1\", \"Topic2\", \"Topic2\", \"Topic2\", \"Topic2\", \"Topic2\", \"Topic2\", \"Topic2\", \"Topic2\", \"Topic2\", \"Topic2\", \"Topic2\", \"Topic2\", \"Topic2\", \"Topic2\", \"Topic2\", \"Topic2\", \"Topic2\", \"Topic2\", \"Topic2\", \"Topic2\", \"Topic2\", \"Topic2\", \"Topic2\", \"Topic2\", \"Topic2\", \"Topic2\", \"Topic2\", \"Topic2\", \"Topic2\", \"Topic2\", \"Topic2\", \"Topic2\", \"Topic2\", \"Topic2\", \"Topic2\", \"Topic2\", \"Topic2\", \"Topic2\", \"Topic2\", \"Topic2\", \"Topic2\", \"Topic2\", \"Topic2\", \"Topic2\", \"Topic2\", \"Topic2\", \"Topic2\", \"Topic2\", \"Topic2\", \"Topic2\", \"Topic2\", \"Topic2\", \"Topic2\", \"Topic2\", \"Topic2\", \"Topic2\", \"Topic2\", \"Topic2\", \"Topic2\", \"Topic2\", \"Topic2\", \"Topic2\", \"Topic2\", \"Topic2\", \"Topic2\", \"Topic3\", \"Topic3\", \"Topic3\", \"Topic3\", \"Topic3\", \"Topic3\", \"Topic3\", \"Topic3\", \"Topic3\", \"Topic3\", \"Topic3\", \"Topic3\", \"Topic3\", \"Topic3\", \"Topic3\", \"Topic3\", \"Topic3\", \"Topic3\", \"Topic3\", \"Topic3\", \"Topic3\", \"Topic3\", \"Topic3\", \"Topic3\", \"Topic3\", \"Topic3\", \"Topic3\", \"Topic3\", \"Topic3\", \"Topic3\", \"Topic3\", \"Topic3\", \"Topic3\", \"Topic3\", \"Topic3\", \"Topic3\", \"Topic3\", \"Topic3\", \"Topic3\", \"Topic3\", \"Topic3\", \"Topic3\", \"Topic3\", \"Topic3\", \"Topic3\", \"Topic3\", \"Topic3\", \"Topic3\", \"Topic3\", \"Topic3\", \"Topic3\", \"Topic3\", \"Topic3\", \"Topic3\", \"Topic3\", \"Topic3\", \"Topic3\", \"Topic3\", \"Topic3\", \"Topic3\", \"Topic3\", \"Topic3\", \"Topic3\", \"Topic3\", \"Topic3\", \"Topic3\", \"Topic3\", \"Topic3\", \"Topic3\", \"Topic3\", \"Topic3\", \"Topic3\", \"Topic3\", \"Topic4\", \"Topic4\", \"Topic4\", \"Topic4\", \"Topic4\", \"Topic4\", \"Topic4\", \"Topic4\", \"Topic4\", \"Topic4\", \"Topic4\", \"Topic4\", \"Topic4\", \"Topic4\", \"Topic4\", \"Topic4\", \"Topic4\", \"Topic4\", \"Topic4\", \"Topic4\", \"Topic4\", \"Topic4\", \"Topic4\", \"Topic4\", \"Topic4\", \"Topic4\", \"Topic4\", \"Topic4\", \"Topic4\", \"Topic4\", \"Topic4\", \"Topic4\", \"Topic4\", \"Topic4\", \"Topic4\", \"Topic4\", \"Topic4\", \"Topic4\", \"Topic4\", \"Topic4\", \"Topic4\", \"Topic4\", \"Topic4\", \"Topic4\", \"Topic4\", \"Topic4\", \"Topic4\", \"Topic4\", \"Topic4\", \"Topic4\", \"Topic4\", \"Topic4\", \"Topic4\", \"Topic4\", \"Topic4\", \"Topic4\", \"Topic4\", \"Topic4\", \"Topic4\", \"Topic4\", \"Topic4\", \"Topic4\"], \"logprob\": [30.0, 29.0, 28.0, 27.0, 26.0, 25.0, 24.0, 23.0, 22.0, 21.0, 20.0, 19.0, 18.0, 17.0, 16.0, 15.0, 14.0, 13.0, 12.0, 11.0, 10.0, 9.0, 8.0, 7.0, 6.0, 5.0, 4.0, 3.0, 2.0, 1.0, -5.9045, -6.0759, -6.076, -6.0762, -6.0765, -6.0766, -6.0769, -6.0774, -6.0789, -6.0807, -6.0821, -5.3147, -6.2872, -6.2886, -6.2896, -6.2898, -6.2898, -6.2908, -4.9466, -5.0772, -6.5548, -5.6257, -6.5553, -6.5563, -6.5566, -6.5576, -6.5604, -6.5611, -5.7516, -6.922, -5.3182, -5.3146, -4.1151, -5.6238, -3.7769, -5.011, -6.0786, -5.4057, -4.8857, -5.3189, -5.6233, -5.2271, -3.8971, -4.9451, -4.9461, -4.7226, -4.5923, -5.3201, -5.2268, -4.6285, -4.8878, -5.3148, -5.5086, -4.5521, -5.4191, -5.1519, -5.3129, -5.2298, -5.2265, -5.4064, -5.3196, -5.1569, -5.3129, -5.4023, -5.6797, -6.0025, -6.0032, -6.2137, -6.2136, -6.2142, -6.2142, -6.2144, -6.2147, -6.2147, -6.2149, -6.4818, -6.4824, -6.4824, -6.4826, -6.4827, -6.4826, -6.4829, -6.4836, -5.2506, -5.7018, -5.8278, -6.8494, -6.8495, -6.8493, -6.8495, -6.8493, -6.8496, -6.8497, -6.8498, -6.0027, -5.6794, -6.0019, -4.5629, -5.4357, -5.4345, -6.2143, -6.2135, -3.9838, -3.2993, -5.2385, -5.4354, -5.1639, -5.2657, -5.0031, -4.3365, -5.1608, -5.0747, -4.8987, -5.0741, -5.0024, -5.1522, -4.6514, -4.9336, -5.2392, -4.9995, -4.3436, -5.13, -5.1525, -5.0376, -4.9065, -4.8055, -4.7906, -5.0525, -5.3656, -4.7202, -5.6763, -5.6767, -5.5282, -6.3295, -6.3298, -6.3306, -6.3301, -6.3308, -6.3308, -6.331, -6.3309, -6.6977, -6.6972, -6.6977, -6.6975, -6.6979, -6.6978, -6.6976, -6.6979, -6.6978, -6.6978, -6.6984, -6.6978, -6.6978, -6.6983, -6.6985, -6.6984, -6.6979, -6.6979, -5.8511, -6.0619, -5.1804, -5.3982, -5.3974, -6.0603, -6.0616, -6.0618, -5.1824, -5.8509, -4.8503, -4.4051, -5.2819, -5.0152, -5.6748, -5.5262, -5.5265, -6.0291, -3.9133, -4.9114, -5.1779, -4.9197, -5.5276, -4.3937, -5.0169, -5.0133, -5.0149, -5.6498, -4.792, -5.5534, -4.1905, -5.2814, -5.1691, -5.3971, -4.6694, -4.9166, -5.0185, -5.3959, -5.3957, -5.395, -5.393, -5.2935, -5.3932, -4.7355, -5.0579, -5.0581, -5.2689, -5.5372, -5.5373, -5.9035, -5.9037, -5.9038, -5.9041, -5.9042, -5.9047, -5.9048, -5.9051, -5.9055, -5.9063, -5.057, -5.0567, -5.0578, -6.4904, -6.4905, -6.4906, -6.4907, -6.4907, -6.4907, -6.4907, -6.4908, -6.4908, -6.4908, -6.4909, -4.1305, -4.6044, -5.9049, -5.9034, -5.9039, -5.904, -5.9048, -5.5343, -3.864, -5.2671, -5.2642, -4.8811, -3.9216, -3.7009, -4.2088, -5.0556, -5.2671, -5.0551, -5.5356, -5.2682, -5.536, -5.2655, -5.2599, -5.2651, -5.2656, -5.5336, -5.0477, -5.2582, -5.5203, -5.5284, -5.5294, -5.5301], \"loglift\": [30.0, 29.0, 28.0, 27.0, 26.0, 25.0, 24.0, 23.0, 22.0, 21.0, 20.0, 19.0, 18.0, 17.0, 16.0, 15.0, 14.0, 13.0, 12.0, 11.0, 10.0, 9.0, 8.0, 7.0, 6.0, 5.0, 4.0, 3.0, 2.0, 1.0, 0.9664, 0.9513, 0.9512, 0.951, 0.9507, 0.9506, 0.9503, 0.9499, 0.9484, 0.9468, 0.9453, 0.935, 0.9255, 0.9241, 0.9231, 0.9231, 0.923, 0.9221, 0.9205, 0.8995, 0.8858, 0.8856, 0.8853, 0.8843, 0.8841, 0.8831, 0.8804, 0.8798, 0.8708, 0.8142, 0.7943, 0.789, 0.6744, 0.796, 0.5344, 0.6271, 0.8001, 0.6422, 0.4485, 0.5743, 0.6558, 0.4531, -0.1905, 0.2947, 0.2135, 0.0844, -0.0355, 0.4072, 0.3348, -0.1034, 0.0641, 0.3647, 0.4911, -0.3211, 0.3784, 0.1396, 0.2717, 0.1638, 0.1238, 0.3659, 0.1409, -0.5086, -0.0141, -0.2641, 1.0649, 1.0334, 1.033, 1.0075, 1.0074, 1.007, 1.007, 1.0069, 1.0068, 1.0066, 1.0066, 0.9667, 0.9663, 0.9661, 0.966, 0.966, 0.9659, 0.9659, 0.9652, 0.929, 0.9235, 0.9225, 0.8941, 0.894, 0.894, 0.894, 0.894, 0.8939, 0.8938, 0.8938, 0.8836, 0.8756, 0.8765, 0.6526, 0.7458, 0.7453, 0.8291, 0.8208, 0.5413, 0.4072, 0.6734, 0.6832, 0.6054, 0.6077, 0.5254, 0.3118, 0.5422, 0.4955, 0.3929, 0.4676, 0.4054, 0.4518, 0.1556, 0.3063, 0.4706, 0.2993, -0.1126, 0.3687, 0.3047, 0.122, -0.117, -0.2487, -0.4793, -0.1006, 0.3138, 1.3077, 1.2426, 1.2421, 1.168, 1.1529, 1.1526, 1.1524, 1.1524, 1.1523, 1.1522, 1.1515, 1.1514, 1.0765, 1.0764, 1.0764, 1.0763, 1.0763, 1.0762, 1.0761, 1.076, 1.0759, 1.0759, 1.0758, 1.0758, 1.0758, 1.0758, 1.0758, 1.0758, 1.0758, 1.0758, 1.0592, 1.058, 0.9582, 0.9657, 0.9327, 1.0043, 1.0025, 1.0023, 0.8898, 0.9621, 0.8121, 0.7331, 0.8558, 0.7814, 0.8696, 0.8336, 0.8333, 0.9214, 0.3177, 0.5907, 0.681, 0.4738, 0.75, 0.1631, 0.4227, 0.3475, 0.3353, 0.7341, 0.1599, 0.6471, -0.484, 0.4134, 0.2914, 0.4939, -0.3582, -0.1095, -0.3702, 0.4168, 0.4026, 0.3148, 0.2846, -0.7684, -0.059, 2.3186, 2.2715, 2.2712, 2.2331, 2.1734, 2.1733, 2.0714, 2.0711, 2.0711, 2.0707, 2.0705, 2.0699, 2.0698, 2.0694, 2.0689, 2.0678, 1.904, 1.899, 1.8963, 1.8442, 1.844, 1.8439, 1.8438, 1.8438, 1.8438, 1.8437, 1.8437, 1.8436, 1.8436, 1.8436, 1.5644, 1.5483, 1.7105, 1.7093, 1.7086, 1.7085, 1.7075, 1.5077, 0.7843, 1.1916, 1.1838, 0.9394, 0.3094, 0.0056, 0.348, 1.026, 1.0928, 0.7576, 1.326, 0.7315, 1.2173, 0.5329, 0.2388, 0.1921, 0.0331, 0.8967, -0.7364, -0.0987, -0.9953, -0.1676, -0.5776, 0.2985]}, \"token.table\": {\"Topic\": [1, 2, 3, 4, 1, 1, 2, 3, 2, 1, 2, 3, 4, 4, 1, 3, 3, 4, 3, 4, 1, 3, 1, 1, 2, 3, 4, 1, 2, 4, 1, 4, 1, 2, 3, 4, 4, 1, 4, 1, 2, 3, 4, 2, 3, 4, 3, 1, 2, 3, 4, 1, 2, 3, 2, 1, 2, 3, 4, 1, 2, 3, 4, 1, 2, 4, 2, 3, 3, 4, 4, 4, 3, 1, 1, 3, 1, 2, 3, 1, 2, 3, 4, 1, 2, 3, 4, 2, 3, 2, 2, 4, 4, 1, 3, 1, 1, 4, 1, 2, 1, 1, 3, 1, 2, 3, 4, 1, 2, 3, 1, 1, 1, 2, 1, 2, 3, 1, 2, 3, 1, 2, 3, 4, 1, 2, 3, 2, 3, 4, 2, 3, 3, 4, 2, 1, 2, 3, 4, 1, 2, 3, 4, 4, 1, 3, 4, 1, 2, 3, 1, 2, 3, 3, 1, 1, 2, 3, 1, 2, 3, 4, 1, 2, 3, 4, 3, 4, 1, 2, 3, 4, 2, 2, 1, 2, 1, 1, 2, 3, 4, 2, 2, 3, 3, 1, 4, 1, 3, 4, 1, 2, 3, 4, 4, 4, 1, 2, 3, 4, 1, 2, 3, 2, 3, 3, 2, 1, 2, 3, 1, 2, 3, 1, 3, 2, 1, 3, 2, 3, 2, 1, 2, 3, 4, 1, 2, 2, 4, 1, 2, 3, 4, 4, 3, 1, 2, 3, 1, 2, 1, 2, 3, 4, 1, 2, 3, 4, 1, 3, 4, 3, 1, 1, 2, 3, 4, 1, 2, 3, 4, 1, 2, 3, 4, 2, 4, 1, 2, 3, 4, 1, 3, 4, 1, 1, 3, 1, 2, 1, 1, 2, 1, 2, 3, 1, 2, 3, 1, 2, 4, 2, 2, 3, 4, 1, 2, 3, 4, 3, 1, 2, 1, 2, 3, 4, 1, 2, 3, 4, 3, 3, 4, 2, 1, 2, 3, 4, 2, 4, 1, 2, 3, 4, 1, 2, 3, 4, 2, 3, 3, 2, 2, 4, 1, 3, 1, 2, 3, 1, 2, 3, 1, 2, 3, 1, 2, 3, 4, 1, 2, 3, 4, 1, 2, 3, 1, 2, 3, 4, 2, 3, 1, 2, 3, 4, 1, 3, 1, 1, 2, 3, 4, 1, 2, 3, 1, 2, 3, 1, 3, 4, 1, 2, 3, 3, 1, 2, 3, 1, 2, 3, 4, 3, 4, 3, 4, 2, 4, 1, 1, 1, 2, 3, 1, 2, 3, 1, 2, 3, 4, 1, 4, 4, 2, 3, 1, 4, 2, 3, 4, 1, 4, 1, 3, 4, 4, 4, 3, 3, 1, 2, 3, 4, 1, 2, 3, 4, 2, 1, 2, 3, 4, 3, 3, 2, 1, 2, 3, 4, 1, 2, 3, 1, 1, 2, 3, 2, 1], \"Freq\": [0.6390732222043628, 0.12781464444087257, 0.19172196666130883, 0.06390732222043628, 0.9009654547737774, 0.671420390377534, 0.14920453119500757, 0.22380679679251134, 0.8984864061262383, 0.23771450347637096, 0.3565717552145565, 0.23771450347637096, 0.23771450347637096, 0.7342177895609281, 0.684917928122109, 0.17122948203052726, 0.939486948228679, 0.7341830011009629, 0.8384593604169646, 0.7342504552576368, 0.17672375968381257, 0.7068950387352503, 0.9565713933084453, 0.3086311846284304, 0.3086311846284304, 0.1543155923142152, 0.23147338847132282, 0.18462770237007647, 0.18462770237007647, 0.5538831071102294, 0.35658891231562406, 0.35658891231562406, 0.46941698863897036, 0.32859189204727923, 0.1408250965916911, 0.046941698863897034, 0.5123695706830802, 0.7946655871700736, 0.5120372522880369, 0.17987362250185476, 0.49465246188010065, 0.26981043375278213, 0.04496840562546369, 0.6809770078379632, 0.1702442519594908, 0.1702442519594908, 0.9506145510097824, 0.27987550121669647, 0.4736354635974863, 0.15787848786582878, 0.0861155388359066, 0.41461720925842194, 0.24877032555505316, 0.33169376740673756, 0.8129772510345203, 0.5781090709962159, 0.19708263783961905, 0.18394379531697777, 0.039416527567923805, 0.23587030280118365, 0.23587030280118365, 0.4127730299020714, 0.17690272710088772, 0.9010180199891479, 0.35769475510338317, 0.35769475510338317, 0.7529527815838843, 0.15059055631677687, 0.8559480394075274, 0.14265800656792124, 0.8061318429563569, 0.512272913794696, 0.8380659896045568, 0.8072593983065388, 0.2062098410437648, 0.6186295231312944, 0.17407271542812838, 0.290121192380214, 0.580242384760428, 0.42961158144030503, 0.36823849837740436, 0.1534327076572518, 0.09205962459435109, 0.2153825707215648, 0.47384165558744257, 0.2153825707215648, 0.12922954243293888, 0.8132069626797827, 0.8384608222891652, 0.8014941389703981, 0.3698890267249293, 0.5548335400873939, 0.5123606467812397, 0.7946094640371321, 0.8380867823897535, 0.9564906884209182, 0.7947641203815163, 0.7341949315434572, 0.7945559243472485, 0.9644493573057681, 0.9010675796443587, 0.20610752523548684, 0.6183225757064605, 0.4655424543416844, 0.43228942188870695, 0.09975909735893236, 0.033253032452977456, 0.20382024303422935, 0.20382024303422935, 0.6114607291026881, 0.9566453643962062, 0.7945586498658861, 0.7887667810197462, 0.23663003430592386, 0.22190398900568387, 0.5325695736136413, 0.22190398900568387, 0.30256523584525236, 0.21611802560375168, 0.4754596563282537, 0.10439517314629884, 0.3131855194388965, 0.5219758657314941, 0.10439517314629884, 0.48726775898096913, 0.3248451726539794, 0.1624225863269897, 0.743251027535633, 0.12387517125593883, 0.12387517125593883, 0.32645035499862674, 0.5712881212475969, 0.8382168882371591, 0.5122867376686274, 0.8017546016249805, 0.30913233902839404, 0.5369140625230002, 0.11389086174730308, 0.032540246213515166, 0.05241263392177289, 0.15723790176531866, 0.36688843745241023, 0.4193010713741831, 0.5121793564370404, 0.18397042631730587, 0.7358817052692235, 0.18397042631730587, 0.2038267565031145, 0.2038267565031145, 0.6114802695093435, 0.2871411510547861, 0.4785685850913102, 0.19142743403652407, 0.9400748001501622, 0.7945153401146613, 0.16014326156506914, 0.6405730462602766, 0.2402148923476037, 0.1743797505559477, 0.2906329175932462, 0.40688608463054465, 0.11625316703729847, 0.5687131332775567, 0.07108914165969459, 0.21326742497908377, 0.14217828331938917, 0.8380915707502149, 0.7342031981113081, 0.32485384552153224, 0.2436403841411492, 0.40606730690191534, 0.04060673069019153, 0.9080756862914533, 0.9647221021720791, 0.8299765222841397, 0.11856807461201996, 0.9009960462016392, 0.3701582384930525, 0.5089675779279472, 0.09253955962326313, 0.046269779811631565, 0.8132114736072444, 0.8131805929955405, 0.9395707415610354, 0.8384178668170887, 0.3566544699612424, 0.3566544699612424, 0.15103253463093824, 0.45309760389281467, 0.3020650692618765, 0.1711620299190781, 0.6846481196763124, 0.6537952575548903, 0.21793175251829677, 0.7342346842022403, 0.5124566559675234, 0.2995794573143353, 0.23966356585146822, 0.35949534877720235, 0.11983178292573411, 0.7574374872196132, 0.10820535531708761, 0.10820535531708761, 0.8075591464934282, 0.20188978662335705, 0.8385411370666318, 0.8132429193061788, 0.2450726471269323, 0.0816908823756441, 0.6535270590051528, 0.18773235534360058, 0.2815985330154009, 0.5631970660308018, 0.7957931992179721, 0.23873795976539164, 0.9649252835041399, 0.7951077342655862, 0.13251795571093106, 0.6901099667408712, 0.1725274916852178, 0.8129522881489815, 0.24250697172970492, 0.27888301748916067, 0.3516351090080721, 0.12125348586485246, 0.17019949627433906, 0.7658977332345258, 0.9646769151812926, 0.5124256225524444, 0.6580452994091078, 0.09400647134415825, 0.1880129426883165, 0.09400647134415825, 0.6387179725540387, 0.8384588917196637, 0.2558017862136447, 0.6821380965697192, 0.0852672620712149, 0.3952297151849181, 0.5646138788355973, 0.37398670902429726, 0.2742569199511513, 0.2991893672194378, 0.049864894536572966, 0.16569313026138757, 0.08284656513069379, 0.33138626052277514, 0.4142328256534689, 0.9128567208710842, 0.09128567208710842, 0.7341774249119069, 0.8380672789914536, 0.9010562616116483, 0.10640409027112448, 0.4788184062200601, 0.37241431594893565, 0.05320204513556224, 0.37134211048962273, 0.18567105524481137, 0.37134211048962273, 0.03713421104896227, 0.12350666664600782, 0.30876666661501956, 0.49402666658403127, 0.06175333332300391, 0.8131851333487105, 0.5124166773623376, 0.35270005928391907, 0.4232400711407029, 0.14108002371356762, 0.07054001185678381, 0.4076743859535731, 0.3057557894651798, 0.20383719297678654, 0.7945395826834449, 0.7947506910008832, 0.8384611169367862, 0.8337871060431662, 0.13896451767386103, 0.9011669212040903, 0.13289543795368913, 0.7973726277221349, 0.3132865375990263, 0.5639157676782474, 0.06265730751980526, 0.5164839632165052, 0.36153877425155373, 0.10329679264330106, 0.5049452365900667, 0.1683150788633556, 0.3366301577267112, 0.9084320225441638, 0.3375098313446014, 0.3375098313446014, 0.22500655422973426, 0.2024422300609721, 0.42328829921839617, 0.18403839096452007, 0.18403839096452007, 0.8382340526481319, 0.2000571767898263, 0.8002287071593052, 0.30022101718636046, 0.2626933900380654, 0.37527627148295056, 0.07505525429659012, 0.387762582069322, 0.11632877462079662, 0.42653884027625427, 0.0775525164138644, 0.8380584109963923, 0.8911372235046624, 0.7868569649918354, 0.9080936924040143, 0.2113616757988768, 0.528404189497192, 0.2113616757988768, 0.0528404189497192, 0.9648160933840787, 0.734201498843411, 0.36669878326914856, 0.36669878326914856, 0.23727568329180201, 0.021570516662891094, 0.6782298361159809, 0.27553087092211725, 0.042389364757248804, 0.021194682378624402, 0.9081933846082563, 0.83803578744538, 0.9394417904904122, 0.9083448737337854, 0.9648880638644572, 0.7341786707504043, 0.20610319006662334, 0.61830957019987, 0.1275437425211215, 0.4464030988239252, 0.4464030988239252, 0.24512756258397383, 0.12256378129198692, 0.6128189064599345, 0.6437701477563179, 0.19808312238655934, 0.1485623417899195, 0.13024334979151356, 0.5860950740618109, 0.19536502468727032, 0.06512167489575678, 0.2753378856204238, 0.4720078039207265, 0.1966699183003027, 0.03933398366006054, 0.5160894717533424, 0.412871577402674, 0.05160894717533425, 0.5226950370033383, 0.11615445266740852, 0.34846335800222555, 0.05807722633370426, 0.908219887737937, 0.8380563660419116, 0.10935713921638414, 0.32807141764915243, 0.43742855686553656, 0.21871427843276828, 0.901212714210228, 0.8912058979020413, 0.7945561715350689, 0.3719226072056391, 0.413247341339599, 0.1239742024018797, 0.0826494682679198, 0.38517256194038113, 0.45520393683863225, 0.14006274979650224, 0.204641531049945, 0.1023207655249725, 0.7162453586748075, 0.18591412833872403, 0.18591412833872403, 0.5577423850161721, 0.17381369024266283, 0.34762738048532565, 0.5214410707279885, 0.8381031137821472, 0.2536982939925513, 0.15221897639553078, 0.5581362467836128, 0.20605287717739784, 0.36059253506044625, 0.36059253506044625, 0.05151321929434946, 0.9394049409498281, 0.5122231366926594, 0.6047885042964736, 0.40319233619764905, 0.908263123308165, 0.7868468424510561, 0.8494953413797705, 0.9566544512555134, 0.4587550496100616, 0.3211285347270431, 0.18350201984402464, 0.22932827797160324, 0.15288551864773547, 0.6115420745909419, 0.25961555624386917, 0.6165869460791893, 0.12980777812193459, 0.032451944530483647, 0.95649278603843, 0.8062096049060747, 0.8161489229530424, 0.9646507903690097, 0.9400715042838963, 0.3567282989773758, 0.3567282989773758, 0.16032861606725962, 0.6413144642690385, 0.16032861606725962, 0.35666292146860906, 0.35666292146860906, 0.19785755513255748, 0.6925014429639512, 0.09892877756627874, 0.7341913954914202, 0.7342029632082058, 0.9400371080116902, 0.9393960100856394, 0.3359038439627555, 0.25192788297206664, 0.30231345956648, 0.11756634538696444, 0.2703553881521833, 0.15019743786232403, 0.5407107763043666, 0.03003948757246481, 0.8132201487836527, 0.33389577239877255, 0.22259718159918168, 0.22259718159918168, 0.22259718159918168, 0.8385976005734417, 0.838488046599598, 0.9084363952793687, 0.5481469158928155, 0.1827156386309385, 0.25580189408331394, 0.0365431277261877, 0.5096762508707183, 0.39641486178833646, 0.11326138908238184, 0.7945748887336179, 0.8717569104123942, 0.06226835074374245, 0.06226835074374245, 0.9647572940869901, 0.9565181703201215], \"Term\": [\"accord\", \"accord\", \"accord\", \"accord\", \"action\", \"addit\", \"addit\", \"addit\", \"advanc\", \"allow\", \"allow\", \"allow\", \"allow\", \"ann\", \"annual\", \"annual\", \"approach\", \"argument\", \"art\", \"articl\", \"ask\", \"ask\", \"autonom\", \"babi\", \"babi\", \"babi\", \"babi\", \"believ\", \"believ\", \"believ\", \"biggest\", \"biggest\", \"birth\", \"birth\", \"birth\", \"birth\", \"bond\", \"bureau\", \"b\\u00e4vman\", \"care\", \"care\", \"care\", \"care\", \"career\", \"career\", \"career\", \"chen\", \"child\", \"child\", \"child\", \"child\", \"childcar\", \"childcar\", \"childcar\", \"childrear\", \"china\", \"china\", \"china\", \"china\", \"chines\", \"chines\", \"chines\", \"chines\", \"citizen\", \"common\", \"common\", \"commun\", \"commun\", \"compani\", \"compani\", \"consul\", \"contest\", \"contract\", \"contradict\", \"contribut\", \"contribut\", \"cost\", \"cost\", \"cost\", \"countri\", \"countri\", \"countri\", \"countri\", \"coupl\", \"coupl\", \"coupl\", \"coupl\", \"creation\", \"critic\", \"cultur\", \"dad\", \"dad\", \"debat\", \"decad\", \"decid\", \"declin\", \"decreas\", \"defend\", \"demograph\", \"desir\", \"despit\", \"detail\", \"detail\", \"develop\", \"develop\", \"develop\", \"develop\", \"discrimin\", \"discrimin\", \"discrimin\", \"downward\", \"dragon\", \"econom\", \"econom\", \"educ\", \"educ\", \"educ\", \"employ\", \"employ\", \"employ\", \"employe\", \"employe\", \"employe\", \"employe\", \"encourag\", \"encourag\", \"encourag\", \"enjoi\", \"enjoi\", \"enjoi\", \"enterpris\", \"enterpris\", \"eventu\", \"exhibit\", \"extra\", \"famili\", \"famili\", \"famili\", \"famili\", \"father\", \"father\", \"father\", \"father\", \"featur\", \"feder\", \"feder\", \"feder\", \"femal\", \"femal\", \"femal\", \"fertil\", \"fertil\", \"fertil\", \"field\", \"focu\", \"friendli\", \"friendli\", \"friendli\", \"gender\", \"gender\", \"gender\", \"gender\", \"gener\", \"gener\", \"gener\", \"gener\", \"germani\", \"goe\", \"govern\", \"govern\", \"govern\", \"govern\", \"group\", \"grown\", \"growth\", \"growth\", \"guo\", \"have\", \"have\", \"have\", \"have\", \"heavi\", \"hesit\", \"highlight\", \"histori\", \"hold\", \"hold\", \"home\", \"home\", \"home\", \"hous\", \"hous\", \"human\", \"human\", \"humor\", \"idea\", \"includ\", \"includ\", \"includ\", \"includ\", \"incom\", \"incom\", \"incom\", \"initi\", \"initi\", \"inspir\", \"instal\", \"insur\", \"insur\", \"insur\", \"issu\", \"issu\", \"issu\", \"jiangsu\", \"jiangsu\", \"joi\", \"kei\", \"kei\", \"kindergarten\", \"kindergarten\", \"larger\", \"leav\", \"leav\", \"leav\", \"leav\", \"level\", \"level\", \"liaon\", \"liber\", \"life\", \"life\", \"life\", \"life\", \"lindahl\", \"literatur\", \"low\", \"low\", \"low\", \"marriag\", \"marriag\", \"matern\", \"matern\", \"matern\", \"matern\", \"men\", \"men\", \"men\", \"men\", \"million\", \"million\", \"minor\", \"misgiv\", \"mortal\", \"mother\", \"mother\", \"mother\", \"mother\", \"nation\", \"nation\", \"nation\", \"nation\", \"need\", \"need\", \"need\", \"need\", \"network\", \"neutral\", \"new\", \"new\", \"new\", \"new\", \"newborn\", \"newborn\", \"newborn\", \"nhc\", \"ningxia\", \"nourish\", \"number\", \"number\", \"nurs\", \"nurseri\", \"nurseri\", \"offer\", \"offer\", \"offer\", \"old\", \"old\", \"old\", \"opportun\", \"opportun\", \"opportun\", \"optim\", \"paid\", \"paid\", \"paid\", \"parent\", \"parent\", \"parent\", \"parent\", \"parti\", \"particularli\", \"particularli\", \"patern\", \"patern\", \"patern\", \"patern\", \"percent\", \"percent\", \"percent\", \"percent\", \"phenomenon\", \"philosophi\", \"photographi\", \"pilot\", \"plan\", \"plan\", \"plan\", \"plan\", \"playground\", \"plu\", \"polici\", \"polici\", \"polici\", \"polici\", \"popul\", \"popul\", \"popul\", \"popul\", \"postnat\", \"postpartum\", \"premium\", \"prenat\", \"preschool\", \"present\", \"program\", \"program\", \"promot\", \"promot\", \"promot\", \"propos\", \"propos\", \"propos\", \"provinc\", \"provinc\", \"provinc\", \"public\", \"public\", \"public\", \"public\", \"rais\", \"rais\", \"rais\", \"rais\", \"region\", \"region\", \"region\", \"regul\", \"regul\", \"regul\", \"regul\", \"residenti\", \"reveal\", \"right\", \"right\", \"right\", \"right\", \"room\", \"scienc\", \"sculptur\", \"second\", \"second\", \"second\", \"second\", \"servic\", \"servic\", \"servic\", \"session\", \"session\", \"session\", \"shanghai\", \"shanghai\", \"shanghai\", \"share\", \"share\", \"share\", \"shoulder\", \"social\", \"social\", \"social\", \"societi\", \"societi\", \"societi\", \"societi\", \"solut\", \"space\", \"spend\", \"spend\", \"spread\", \"stai\", \"statist\", \"strong\", \"subsidi\", \"subsidi\", \"subsidi\", \"suggest\", \"suggest\", \"suggest\", \"support\", \"support\", \"support\", \"support\", \"sustain\", \"sweden\", \"swedish\", \"swing\", \"taoism\", \"thing\", \"thing\", \"think\", \"think\", \"think\", \"time\", \"time\", \"tradit\", \"tradit\", \"tradit\", \"transgend\", \"upbring\", \"voic\", \"wive\", \"women\", \"women\", \"women\", \"women\", \"work\", \"work\", \"work\", \"work\", \"workload\", \"world\", \"world\", \"world\", \"world\", \"write\", \"xia\", \"xinyan\", \"year\", \"year\", \"year\", \"year\", \"young\", \"young\", \"young\", \"younger\", \"yuan\", \"yuan\", \"yuan\", \"yufeng\", \"zhou\"]}, \"R\": 30, \"lambda.step\": 0.01, \"plot.opts\": {\"xlab\": \"PC1\", \"ylab\": \"PC2\"}, \"topic.order\": [3, 2, 1, 4]};\n",
              "\n",
              "function LDAvis_load_lib(url, callback){\n",
              "  var s = document.createElement('script');\n",
              "  s.src = url;\n",
              "  s.async = true;\n",
              "  s.onreadystatechange = s.onload = callback;\n",
              "  s.onerror = function(){console.warn(\"failed to load library \" + url);};\n",
              "  document.getElementsByTagName(\"head\")[0].appendChild(s);\n",
              "}\n",
              "\n",
              "if(typeof(LDAvis) !== \"undefined\"){\n",
              "   // already loaded: just create the visualization\n",
              "   !function(LDAvis){\n",
              "       new LDAvis(\"#\" + \"ldavis_el6101363629009697768646981816\", ldavis_el6101363629009697768646981816_data);\n",
              "   }(LDAvis);\n",
              "}else if(typeof define === \"function\" && define.amd){\n",
              "   // require.js is available: use it to load d3/LDAvis\n",
              "   require.config({paths: {d3: \"https://d3js.org/d3.v5\"}});\n",
              "   require([\"d3\"], function(d3){\n",
              "      window.d3 = d3;\n",
              "      LDAvis_load_lib(\"https://cdn.jsdelivr.net/gh/bmabey/pyLDAvis@3.4.0/pyLDAvis/js/ldavis.v3.0.0.js\", function(){\n",
              "        new LDAvis(\"#\" + \"ldavis_el6101363629009697768646981816\", ldavis_el6101363629009697768646981816_data);\n",
              "      });\n",
              "    });\n",
              "}else{\n",
              "    // require.js not available: dynamically load d3 & LDAvis\n",
              "    LDAvis_load_lib(\"https://d3js.org/d3.v5.js\", function(){\n",
              "         LDAvis_load_lib(\"https://cdn.jsdelivr.net/gh/bmabey/pyLDAvis@3.4.0/pyLDAvis/js/ldavis.v3.0.0.js\", function(){\n",
              "                 new LDAvis(\"#\" + \"ldavis_el6101363629009697768646981816\", ldavis_el6101363629009697768646981816_data);\n",
              "            })\n",
              "         });\n",
              "}\n",
              "</script>"
            ]
          },
          "metadata": {},
          "execution_count": 42
        }
      ]
    },
    {
      "cell_type": "code",
      "source": [],
      "metadata": {
        "colab": {
          "base_uri": "https://localhost:8080/"
        },
        "id": "44p2cd2cI0Qf",
        "outputId": "866efba6-43bd-4988-9cba-d9b89ae617ee"
      },
      "execution_count": null,
      "outputs": [
        {
          "output_type": "stream",
          "name": "stderr",
          "text": [
            "/usr/local/lib/python3.10/dist-packages/ipykernel/ipkernel.py:283: DeprecationWarning: `should_run_async` will not call `transform_cell` automatically in the future. Please pass the result to `transformed_cell` argument and any exception that happen during thetransform in `preprocessing_exc_tuple` in IPython 7.17 and above.\n",
            "  and should_run_async(code)\n"
          ]
        }
      ]
    },
    {
      "cell_type": "markdown",
      "source": [
        "## 3. Bar Charts for Topic Distribution in Documents"
      ],
      "metadata": {
        "id": "FTshfyfnI73W"
      }
    },
    {
      "cell_type": "code",
      "source": [
        "# Function to plot top words in bar charts with corrected dictionary mapping\n",
        "def plot_top_words(model, dictionary, n_top_words, title):\n",
        "    n_topics = model.num_topics\n",
        "    n_cols = 5\n",
        "    n_rows = (n_topics + n_cols - 1) // n_cols\n",
        "    fig, axes = plt.subplots(n_rows, n_cols, figsize=(n_cols * 6, n_rows * 4), sharex=True)\n",
        "    axes = axes.flatten()\n",
        "    for i in range(n_cols * n_rows):\n",
        "        if i < n_topics:\n",
        "            top_features_ind = [x[0] for x in model.get_topic_terms(i, topn=n_top_words)]\n",
        "            top_features = [dictionary[id] for id in top_features_ind]\n",
        "            weights = [x[1] for x in model.get_topic_terms(i, topn=n_top_words)]\n",
        "            axes[i].barh(top_features, weights, height=0.7)\n",
        "            axes[i].set_title(f'Topic {i + 1}', fontdict={'fontsize': 15})\n",
        "            axes[i].invert_yaxis()\n",
        "            axes[i].tick_params(axis='both', which='major', labelsize=12)\n",
        "        else:\n",
        "            axes[i].axis('off')\n",
        "        for spine in 'top right left'.split():\n",
        "            axes[i].spines[spine].set_visible(False)\n",
        "    fig.suptitle(title, fontsize=20)\n",
        "    plt.subplots_adjust(top=0.70, hspace=0.3)\n",
        "    plt.show()\n",
        "\n",
        "# Plot top words in bar charts\n",
        "plot_top_words(lda_model, dictionary.id2token, 10, \"Top words per topic in Gensim LDA model\")\n",
        "\n"
      ],
      "metadata": {
        "colab": {
          "base_uri": "https://localhost:8080/",
          "height": 271
        },
        "id": "W9r19tdwI-W-",
        "outputId": "b7a51aef-11bd-43fe-ce22-23cfa4a1ec75"
      },
      "execution_count": null,
      "outputs": [
        {
          "output_type": "stream",
          "name": "stderr",
          "text": [
            "/usr/local/lib/python3.10/dist-packages/ipykernel/ipkernel.py:283: DeprecationWarning: `should_run_async` will not call `transform_cell` automatically in the future. Please pass the result to `transformed_cell` argument and any exception that happen during thetransform in `preprocessing_exc_tuple` in IPython 7.17 and above.\n",
            "  and should_run_async(code)\n"
          ]
        },
        {
          "output_type": "display_data",
          "data": {
            "text/plain": [
              "<Figure size 3000x400 with 5 Axes>"
            ],
            "image/png": "[encoded data removed]"
          },
          "metadata": {}
        }
      ]
    }
  ]
}